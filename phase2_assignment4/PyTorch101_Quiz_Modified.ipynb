{
  "nbformat": 4,
  "nbformat_minor": 0,
  "metadata": {
    "colab": {
      "name": "PyTorch101.ipynb",
      "provenance": []
    },
    "kernelspec": {
      "name": "python3",
      "display_name": "Python 3"
    }
  },
  "cells": [
    {
      "cell_type": "markdown",
      "metadata": {
        "id": "_kYM3ylzYo1Q",
        "colab_type": "text"
      },
      "source": [
        "![PyTorch](https://devblogs.nvidia.com/wp-content/uploads/2017/04/pytorch-logo-dark.png)\n",
        "\n",
        "An open source machine learning framework that accelerates the path from research prototyping to production deployment.\n",
        "\n"
      ]
    },
    {
      "cell_type": "markdown",
      "metadata": {
        "id": "WcVqSTrWY6oz",
        "colab_type": "text"
      },
      "source": [
        "# Tensor - Pytorch's core data structure\n",
        "\n",
        "In Python we can create lists, lists of lists, lists of lists and so on. In NumPy there is a `numpy.ndarray` which represents `n`- dimensional array. In math there is a special name for the generalization of vectors and matrices to a higher dimensional space - a tensor\n",
        "\n",
        "Tensor is an entity with a defined number of dimensions called an order (rank). \n",
        "\n",
        "**Scalar** can be considered as a rank-0-tensor. \n",
        "\n",
        "**Vector** can be introduced as a rank-1-tensor. \n",
        "\n",
        "**Matrices** can be considered as a rank-2-tensor.\n",
        "\n",
        "# Tensor Basics\n",
        "\n",
        "Let's import the torch module first."
      ]
    },
    {
      "cell_type": "code",
      "metadata": {
        "id": "e-oFVL2tYYqp",
        "colab_type": "code",
        "colab": {}
      },
      "source": [
        "import numpy as np\n",
        "import torch"
      ],
      "execution_count": 0,
      "outputs": []
    },
    {
      "cell_type": "markdown",
      "metadata": {
        "id": "uGxuR5IEaFJa",
        "colab_type": "text"
      },
      "source": [
        "## Tensor Creation\n",
        "Let's view examples of matrices and tensors generation\n",
        "\n",
        "2-dimensional (rank-2) tensor of zeros:"
      ]
    },
    {
      "cell_type": "code",
      "metadata": {
        "id": "897JQc25aD3E",
        "colab_type": "code",
        "outputId": "ae56aedc-9166-466b-8cb3-b9f7579fd1f9",
        "colab": {
          "base_uri": "https://localhost:8080/",
          "height": 67
        }
      },
      "source": [
        "torch.zeros(3, 4)"
      ],
      "execution_count": 3,
      "outputs": [
        {
          "output_type": "execute_result",
          "data": {
            "text/plain": [
              "tensor([[0., 0., 0., 0.],\n",
              "        [0., 0., 0., 0.],\n",
              "        [0., 0., 0., 0.]])"
            ]
          },
          "metadata": {
            "tags": []
          },
          "execution_count": 3
        }
      ]
    },
    {
      "cell_type": "markdown",
      "metadata": {
        "id": "pujmpEBhaPRA",
        "colab_type": "text"
      },
      "source": [
        "Random rank-3 tensor:\n",
        "_read the print below and convince yourself how this is a rank-3-tensor and learn what those 2, 3, 4 values are there for_"
      ]
    },
    {
      "cell_type": "code",
      "metadata": {
        "id": "mBrznTNhaOL7",
        "colab_type": "code",
        "outputId": "52c958e4-ae96-446e-f3fc-26938378a347",
        "colab": {
          "base_uri": "https://localhost:8080/",
          "height": 134
        }
      },
      "source": [
        "torch.rand(2, 3, 4)"
      ],
      "execution_count": 4,
      "outputs": [
        {
          "output_type": "execute_result",
          "data": {
            "text/plain": [
              "tensor([[[0.9689, 0.2014, 0.6846, 0.1314],\n",
              "         [0.8452, 0.3712, 0.8954, 0.7438],\n",
              "         [0.5543, 0.0688, 0.5537, 0.5374]],\n",
              "\n",
              "        [[0.1561, 0.8417, 0.7922, 0.9557],\n",
              "         [0.1404, 0.4156, 0.0742, 0.3091],\n",
              "         [0.8653, 0.4683, 0.7096, 0.5155]]])"
            ]
          },
          "metadata": {
            "tags": []
          },
          "execution_count": 4
        }
      ]
    },
    {
      "cell_type": "markdown",
      "metadata": {
        "id": "kO4fIr15asdi",
        "colab_type": "text"
      },
      "source": [
        "I am hoping you have noticed 4-elements in a row, 3 rows making one block and there are 2 blocks. \n",
        "\n",
        "Random rank-4-tensor:"
      ]
    },
    {
      "cell_type": "code",
      "metadata": {
        "id": "KiCLvMGCaVZ3",
        "colab_type": "code",
        "outputId": "b5e3c585-991d-44d6-e8a8-09bbd825dd2c",
        "colab": {
          "base_uri": "https://localhost:8080/",
          "height": 217
        }
      },
      "source": [
        "torch.rand(2, 2, 2, 3)"
      ],
      "execution_count": 5,
      "outputs": [
        {
          "output_type": "execute_result",
          "data": {
            "text/plain": [
              "tensor([[[[0.2026, 0.7702, 0.0202],\n",
              "          [0.0733, 0.7502, 0.8255]],\n",
              "\n",
              "         [[0.4839, 0.8497, 0.6153],\n",
              "          [0.7901, 0.9794, 0.3152]]],\n",
              "\n",
              "\n",
              "        [[[0.0566, 0.2585, 0.5521],\n",
              "          [0.4135, 0.9700, 0.1260]],\n",
              "\n",
              "         [[0.8105, 0.0991, 0.7032],\n",
              "          [0.4223, 0.4880, 0.9690]]]])"
            ]
          },
          "metadata": {
            "tags": []
          },
          "execution_count": 5
        }
      ]
    },
    {
      "cell_type": "markdown",
      "metadata": {
        "id": "lF6VL68s3AMV",
        "colab_type": "text"
      },
      "source": [
        "## Question 1:\n",
        "\n",
        "How many dimensions are there in a tensor defined as below?"
      ]
    },
    {
      "cell_type": "code",
      "metadata": {
        "id": "8IbXcI3x3Ibt",
        "colab_type": "code",
        "outputId": "7b757f5c-6a7c-4bd6-e772-f83011080b59",
        "colab": {
          "base_uri": "https://localhost:8080/",
          "height": 84
        }
      },
      "source": [
        "t = torch.rand(1, 1, 1, 1)\n",
        "# Command to find a dim of a tensor\n",
        "print(\"t dim()={}\".format(t.dim()))\n",
        "print(t)\n",
        "print(t.shape)\n",
        "print(t)"
      ],
      "execution_count": 6,
      "outputs": [
        {
          "output_type": "stream",
          "text": [
            "t dim()=4\n",
            "tensor([[[[0.9261]]]])\n",
            "torch.Size([1, 1, 1, 1])\n",
            "tensor([[[[0.9261]]]])\n"
          ],
          "name": "stdout"
        }
      ]
    },
    {
      "cell_type": "markdown",
      "metadata": {
        "id": "qmgpqssRa9jF",
        "colab_type": "text"
      },
      "source": [
        ".\n",
        "\n",
        "---\n",
        "\n",
        "\n",
        "There are many more ways to create tensor using some restrictions on values it should contatn - for the full reference, please follow the [official docs](https://pytorch.org/docs/stable/torch.html#creation-ops). \n",
        "\n",
        "\n",
        ".\n",
        "---\n",
        "\n",
        "\n",
        "# Python / NumPy / Pytorch interoperability\n",
        "\n",
        "You can create tensors from python as well as numpy arrays. You can also convert torch tensors to numpy arrays. So, the interoperability between torch and numpy is pretty good. "
      ]
    },
    {
      "cell_type": "code",
      "metadata": {
        "id": "ipgpeWPfa6gE",
        "colab_type": "code",
        "outputId": "3f8c4da6-476c-4a2d-d3b3-aefeae76e979",
        "colab": {
          "base_uri": "https://localhost:8080/",
          "height": 117
        }
      },
      "source": [
        "# Simple Python List\n",
        "python_list = [1, 2]\n",
        "\n",
        "# Create a numpy array from python list\n",
        "numpy_array = np.array(python_list)\n",
        "\n",
        "# Create a torch Tensor from python list\n",
        "tensor_from_list = torch.tensor(python_list)\n",
        "\n",
        "# Create a torch Tensor from Numpy array\n",
        "tensor_from_array = torch.tensor(numpy_array)\n",
        "\n",
        "# Another way to create a torch Tensor from Numpy array (share same storage)\n",
        "tensor_from_array_v2 = torch.from_numpy(numpy_array)\n",
        "\n",
        "# Convert torch tensor to numpy array\n",
        "array_from_tensor = tensor_from_array.numpy()\n",
        "\n",
        "print('List:   ', python_list)\n",
        "print('Array:  ', numpy_array)\n",
        "print('Tensor: ', tensor_from_list)\n",
        "print('Tensor: ', tensor_from_array)\n",
        "print('Tensor: ', tensor_from_array_v2)\n",
        "print('Array:  ', array_from_tensor)"
      ],
      "execution_count": 7,
      "outputs": [
        {
          "output_type": "stream",
          "text": [
            "List:    [1, 2]\n",
            "Array:   [1 2]\n",
            "Tensor:  tensor([1, 2])\n",
            "Tensor:  tensor([1, 2])\n",
            "Tensor:  tensor([1, 2])\n",
            "Array:   [1 2]\n"
          ],
          "name": "stdout"
        }
      ]
    },
    {
      "cell_type": "markdown",
      "metadata": {
        "id": "X_x-86B8gqik",
        "colab_type": "text"
      },
      "source": [
        "**Difference between** `torch.Tensor` **and** `torch.from_numpy`\n",
        "\n",
        "Pytorch aims to be an effective library for computations. What does it mean? It means that pytorch avoids memory copying if it can. "
      ]
    },
    {
      "cell_type": "code",
      "metadata": {
        "id": "eHCKDGpygn_d",
        "colab_type": "code",
        "outputId": "3b03df2b-8631-468b-bf4e-33353f31932d",
        "colab": {
          "base_uri": "https://localhost:8080/",
          "height": 67
        }
      },
      "source": [
        "numpy_array[0] = 10\n",
        "\n",
        "print('Array:  ', numpy_array)\n",
        "print('Tensor: ', tensor_from_array)\n",
        "print('Tensor: ', tensor_from_array_v2)"
      ],
      "execution_count": 8,
      "outputs": [
        {
          "output_type": "stream",
          "text": [
            "Array:   [10  2]\n",
            "Tensor:  tensor([1, 2])\n",
            "Tensor:  tensor([10,  2])\n"
          ],
          "name": "stdout"
        }
      ]
    },
    {
      "cell_type": "markdown",
      "metadata": {
        "id": "-CKtdNRM3SMp",
        "colab_type": "text"
      },
      "source": [
        "## Question 2:\n",
        "\n",
        "Assume that we moved our complete (cats vs dogs) image dataset to numpy arrays. Then we use torch.from_numpy to convert these images to tensor. Then we apply a specific data augmentation strategy called \"CutOut\" which blocks a portion of the image directly on these tensors. What will happen to the accuracy of a model trained on this strategy compared to the one without this strategy? CutOut strategy is shown below: \n",
        "\n",
        "![CutOut](https://encrypted-tbn0.gstatic.com/images?q=tbn%3AANd9GcSnSyN835AmtQPKQbPjDHX-FmshNilbtexX95cRGQPwl56QCGDn)\n",
        "\n",
        "## Question 3:\n",
        "Why do you think we are observing this behavior?\n",
        "\n",
        "\n",
        "\n",
        "---\n",
        "\n",
        "\n"
      ]
    },
    {
      "cell_type": "markdown",
      "metadata": {
        "id": "P8sXbCiQtJuw",
        "colab_type": "text"
      },
      "source": [
        "**Ans: In general, cutout strategry expected to give better result than without cutout.**"
      ]
    },
    {
      "cell_type": "markdown",
      "metadata": {
        "id": "dZq7O-aihSOA",
        "colab_type": "text"
      },
      "source": [
        "We have two different ways to create tensor from its NumPy counterpart - one copies memory and another one shares the same underlying storage. It works in the opposite way:"
      ]
    },
    {
      "cell_type": "code",
      "metadata": {
        "id": "TNFOwV8EhPwQ",
        "colab_type": "code",
        "outputId": "e16b9476-fe08-456b-ec04-c7087eae5a59",
        "colab": {
          "base_uri": "https://localhost:8080/",
          "height": 84
        }
      },
      "source": [
        "array_from_tensor = tensor_from_array.numpy()\n",
        "print('Tensor: ', tensor_from_array)\n",
        "print('Array: ', array_from_tensor)\n",
        "\n",
        "tensor_from_array[0] = 11\n",
        "print('Tensor: ', tensor_from_array)\n",
        "print('Array: ', array_from_tensor)"
      ],
      "execution_count": 9,
      "outputs": [
        {
          "output_type": "stream",
          "text": [
            "Tensor:  tensor([1, 2])\n",
            "Array:  [1 2]\n",
            "Tensor:  tensor([11,  2])\n",
            "Array:  [11  2]\n"
          ],
          "name": "stdout"
        }
      ]
    },
    {
      "cell_type": "markdown",
      "metadata": {
        "id": "UM9ytbvKhtCw",
        "colab_type": "text"
      },
      "source": [
        "## Data types\n",
        "\n",
        "The basic data type of all Deep Learning-related operations is float, but sometimes you may need something else. Pytorch support different number types for its tensors the same way NumPy does it - by specifying the data type on tensor creation or via casting. Ths full list of supported data types can be found [here](https://pytorch.org/docs/stable/tensors.html). "
      ]
    },
    {
      "cell_type": "code",
      "metadata": {
        "id": "Bd6WkzJ4hpYi",
        "colab_type": "code",
        "outputId": "d4f25ccb-b9b9-4c12-9710-cd9fe48eaef4",
        "colab": {
          "base_uri": "https://localhost:8080/",
          "height": 150
        }
      },
      "source": [
        "tensor = torch.zeros(2, 2)\n",
        "print('Tensor with default type: ', tensor)\n",
        "tensor = torch.zeros(2, 2, dtype=torch.float16)\n",
        "print('Tensor with 16-bit float: ', tensor)\n",
        "tensor = torch.zeros(2, 2, dtype=torch.int16)\n",
        "print('Tensor with integers: ', tensor)\n",
        "tensor = torch.zeros(2, 2, dtype=torch.bool)\n",
        "print('Tensor with boolean data: ', tensor)"
      ],
      "execution_count": 10,
      "outputs": [
        {
          "output_type": "stream",
          "text": [
            "Tensor with default type:  tensor([[0., 0.],\n",
            "        [0., 0.]])\n",
            "Tensor with 16-bit float:  tensor([[0., 0.],\n",
            "        [0., 0.]], dtype=torch.float16)\n",
            "Tensor with integers:  tensor([[0, 0],\n",
            "        [0, 0]], dtype=torch.int16)\n",
            "Tensor with boolean data:  tensor([[False, False],\n",
            "        [False, False]])\n"
          ],
          "name": "stdout"
        }
      ]
    },
    {
      "cell_type": "markdown",
      "metadata": {
        "id": "a9F4Dkdr40TE",
        "colab_type": "text"
      },
      "source": [
        "\n",
        "\n",
        "---\n",
        "\n",
        "\n",
        "## Question 4:\n",
        "We saw above that some times numpy and tensors share same storage and changing one changes the other. \n",
        "If we define a rank-2-tensor with ones (dtype of f16), and then convert it into a numpy data type using tensor.numpy() and store it in a variable called \"num\", and then we perform this operation `num = num * 0.5`, will the original tensor have 1.0s or 0.5s as its element values? \n"
      ]
    },
    {
      "cell_type": "code",
      "metadata": {
        "id": "9h7zwZv9cGWy",
        "colab_type": "code",
        "colab": {
          "base_uri": "https://localhost:8080/",
          "height": 150
        },
        "outputId": "2b2e5494-740f-40e7-dbe0-979d8bac4764"
      },
      "source": [
        "# Simple Python List\n",
        "python_list = [1, 2]\n",
        "\n",
        "# Create a torch Tensor from python list\n",
        "tensor_from_list = torch.ones(2,3, dtype=torch.float16 ) #torch.tensor(python_list)\n",
        "print(\"tensor_from_list={} rank={}\".format(tensor_from_list, tensor_from_list.dim() ))\n",
        "num = tensor_from_list.numpy()\n",
        "print(\"num={}\".format(num))\n",
        "num = num * 0.5\n",
        "print(\"After scalar multiply num={}\".format(num))\n",
        "print(\"Original tensor={}\".format(tensor_from_list))"
      ],
      "execution_count": 11,
      "outputs": [
        {
          "output_type": "stream",
          "text": [
            "tensor_from_list=tensor([[1., 1., 1.],\n",
            "        [1., 1., 1.]], dtype=torch.float16) rank=2\n",
            "num=[[1. 1. 1.]\n",
            " [1. 1. 1.]]\n",
            "After scalar multiply num=[[0.5 0.5 0.5]\n",
            " [0.5 0.5 0.5]]\n",
            "Original tensor=tensor([[1., 1., 1.],\n",
            "        [1., 1., 1.]], dtype=torch.float16)\n"
          ],
          "name": "stdout"
        }
      ]
    },
    {
      "cell_type": "markdown",
      "metadata": {
        "id": "flM-PK2qeS8d",
        "colab_type": "text"
      },
      "source": [
        "### Ans: \n",
        "Here first we define a tensor \"tensor_from_list\" then convert it to numpy array \"num\". Now, we apply scalar operation on numpy array and that modified numpy array and not a original tensor. If we modify any element in numpy array that cahnge gets applied to tensor too."
      ]
    },
    {
      "cell_type": "markdown",
      "metadata": {
        "id": "OiQt8Mmm51OE",
        "colab_type": "text"
      },
      "source": [
        "\n",
        "\n",
        "---\n",
        "\n",
        "## Question 5: \n",
        "If the operation `num = num*5` is changed to `num[:] = num*5` will the original tensor have 1.0s or 0.5s as its element values? \n",
        "\n",
        "\n",
        "\n",
        "---\n",
        "\n"
      ]
    },
    {
      "cell_type": "code",
      "metadata": {
        "id": "GavbgSmtf7QK",
        "colab_type": "code",
        "colab": {
          "base_uri": "https://localhost:8080/",
          "height": 150
        },
        "outputId": "e83dc0d4-96c1-449a-c13f-eda1deba126b"
      },
      "source": [
        "# Simple Python List\n",
        "python_list = [1, 2]\n",
        "\n",
        "# Create a torch Tensor from python list\n",
        "tensor_from_list = torch.ones(2,3, dtype=torch.float16 ) #torch.tensor(python_list)\n",
        "print(\"tensor_from_list={} rank={}\".format(tensor_from_list, tensor_from_list.dim() ))\n",
        "num = tensor_from_list.numpy()\n",
        "print(\"num={}\".format(num))\n",
        "num[:] = num * 0.5\n",
        "print(\"After scalar multiply num={}\".format(num))\n",
        "print(\"Original tensor={}\".format(tensor_from_list))"
      ],
      "execution_count": 12,
      "outputs": [
        {
          "output_type": "stream",
          "text": [
            "tensor_from_list=tensor([[1., 1., 1.],\n",
            "        [1., 1., 1.]], dtype=torch.float16) rank=2\n",
            "num=[[1. 1. 1.]\n",
            " [1. 1. 1.]]\n",
            "After scalar multiply num=[[0.5 0.5 0.5]\n",
            " [0.5 0.5 0.5]]\n",
            "Original tensor=tensor([[0.5000, 0.5000, 0.5000],\n",
            "        [0.5000, 0.5000, 0.5000]], dtype=torch.float16)\n"
          ],
          "name": "stdout"
        }
      ]
    },
    {
      "cell_type": "markdown",
      "metadata": {
        "id": "vzh8UB8KiVmb",
        "colab_type": "text"
      },
      "source": [
        "## Indexing\n",
        "\n",
        "Tensor provides access to its elements via the same `[]` operation as a regular python list or NumPy array. However, as you may recall from NumPy usage, the full power of math libraries is accessible only via vectorized operations, i.e. operations without explicit looping over all vector elements in python and using implicit optimized loops in C/C++/CUDA/Fortran/etc. available via special function calls. Pytorch employs the same paradigm and provides a wide range of vectorized operations. Let's take a look at some examples. \n",
        "\n",
        "Joining a list of tensors together with `torch.cat`"
      ]
    },
    {
      "cell_type": "code",
      "metadata": {
        "id": "GMaCDKPhiUAb",
        "colab_type": "code",
        "outputId": "d4222b70-5249-49b5-b546-4c4c1100ba06",
        "colab": {
          "base_uri": "https://localhost:8080/",
          "height": 117
        }
      },
      "source": [
        "a = torch.zeros(3, 2)\n",
        "b = torch.ones(3, 2)\n",
        "print(torch.cat((a, b), dim=0))\n"
      ],
      "execution_count": 13,
      "outputs": [
        {
          "output_type": "stream",
          "text": [
            "tensor([[0., 0.],\n",
            "        [0., 0.],\n",
            "        [0., 0.],\n",
            "        [1., 1.],\n",
            "        [1., 1.],\n",
            "        [1., 1.]])\n"
          ],
          "name": "stdout"
        }
      ]
    },
    {
      "cell_type": "code",
      "metadata": {
        "id": "IOjtVmQvvq5c",
        "colab_type": "code",
        "colab": {
          "base_uri": "https://localhost:8080/",
          "height": 67
        },
        "outputId": "1ae3fd63-0ce6-4b00-cf47-0ba5a943b7de"
      },
      "source": [
        "t = torch.cat((torch.zeros(3,2), torch.ones(3,2)),  dim=1)\n",
        "print(t)"
      ],
      "execution_count": 14,
      "outputs": [
        {
          "output_type": "stream",
          "text": [
            "tensor([[0., 0., 1., 1.],\n",
            "        [0., 0., 1., 1.],\n",
            "        [0., 0., 1., 1.]])\n"
          ],
          "name": "stdout"
        }
      ]
    },
    {
      "cell_type": "markdown",
      "metadata": {
        "id": "5bj4aeE86zdH",
        "colab_type": "text"
      },
      "source": [
        "\n",
        "\n",
        "---\n",
        "\n",
        "## Question 6: \n",
        "Is the transpose of concatenated a & b tensor on dimension 1, same as the contatenated tensor of a & b on dimension 0? \n",
        "\n",
        "\n",
        "\n",
        "---\n",
        "\n"
      ]
    },
    {
      "cell_type": "code",
      "metadata": {
        "id": "TwXeLIcKiEwA",
        "colab_type": "code",
        "colab": {
          "base_uri": "https://localhost:8080/",
          "height": 251
        },
        "outputId": "55199f11-8f00-425e-c257-d1d8e3fbcf28"
      },
      "source": [
        "a = torch.zeros(3, 2)\n",
        "b = torch.ones(3, 2)\n",
        "t = torch.cat((a, b), dim=1)\n",
        "print(\"concat tensor cat(a,b)={}\".format(t))\n",
        "print(\"dim of concat a & b ={}\".format(t.dim()))\n",
        "#print(\"transpose concat a & b ={}\".format(t.transpose()))\n",
        "#help(t.transpose)\n",
        "#print(torch.transpose(torch.cat((a, b), dim=1)))\n",
        "\n",
        "print(\"Dim 1 transpose:{}\".format(torch.transpose(t, 0, 1)))\n",
        "#print(\"Dim 0 transpose:{}\".format(torch.transpose(t, 1, 0)))\n",
        "\n",
        "t1 = torch.cat((a, b), dim=0)\n",
        "print(\"concat tensor of (a,b),dim=0 = {}\".format(t1))"
      ],
      "execution_count": 15,
      "outputs": [
        {
          "output_type": "stream",
          "text": [
            "concat tensor cat(a,b)=tensor([[0., 0., 1., 1.],\n",
            "        [0., 0., 1., 1.],\n",
            "        [0., 0., 1., 1.]])\n",
            "dim of concat a & b =2\n",
            "Dim 1 transpose:tensor([[0., 0., 0.],\n",
            "        [0., 0., 0.],\n",
            "        [1., 1., 1.],\n",
            "        [1., 1., 1.]])\n",
            "concat tensor of (a,b),dim=0 = tensor([[0., 0.],\n",
            "        [0., 0.],\n",
            "        [0., 0.],\n",
            "        [1., 1.],\n",
            "        [1., 1.],\n",
            "        [1., 1.]])\n"
          ],
          "name": "stdout"
        }
      ]
    },
    {
      "cell_type": "markdown",
      "metadata": {
        "id": "iNvsbxDXxDiT",
        "colab_type": "text"
      },
      "source": [
        "### Ans: NO"
      ]
    },
    {
      "cell_type": "markdown",
      "metadata": {
        "id": "0TXNne69j7LP",
        "colab_type": "text"
      },
      "source": [
        "Indexing with another tenxor/array:"
      ]
    },
    {
      "cell_type": "code",
      "metadata": {
        "id": "KiE-Fsi4jVd6",
        "colab_type": "code",
        "outputId": "78ad4f69-398d-40d1-e17c-38d811e727f4",
        "colab": {
          "base_uri": "https://localhost:8080/",
          "height": 100
        }
      },
      "source": [
        "a = torch.arange(start=0, end=10)\n",
        "indices = np.arange(0, 10) > 5\n",
        "print(a)\n",
        "print(indices)\n",
        "print(a[indices])\n",
        "\n",
        "indices = torch.arange(start=0, end=10) %5\n",
        "print(indices)\n",
        "print(a[indices])"
      ],
      "execution_count": 16,
      "outputs": [
        {
          "output_type": "stream",
          "text": [
            "tensor([0, 1, 2, 3, 4, 5, 6, 7, 8, 9])\n",
            "[False False False False False False  True  True  True  True]\n",
            "tensor([6, 7, 8, 9])\n",
            "tensor([0, 1, 2, 3, 4, 0, 1, 2, 3, 4])\n",
            "tensor([0, 1, 2, 3, 4, 0, 1, 2, 3, 4])\n"
          ],
          "name": "stdout"
        }
      ]
    },
    {
      "cell_type": "markdown",
      "metadata": {
        "id": "LS4dnlu47WQu",
        "colab_type": "text"
      },
      "source": [
        "\n",
        "\n",
        "---\n",
        "\n",
        "## Question 7:\n",
        "\n",
        "`a` is defined as `torch.arange(start=0, end=10)`. We will create `b` using the two operations as below. In both cases do we get the same value?\n",
        "\n",
        "\n",
        "1.   indices variable created by the modulo operation on arange between 0 and 10. Then a new varialble `b` is created from `a` using the last 5 elements of indices. \n",
        "2.   indices variable created by the modulo operation on arange betwenn 1 and 11. Then a new varialble `b` is created from `a` using the last 5 elements of indices. \n",
        "\n",
        "\n",
        "\n",
        "---\n",
        "\n",
        "\n"
      ]
    },
    {
      "cell_type": "code",
      "metadata": {
        "id": "pUUhSXBm1g6B",
        "colab_type": "code",
        "colab": {
          "base_uri": "https://localhost:8080/",
          "height": 84
        },
        "outputId": "f2fc8a5a-f237-4cc4-ef81-5421c8394af5"
      },
      "source": [
        "a = torch.arange(start=0, end=10)\n",
        "b1 = torch.arange(start=0, end=10) % 2\n",
        "b2 = torch.arange(start=1, end=11) % 2\n",
        "\n",
        "print(a[b1])\n",
        "print(\"Last 5 element indicies = {} \".format(b1[:-5]))\n",
        "print(a[b2])\n",
        "print(\"Last 5 element indicies = {} \".format(b2[:-5]))\n"
      ],
      "execution_count": 17,
      "outputs": [
        {
          "output_type": "stream",
          "text": [
            "tensor([0, 1, 0, 1, 0, 1, 0, 1, 0, 1])\n",
            "Last 5 element indicies = tensor([0, 1, 0, 1, 0]) \n",
            "tensor([1, 0, 1, 0, 1, 0, 1, 0, 1, 0])\n",
            "Last 5 element indicies = tensor([1, 0, 1, 0, 1]) \n"
          ],
          "name": "stdout"
        }
      ]
    },
    {
      "cell_type": "markdown",
      "metadata": {
        "id": "eQ4ZCVsTk-KH",
        "colab_type": "text"
      },
      "source": [
        "What should we do if we have, say, rank-2-tensor and want to select only some rows?"
      ]
    },
    {
      "cell_type": "code",
      "metadata": {
        "id": "_GtRpotjkt1q",
        "colab_type": "code",
        "outputId": "1ac82336-10ed-47c6-e28c-d064c3ed4bf6",
        "colab": {
          "base_uri": "https://localhost:8080/",
          "height": 134
        }
      },
      "source": [
        "tensor = torch.rand((5, 3))\n",
        "rows = torch.tensor([0, 2])\n",
        "print(tensor)\n",
        "tensor[rows]"
      ],
      "execution_count": 18,
      "outputs": [
        {
          "output_type": "stream",
          "text": [
            "tensor([[0.9569, 0.6441, 0.1225],\n",
            "        [0.7063, 0.8646, 0.1172],\n",
            "        [0.8375, 0.4922, 0.7975],\n",
            "        [0.4178, 0.9680, 0.2776],\n",
            "        [0.0281, 0.8793, 0.9802]])\n"
          ],
          "name": "stdout"
        },
        {
          "output_type": "execute_result",
          "data": {
            "text/plain": [
              "tensor([[0.9569, 0.6441, 0.1225],\n",
              "        [0.8375, 0.4922, 0.7975]])"
            ]
          },
          "metadata": {
            "tags": []
          },
          "execution_count": 18
        }
      ]
    },
    {
      "cell_type": "markdown",
      "metadata": {
        "id": "zIJnr_N2_Qaf",
        "colab_type": "text"
      },
      "source": [
        "\n",
        "\n",
        "---\n",
        "\n",
        "## Question 8: \n",
        "\n",
        "Consider a tensor defined as `torch.rand((6, 5))`. Is the shape of the new tensor created by taking the 0th, 2nd and 4th row of the old tensor same as the shape of the a newer tensor created by taking the 0th, 2nd and 4th row of the old tensor after transposing it by operation `torch.transpose(tensor, 0, 1)` ?\n",
        "\n",
        "\n",
        "\n",
        "---\n",
        "\n",
        "\n"
      ]
    },
    {
      "cell_type": "code",
      "metadata": {
        "id": "mxPh5lJg5CwZ",
        "colab_type": "code",
        "colab": {
          "base_uri": "https://localhost:8080/",
          "height": 284
        },
        "outputId": "b5163ef6-3400-47e7-98e6-299c3dfebaf9"
      },
      "source": [
        "t = torch.rand((6, 5))\n",
        "print(\"tensor:{}\".format(t))\n",
        "print(\"tensor shape:{}\".format(t.shape))\n",
        "new_tensor =  torch.tensor([0, 2, 4])\n",
        "print(\"new_tensor:{}\".format(t[new_tensor]))\n",
        "print(\"new_tensor shape:{}\".format(new_tensor.shape))\n",
        "print(\"transpose = {} \".format(torch.transpose(t[new_tensor], 0, 1)))\n"
      ],
      "execution_count": 19,
      "outputs": [
        {
          "output_type": "stream",
          "text": [
            "tensor:tensor([[0.0915, 0.4809, 0.5113, 0.4522, 0.8225],\n",
            "        [0.1178, 0.6865, 0.8213, 0.4604, 0.0953],\n",
            "        [0.3639, 0.3531, 0.9936, 0.6137, 0.5589],\n",
            "        [0.7252, 0.0113, 0.6679, 0.0668, 0.7253],\n",
            "        [0.2606, 0.2434, 0.1109, 0.6220, 0.7859],\n",
            "        [0.2900, 0.7723, 0.9670, 0.8460, 0.6025]])\n",
            "tensor shape:torch.Size([6, 5])\n",
            "new_tensor:tensor([[0.0915, 0.4809, 0.5113, 0.4522, 0.8225],\n",
            "        [0.3639, 0.3531, 0.9936, 0.6137, 0.5589],\n",
            "        [0.2606, 0.2434, 0.1109, 0.6220, 0.7859]])\n",
            "new_tensor shape:torch.Size([3])\n",
            "transpose = tensor([[0.0915, 0.3639, 0.2606],\n",
            "        [0.4809, 0.3531, 0.2434],\n",
            "        [0.5113, 0.9936, 0.1109],\n",
            "        [0.4522, 0.6137, 0.6220],\n",
            "        [0.8225, 0.5589, 0.7859]]) \n"
          ],
          "name": "stdout"
        }
      ]
    },
    {
      "cell_type": "markdown",
      "metadata": {
        "id": "5QSvDZ6W6n82",
        "colab_type": "text"
      },
      "source": [
        "### Ans: No"
      ]
    },
    {
      "cell_type": "markdown",
      "metadata": {
        "id": "naDzFMkslU0b",
        "colab_type": "text"
      },
      "source": [
        "## Tensor Shapes\n",
        "\n",
        "Reshaping a tensor is a frequently used operation. We can change the shape of a tensor without the memory copying overhead. There are two methods for that: `reshape` and `view`. \n",
        "\n",
        "The difference is the following: \n",
        "\n",
        "\n",
        "*   view tries to return a tensor, and it shares the same memory with the original tensor. In case, if it cannot reuse the same memory due to [some reason](https://pytorch.org/docs/stable/tensors.html?highlight=view#torch.Tensor.view), it just fails. \n",
        "*   reshape always returns the tensor with the desired shape and tries to reuse the memory. If it cannot, it creates a copy\n",
        "\n",
        "Let's see with the help of an example:"
      ]
    },
    {
      "cell_type": "code",
      "metadata": {
        "id": "HClDkqLLlMJh",
        "colab_type": "code",
        "outputId": "d9b8b32b-acd0-4325-a7cc-04968e0c884b",
        "colab": {
          "base_uri": "https://localhost:8080/",
          "height": 167
        }
      },
      "source": [
        "tensor = torch.rand(2, 3, 4)\n",
        "print('Pointer to data: ', tensor.data_ptr())\n",
        "print('Shape: ', tensor.shape)\n",
        "\n",
        "reshaped = tensor.reshape(24)\n",
        "\n",
        "view = tensor.view(3, 2, 4)\n",
        "print('Reshaped tensor - pointer to data', reshaped.data_ptr())\n",
        "print('Reshaped tensor shape ', reshaped.shape)\n",
        "\n",
        "print('Viewed tensor - pointer to data', view.data_ptr())\n",
        "print('Viewed tensor shape ', view.shape)\n",
        "\n",
        "assert tensor.data_ptr() == view.data_ptr()\n",
        "\n",
        "assert np.all(np.equal(tensor.numpy().flat, reshaped.numpy().flat))\n",
        "\n",
        "print('Original stride: ', tensor.stride())\n",
        "print('Reshaped stride: ', reshaped.stride())\n",
        "print('Viewed stride: ', view.stride())"
      ],
      "execution_count": 20,
      "outputs": [
        {
          "output_type": "stream",
          "text": [
            "Pointer to data:  78635008\n",
            "Shape:  torch.Size([2, 3, 4])\n",
            "Reshaped tensor - pointer to data 78635008\n",
            "Reshaped tensor shape  torch.Size([24])\n",
            "Viewed tensor - pointer to data 78635008\n",
            "Viewed tensor shape  torch.Size([3, 2, 4])\n",
            "Original stride:  (12, 4, 1)\n",
            "Reshaped stride:  (1,)\n",
            "Viewed stride:  (8, 4, 1)\n"
          ],
          "name": "stdout"
        }
      ]
    },
    {
      "cell_type": "code",
      "metadata": {
        "id": "S9Sx8HzcFfl6",
        "colab_type": "code",
        "colab": {
          "base_uri": "https://localhost:8080/",
          "height": 234
        },
        "outputId": "ef10c0df-d1e0-4ab8-d4c5-cb7eddaf9b39"
      },
      "source": [
        "x = torch.tensor([[[[1, 2, 3, 4, 5],[11, 21, 31, 41, 51], [10, 20, 30, 40, 50]],\n",
        "                    [[21, 22, 23, 24, 25],[211, 221, 231, 241, 251], [210, 220, 230, 240, 250]\n",
        "                    ]]])\n",
        "print(x)\n",
        "print(x.shape)\n",
        "print(x.stride())\n",
        "print(x.stride(0))\n",
        "print(x.stride(1))\n",
        "print(x.stride(2))\n",
        "print(x.stride(-1))"
      ],
      "execution_count": 52,
      "outputs": [
        {
          "output_type": "stream",
          "text": [
            "tensor([[[[  1,   2,   3,   4,   5],\n",
            "          [ 11,  21,  31,  41,  51],\n",
            "          [ 10,  20,  30,  40,  50]],\n",
            "\n",
            "         [[ 21,  22,  23,  24,  25],\n",
            "          [211, 221, 231, 241, 251],\n",
            "          [210, 220, 230, 240, 250]]]])\n",
            "torch.Size([1, 2, 3, 5])\n",
            "(30, 15, 5, 1)\n",
            "30\n",
            "15\n",
            "5\n",
            "1\n"
          ],
          "name": "stdout"
        }
      ]
    },
    {
      "cell_type": "code",
      "metadata": {
        "id": "g7NaZYAR_oBl",
        "colab_type": "code",
        "colab": {
          "base_uri": "https://localhost:8080/",
          "height": 50
        },
        "outputId": "52fa808f-bd96-4ac7-e7f5-e24b3ca60dfb"
      },
      "source": [
        ""
      ],
      "execution_count": 26,
      "outputs": [
        {
          "output_type": "stream",
          "text": [
            "Pointer to data:  78635008\n",
            "Shape:  torch.Size([2, 3, 4])\n"
          ],
          "name": "stdout"
        }
      ]
    },
    {
      "cell_type": "code",
      "metadata": {
        "id": "bWMOPGnH_05w",
        "colab_type": "code",
        "colab": {
          "base_uri": "https://localhost:8080/",
          "height": 117
        },
        "outputId": "72f5085a-1f6a-41a9-8be8-c411b6234f62"
      },
      "source": [
        "reshaped = tensor.reshape(24)\n",
        "print(\"Reshaped tensor\",reshaped)\n",
        "print('Reshaped tensor - pointer to data', reshaped.data_ptr())\n",
        "print('Reshaped tensor shape ', reshaped.shape)\n",
        "print('reshaped stride',reshaped.stride())"
      ],
      "execution_count": 35,
      "outputs": [
        {
          "output_type": "stream",
          "text": [
            "Reshaped tensor tensor([0.7166, 0.3533, 0.4158, 0.5227, 0.7567, 0.0980, 0.6448, 0.0237, 0.6811,\n",
            "        0.4535, 0.3048, 0.4618, 0.4764, 0.2626, 0.5195, 0.1653, 0.2655, 0.4084,\n",
            "        0.5973, 0.2284, 0.9408, 0.9080, 0.0068, 0.8914])\n",
            "Reshaped tensor - pointer to data 78635008\n",
            "Reshaped tensor shape  torch.Size([24])\n",
            "reshaped stride (1,)\n"
          ],
          "name": "stdout"
        }
      ]
    },
    {
      "cell_type": "code",
      "metadata": {
        "id": "oy9A54y2C6ST",
        "colab_type": "code",
        "colab": {
          "base_uri": "https://localhost:8080/",
          "height": 201
        },
        "outputId": "25d7409a-1cff-4d67-c5d0-1a6a97481045"
      },
      "source": [
        "view = tensor.view(3, 2, 4)\n",
        "print(\"View tensor\",view)\n",
        "print('Viewed tensor - pointer to data', view.data_ptr())\n",
        "print('Viewed tensor shape ', view.shape)\n",
        "print('View stride', view.stride())"
      ],
      "execution_count": 53,
      "outputs": [
        {
          "output_type": "stream",
          "text": [
            "View tensor tensor([[[0.7166, 0.3533, 0.4158, 0.5227],\n",
            "         [0.7567, 0.0980, 0.6448, 0.0237]],\n",
            "\n",
            "        [[0.6811, 0.4535, 0.3048, 0.4618],\n",
            "         [0.4764, 0.2626, 0.5195, 0.1653]],\n",
            "\n",
            "        [[0.2655, 0.4084, 0.5973, 0.2284],\n",
            "         [0.9408, 0.9080, 0.0068, 0.8914]]])\n",
            "Viewed tensor - pointer to data 78635008\n",
            "Viewed tensor shape  torch.Size([3, 2, 4])\n",
            "View stride (8, 4, 1)\n"
          ],
          "name": "stdout"
        }
      ]
    },
    {
      "cell_type": "code",
      "metadata": {
        "id": "DvueNdDKAHXO",
        "colab_type": "code",
        "colab": {}
      },
      "source": [
        "assert tensor.data_ptr() == view.data_ptr()\n",
        "\n",
        "assert np.all(np.equal(tensor.numpy().flat, reshaped.numpy().flat))\n",
        "\n"
      ],
      "execution_count": 0,
      "outputs": []
    },
    {
      "cell_type": "code",
      "metadata": {
        "id": "7YsJ8AwrAJ1Z",
        "colab_type": "code",
        "colab": {
          "base_uri": "https://localhost:8080/",
          "height": 67
        },
        "outputId": "52bb6cf9-bd5c-4360-d3bc-9d79c7ff7cff"
      },
      "source": [
        "print('Original stride: ', tensor.stride())\n",
        "print('Reshaped stride: ', reshaped.stride())\n",
        "print('Viewed stride: ', view.stride())"
      ],
      "execution_count": 25,
      "outputs": [
        {
          "output_type": "stream",
          "text": [
            "Original stride:  (12, 4, 1)\n",
            "Reshaped stride:  (1,)\n",
            "Viewed stride:  (8, 4, 1)\n"
          ],
          "name": "stdout"
        }
      ]
    },
    {
      "cell_type": "code",
      "metadata": {
        "colab_type": "code",
        "outputId": "34266c6b-7634-4ff5-b671-1117a91dd6c8",
        "id": "4hYjEDJ2_3Oh",
        "colab": {
          "base_uri": "https://localhost:8080/",
          "height": 167
        }
      },
      "source": [
        "tensor = torch.rand(2, 3, 4)\n",
        "print('Pointer to data: ', tensor.data_ptr())\n",
        "print('Shape: ', tensor.shape)\n",
        "\n",
        "reshaped = tensor.reshape(24)\n",
        "\n",
        "view = tensor.view(3, 2, 4)\n",
        "print('Reshaped tensor - pointer to data', reshaped.data_ptr())\n",
        "print('Reshaped tensor shape ', reshaped.shape)\n",
        "\n",
        "print('Viewed tensor - pointer to data', view.data_ptr())\n",
        "print('Viewed tensor shape ', view.shape)\n",
        "\n",
        "assert tensor.data_ptr() == view.data_ptr()\n",
        "\n",
        "assert np.all(np.equal(tensor.numpy().flat, reshaped.numpy().flat))\n",
        "\n",
        "print('Original stride: ', tensor.stride())\n",
        "print('Reshaped stride: ', reshaped.stride())\n",
        "print('Viewed stride: ', view.stride())"
      ],
      "execution_count": 55,
      "outputs": [
        {
          "output_type": "stream",
          "text": [
            "Pointer to data:  78639488\n",
            "Shape:  torch.Size([2, 3, 4])\n",
            "Reshaped tensor - pointer to data 78639488\n",
            "Reshaped tensor shape  torch.Size([24])\n",
            "Viewed tensor - pointer to data 78639488\n",
            "Viewed tensor shape  torch.Size([3, 2, 4])\n",
            "Original stride:  (12, 4, 1)\n",
            "Reshaped stride:  (1,)\n",
            "Viewed stride:  (8, 4, 1)\n"
          ],
          "name": "stdout"
        }
      ]
    },
    {
      "cell_type": "markdown",
      "metadata": {
        "id": "jIN5jSppm4yC",
        "colab_type": "text"
      },
      "source": [
        "The basic rule about reshaping the tensor is definitely that you cannot change the total number of elements in it, so the product of all tensor's dimensions should always be the same. It gives us the ability to avoid specifying one dimension when reshaping the tensor - Pytorch can calculate it for us:"
      ]
    },
    {
      "cell_type": "code",
      "metadata": {
        "id": "e3D19ERFmzOl",
        "colab_type": "code",
        "outputId": "92975b62-9631-457d-a163-f4aa628ed382",
        "colab": {
          "base_uri": "https://localhost:8080/",
          "height": 67
        }
      },
      "source": [
        "print(tensor.reshape(3, 2, 4).shape)\n",
        "print(tensor.reshape(3, 2, -1).shape)\n",
        "print(tensor.reshape(3, -1, 4).shape)"
      ],
      "execution_count": 56,
      "outputs": [
        {
          "output_type": "stream",
          "text": [
            "torch.Size([3, 2, 4])\n",
            "torch.Size([3, 2, 4])\n",
            "torch.Size([3, 2, 4])\n"
          ],
          "name": "stdout"
        }
      ]
    },
    {
      "cell_type": "code",
      "metadata": {
        "id": "3PY2yQWuQXom",
        "colab_type": "code",
        "colab": {
          "base_uri": "https://localhost:8080/",
          "height": 150
        },
        "outputId": "311827a8-1922-4a63-d83e-fad85450b2aa"
      },
      "source": [
        "print(tensor.reshape(3,2,4))\n"
      ],
      "execution_count": 57,
      "outputs": [
        {
          "output_type": "stream",
          "text": [
            "tensor([[[0.9394, 0.8782, 0.3413, 0.9884],\n",
            "         [0.1609, 0.6458, 0.6686, 0.1328]],\n",
            "\n",
            "        [[0.5322, 0.7108, 0.7615, 0.1869],\n",
            "         [0.1798, 0.3659, 0.4813, 0.8519]],\n",
            "\n",
            "        [[0.7125, 0.1319, 0.7515, 0.9914],\n",
            "         [0.9365, 0.2972, 0.6647, 0.2883]]])\n"
          ],
          "name": "stdout"
        }
      ]
    },
    {
      "cell_type": "markdown",
      "metadata": {
        "id": "ObgCQKUiETak",
        "colab_type": "text"
      },
      "source": [
        "\n",
        "\n",
        "---\n",
        "\n",
        "\n",
        "## Question 9:\n",
        "\n",
        "Consider a tensor `a` created with [1, 2, 3] and [1, 2, 3] of size (2, 3) is reshaped with operation `.reshape(-1, 2)`. Also consider a tensor `b` created with [[2, 1]] and of size (1, 2), later operated with `view(2, -1)` operation. \n",
        "\n",
        "If we do a dot product of a and b (using `torch.mm`) and perform the sum of all the elements (using `torch.sum`) what do we get? (enter int value without any decimal point in the quiz)\n",
        "\n",
        "\n",
        "\n",
        "---\n",
        "\n"
      ]
    },
    {
      "cell_type": "code",
      "metadata": {
        "id": "zVMLJWcP3-cb",
        "colab_type": "code",
        "colab": {
          "base_uri": "https://localhost:8080/",
          "height": 334
        },
        "outputId": "d6f6f6f0-686d-46fd-b930-c0059c64db33"
      },
      "source": [
        "### ANSWER:\n",
        "a = torch.Tensor([[1, 2, 3], [1, 2, 3]])\n",
        "a_view = a.view(-1, 2)\n",
        "a1 = torch.Tensor([[1, 2, 3], [1, 2, 3]])\n",
        "a1_reshape = a1.reshape(-1, 2)\n",
        "\n",
        "b = torch.Tensor([[2, 1]])\n",
        "b_view = b.view(2, -1)\n",
        "\n",
        "print(a)\n",
        "print(a_view)\n",
        "print(a_view.size())\n",
        "print(a_view.shape)\n",
        "\n",
        "print(a1)\n",
        "print(a1_reshape)\n",
        "print(a1_reshape.size())\n",
        "print(a1_reshape.shape)\n",
        "\n",
        "print(b)\n",
        "print(b_view)\n",
        "print(b_view.size())\n",
        "\n",
        "\n",
        "torch.sum(torch.mm(a1_reshape,b_view))\n",
        "#print(torch.dot(a, b))"
      ],
      "execution_count": 96,
      "outputs": [
        {
          "output_type": "stream",
          "text": [
            "tensor([[1., 2., 3.],\n",
            "        [1., 2., 3.]])\n",
            "tensor([[1., 2.],\n",
            "        [3., 1.],\n",
            "        [2., 3.]])\n",
            "torch.Size([3, 2])\n",
            "torch.Size([3, 2])\n",
            "tensor([[1., 2., 3.],\n",
            "        [1., 2., 3.]])\n",
            "tensor([[1., 2.],\n",
            "        [3., 1.],\n",
            "        [2., 3.]])\n",
            "torch.Size([3, 2])\n",
            "torch.Size([3, 2])\n",
            "tensor([[2., 1.]])\n",
            "tensor([[2.],\n",
            "        [1.]])\n",
            "torch.Size([2, 1])\n"
          ],
          "name": "stdout"
        },
        {
          "output_type": "execute_result",
          "data": {
            "text/plain": [
              "tensor(18.)"
            ]
          },
          "metadata": {
            "tags": []
          },
          "execution_count": 96
        }
      ]
    },
    {
      "cell_type": "markdown",
      "metadata": {
        "id": "mza7QPg3ndeV",
        "colab_type": "text"
      },
      "source": [
        "**Alternative ways to view tensors** - `expand` or `expand_as`.\n",
        "\n",
        "\n",
        "\n",
        "*   `expand` - requires the desired shape as an input\n",
        "*   `expand_as` - uses the shape of another tensor\n",
        "\n",
        "These operations \"repeat\" tensor's values along the specified axes without actually copying the data. \n",
        "\n",
        "As the documentation says, expand:\n",
        "\n",
        "\n",
        "> returns a new view of the self tensor with singleton dimensions expanded to a larger size. Tensor can be also expanded to a larger number of dimensions, and the new ones will be appended at the front. For the new dimensions, the size cannot be set to -1. \n",
        "\n",
        "**Use case:**\n",
        "\n",
        "\n",
        "\n",
        "*   index multi-channel tensor with single-channel mask - imagine a color image with 3 channels (RGB) and binary mask for the area of interest on that image. We cannot index the image with this kind of mask directly since the dimensions are different, but we can use `expand_as` operation to create a view of the mask that has the same dimensions as the image we want to apply it to, but has not copied the data. "
      ]
    },
    {
      "cell_type": "code",
      "metadata": {
        "id": "iz33E-V7nPQT",
        "colab_type": "code",
        "outputId": "dc86754d-1eca-4b21-af9b-5ccdbf6a8654",
        "colab": {
          "base_uri": "https://localhost:8080/",
          "height": 595
        }
      },
      "source": [
        "%matplotlib inline\n",
        "from matplotlib import pyplot as plt\n",
        "\n",
        "# Create a black image\n",
        "image = torch.zeros(size=(3, 256, 256), dtype=torch.int)\n",
        "\n",
        "# Leave the borders and make the rest of the image Green\n",
        "image[1, 18:256 - 18, 18:256 - 18] = 255\n",
        "\n",
        "# Create a mask of the same size\n",
        "mask = torch.zeros(size=(256, 256), dtype=torch.bool)\n",
        "\n",
        "# Assuming the green region in the original image is the Region of interest, change the mask to white for that area\n",
        "mask[18:256 - 18, 18:256 - 18] = 1\n",
        "\n",
        "# Create a view of the mask with the same dimensions as the original image\n",
        "mask_expanded = mask.expand_as(image)\n",
        "print(mask_expanded.shape)\n",
        "\n",
        "mask_np = mask_expanded.numpy().transpose(1, 2, 0) * 255\n",
        "image_np = image.numpy().transpose(1, 2, 0)\n",
        "\n",
        "fig, ax = plt.subplots(1, 2)\n",
        "ax[0].imshow(image_np)\n",
        "ax[1].imshow(mask_np)\n",
        "plt.show()\n",
        "\n",
        "image[0, mask] += 128\n",
        "fig, ax = plt.subplots(1, 2)\n",
        "ax[0].imshow(image_np)\n",
        "ax[1].imshow(mask_np)\n",
        "plt.show()\n",
        "\n",
        "image[mask_expanded] += 128\n",
        "image.clamp_(0, 255)\n",
        "fig, ax = plt.subplots(1, 2)\n",
        "ax[0].imshow(image_np)\n",
        "ax[1].imshow(mask_np)\n",
        "plt.show()"
      ],
      "execution_count": 122,
      "outputs": [
        {
          "output_type": "stream",
          "text": [
            "torch.Size([3, 256, 256])\n"
          ],
          "name": "stdout"
        },
        {
          "output_type": "display_data",
          "data": {
            "image/png": "[encoded data removed]",
            "text/plain": [
              "<Figure size 432x288 with 2 Axes>"
            ]
          },
          "metadata": {
            "tags": []
          }
        },
        {
          "output_type": "display_data",
          "data": {
            "image/png": "[encoded data removed]",
            "text/plain": [
              "<Figure size 432x288 with 2 Axes>"
            ]
          },
          "metadata": {
            "tags": []
          }
        },
        {
          "output_type": "display_data",
          "data": {
            "image/png": "[encoded data removed]",
            "text/plain": [
              "<Figure size 432x288 with 2 Axes>"
            ]
          },
          "metadata": {
            "tags": []
          }
        }
      ]
    },
    {
      "cell_type": "code",
      "metadata": {
        "id": "CBqo_6y5F4_R",
        "colab_type": "code",
        "colab": {
          "base_uri": "https://localhost:8080/",
          "height": 1000
        },
        "outputId": "2299ee35-1368-4304-a774-9fde6c528982"
      },
      "source": [
        "%matplotlib inline\n",
        "from matplotlib import pyplot as plt\n",
        "\n",
        "# Create a black image\n",
        "image = torch.zeros(size=(3, 8, 8), dtype=torch.int)\n",
        "\n",
        "# Leave the borders and make the rest of the image Green\n",
        "image[1, 2:8 - 2, 2:8 - 2] = 255\n",
        "\n",
        "print(image)\n",
        "\n",
        "# Create a mask of the same size\n",
        "mask = torch.zeros(size=(8, 8), dtype=torch.bool)\n",
        "\n",
        "# Assuming the green region in the original image is the Region of interest, change the mask to white for that area\n",
        "mask[2:8 - 2, 2:8 - 2] = 1\n",
        "\n",
        "# Create a view of the mask with the same dimensions as the original image\n",
        "mask_expanded = mask.expand_as(image)\n",
        "print(mask_expanded.shape)\n",
        "\n",
        "\n",
        "mask_np = mask_expanded.numpy()\n",
        "mask_np_t = mask_np.transpose(1, 2, 0) * 255\n",
        "\n",
        "image_np = image.numpy()\n",
        "image_np_t = image_np.transpose(1, 2, 0)\n",
        "\n",
        "print(mask_np_t)\n",
        "\n",
        "print(image_np)\n",
        "\n",
        "t = torch.tensor([[[1,1,1],[2,2,2],[3,3,3]]])\n",
        "print(t)\n",
        "print(t.numpy())\n",
        "print(t.numpy().transpose(1,2,0))"
      ],
      "execution_count": 121,
      "outputs": [
        {
          "output_type": "stream",
          "text": [
            "tensor([[[  0,   0,   0,   0,   0,   0,   0,   0],\n",
            "         [  0,   0,   0,   0,   0,   0,   0,   0],\n",
            "         [  0,   0,   0,   0,   0,   0,   0,   0],\n",
            "         [  0,   0,   0,   0,   0,   0,   0,   0],\n",
            "         [  0,   0,   0,   0,   0,   0,   0,   0],\n",
            "         [  0,   0,   0,   0,   0,   0,   0,   0],\n",
            "         [  0,   0,   0,   0,   0,   0,   0,   0],\n",
            "         [  0,   0,   0,   0,   0,   0,   0,   0]],\n",
            "\n",
            "        [[  0,   0,   0,   0,   0,   0,   0,   0],\n",
            "         [  0,   0,   0,   0,   0,   0,   0,   0],\n",
            "         [  0,   0, 255, 255, 255, 255,   0,   0],\n",
            "         [  0,   0, 255, 255, 255, 255,   0,   0],\n",
            "         [  0,   0, 255, 255, 255, 255,   0,   0],\n",
            "         [  0,   0, 255, 255, 255, 255,   0,   0],\n",
            "         [  0,   0,   0,   0,   0,   0,   0,   0],\n",
            "         [  0,   0,   0,   0,   0,   0,   0,   0]],\n",
            "\n",
            "        [[  0,   0,   0,   0,   0,   0,   0,   0],\n",
            "         [  0,   0,   0,   0,   0,   0,   0,   0],\n",
            "         [  0,   0,   0,   0,   0,   0,   0,   0],\n",
            "         [  0,   0,   0,   0,   0,   0,   0,   0],\n",
            "         [  0,   0,   0,   0,   0,   0,   0,   0],\n",
            "         [  0,   0,   0,   0,   0,   0,   0,   0],\n",
            "         [  0,   0,   0,   0,   0,   0,   0,   0],\n",
            "         [  0,   0,   0,   0,   0,   0,   0,   0]]], dtype=torch.int32)\n",
            "torch.Size([3, 8, 8])\n",
            "[[[  0   0   0]\n",
            "  [  0   0   0]\n",
            "  [  0   0   0]\n",
            "  [  0   0   0]\n",
            "  [  0   0   0]\n",
            "  [  0   0   0]\n",
            "  [  0   0   0]\n",
            "  [  0   0   0]]\n",
            "\n",
            " [[  0   0   0]\n",
            "  [  0   0   0]\n",
            "  [  0   0   0]\n",
            "  [  0   0   0]\n",
            "  [  0   0   0]\n",
            "  [  0   0   0]\n",
            "  [  0   0   0]\n",
            "  [  0   0   0]]\n",
            "\n",
            " [[  0   0   0]\n",
            "  [  0   0   0]\n",
            "  [255 255 255]\n",
            "  [255 255 255]\n",
            "  [255 255 255]\n",
            "  [255 255 255]\n",
            "  [  0   0   0]\n",
            "  [  0   0   0]]\n",
            "\n",
            " [[  0   0   0]\n",
            "  [  0   0   0]\n",
            "  [255 255 255]\n",
            "  [255 255 255]\n",
            "  [255 255 255]\n",
            "  [255 255 255]\n",
            "  [  0   0   0]\n",
            "  [  0   0   0]]\n",
            "\n",
            " [[  0   0   0]\n",
            "  [  0   0   0]\n",
            "  [255 255 255]\n",
            "  [255 255 255]\n",
            "  [255 255 255]\n",
            "  [255 255 255]\n",
            "  [  0   0   0]\n",
            "  [  0   0   0]]\n",
            "\n",
            " [[  0   0   0]\n",
            "  [  0   0   0]\n",
            "  [255 255 255]\n",
            "  [255 255 255]\n",
            "  [255 255 255]\n",
            "  [255 255 255]\n",
            "  [  0   0   0]\n",
            "  [  0   0   0]]\n",
            "\n",
            " [[  0   0   0]\n",
            "  [  0   0   0]\n",
            "  [  0   0   0]\n",
            "  [  0   0   0]\n",
            "  [  0   0   0]\n",
            "  [  0   0   0]\n",
            "  [  0   0   0]\n",
            "  [  0   0   0]]\n",
            "\n",
            " [[  0   0   0]\n",
            "  [  0   0   0]\n",
            "  [  0   0   0]\n",
            "  [  0   0   0]\n",
            "  [  0   0   0]\n",
            "  [  0   0   0]\n",
            "  [  0   0   0]\n",
            "  [  0   0   0]]]\n",
            "[[[  0   0   0   0   0   0   0   0]\n",
            "  [  0   0   0   0   0   0   0   0]\n",
            "  [  0   0   0   0   0   0   0   0]\n",
            "  [  0   0   0   0   0   0   0   0]\n",
            "  [  0   0   0   0   0   0   0   0]\n",
            "  [  0   0   0   0   0   0   0   0]\n",
            "  [  0   0   0   0   0   0   0   0]\n",
            "  [  0   0   0   0   0   0   0   0]]\n",
            "\n",
            " [[  0   0   0   0   0   0   0   0]\n",
            "  [  0   0   0   0   0   0   0   0]\n",
            "  [  0   0 255 255 255 255   0   0]\n",
            "  [  0   0 255 255 255 255   0   0]\n",
            "  [  0   0 255 255 255 255   0   0]\n",
            "  [  0   0 255 255 255 255   0   0]\n",
            "  [  0   0   0   0   0   0   0   0]\n",
            "  [  0   0   0   0   0   0   0   0]]\n",
            "\n",
            " [[  0   0   0   0   0   0   0   0]\n",
            "  [  0   0   0   0   0   0   0   0]\n",
            "  [  0   0   0   0   0   0   0   0]\n",
            "  [  0   0   0   0   0   0   0   0]\n",
            "  [  0   0   0   0   0   0   0   0]\n",
            "  [  0   0   0   0   0   0   0   0]\n",
            "  [  0   0   0   0   0   0   0   0]\n",
            "  [  0   0   0   0   0   0   0   0]]]\n",
            "tensor([[[1, 1, 1],\n",
            "         [2, 2, 2],\n",
            "         [3, 3, 3]]])\n",
            "[[[1 1 1]\n",
            "  [2 2 2]\n",
            "  [3 3 3]]]\n",
            "[[[1]\n",
            "  [1]\n",
            "  [1]]\n",
            "\n",
            " [[2]\n",
            "  [2]\n",
            "  [2]]\n",
            "\n",
            " [[3]\n",
            "  [3]\n",
            "  [3]]]\n"
          ],
          "name": "stdout"
        }
      ]
    },
    {
      "cell_type": "code",
      "metadata": {
        "id": "4yl7n9hJF1HC",
        "colab_type": "code",
        "colab": {}
      },
      "source": [
        ""
      ],
      "execution_count": 0,
      "outputs": []
    },
    {
      "cell_type": "markdown",
      "metadata": {
        "id": "jiXBx0k3ptOI",
        "colab_type": "text"
      },
      "source": [
        "In the example above, one can also find a couple of useful tricks:\n",
        "\n",
        "\n",
        "*   `clamp` method and function is a Pytorch's analogue of NumPy's `clip` function\n",
        "*   many operations on tensors have in-place form, that does not return modified data, but change values in the tensor. The in-place version of the operation has trailing underscore according to Pytorch's naming convension - in the exmaple above it is `clamp_`\n",
        "*   tensors have the same indexing as Numpy's arrays - one can use `:` seperated range, negative indexes and so on.\n",
        "\n",
        "\n",
        ".\n",
        "\n",
        "\n",
        "---\n",
        "\n",
        "# Images and their representations\n",
        "\n",
        "Now, let's discuss images, their representations and how different Python librarties work with them. \n",
        "\n",
        "Probably, the most well-known library for image loading and simple processing is [Pillow](https://pillow.readthedocs.io/en/stable/). \n",
        "\n",
        "However, many people in deep learning area stick with OpenCV for image loading and processing with some usage of another libraries when it is justified by performance/functionality. This is because OpenCV is in general much faster than the other libraries. Here you can find a couple of benchmarks: \n",
        "\n",
        "*   https://www.kaggle.com/zfturbo/benchmark-2019-speed-of-image-reading\n",
        "*   https://github.com/albumentations-team/albumentations#benchmarking-results\n",
        "\n",
        "To sum up the benchmarks above, there are two most common image formats, PNG and JPEGs. If your data is in PNG format - use OpenCV to read it. If it is in JPEG - use libturbojpeg. For image processing, use OpenCV if possible. _We will be using PIL a lot along with these._\n",
        "\n",
        "As you will read the code from others, you may find out that some of them use Pillow/something else to read data. You should know, that color image representations in OpenCV and other libraries are different - OpenCV uses \"BGR\" channel order, while others use \"RGB\" one. \n",
        "\n",
        "To change \"BRG\" <-> \"RGB\" the only thing we need to do it to change channel order."
      ]
    },
    {
      "cell_type": "code",
      "metadata": {
        "id": "6-Pyq86ekbcX",
        "colab_type": "code",
        "colab": {
          "resources": {
            "http://localhost:8080/nbextensions/google.colab/files.js": {
              "data": "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",
              "ok": true,
              "headers": [
                [
                  "content-type",
                  "application/javascript"
                ]
              ],
              "status": 200,
              "status_text": ""
            }
          },
          "base_uri": "https://localhost:8080/",
          "height": 74
        },
        "outputId": "e284d1e6-5b52-45c2-b9e0-a646c218ab97"
      },
      "source": [
        "from google.colab import files\n",
        "uploaded = files.upload()"
      ],
      "execution_count": 131,
      "outputs": [
        {
          "output_type": "display_data",
          "data": {
            "text/html": [
              "\n",
              "     <input type=\"file\" id=\"files-9a1fdf27-46a8-48ac-be23-8f42527f6b55\" name=\"files[]\" multiple disabled />\n",
              "     <output id=\"result-9a1fdf27-46a8-48ac-be23-8f42527f6b55\">\n",
              "      Upload widget is only available when the cell has been executed in the\n",
              "      current browser session. Please rerun this cell to enable.\n",
              "      </output>\n",
              "      <script src=\"/nbextensions/google.colab/files.js\"></script> "
            ],
            "text/plain": [
              "<IPython.core.display.HTML object>"
            ]
          },
          "metadata": {
            "tags": []
          }
        },
        {
          "output_type": "stream",
          "text": [
            "Saving mars.jpg to mars.jpg\n"
          ],
          "name": "stdout"
        }
      ]
    },
    {
      "cell_type": "code",
      "metadata": {
        "id": "ZYv4sZMmpndu",
        "colab_type": "code",
        "outputId": "51fdb546-fae0-4065-d4fd-ca157a41ee1d",
        "colab": {
          "base_uri": "https://localhost:8080/",
          "height": 1000
        }
      },
      "source": [
        "%matplotlib inline\n",
        "from matplotlib import pyplot as plt\n",
        "import cv2\n",
        "\n",
        "path = r'C:\\Users\\tparamas\\Documents\\SchoolOfAI\\mars.jpg' \n",
        "#path = r'C:\\Users\\Rajnish\\Desktop\\geeksforgeeks.png'\n",
        "\n",
        "bgr_image = cv2.imread('mars.jpg') \n",
        "print(bgr_image)\n",
        "# remember to add your own image in case you run this block, if you want to use the same image, \n",
        "# download it from: https://encrypted-tbn0.gstatic.com/images?q=tbn%3AANd9GcRCA40ftnscVzfV8ft8e7vIzQXfXeZdtco8nknJrfCUW6INI40U\n",
        "# src[:,:,::-1]\n",
        "rgb_image = bgr_image[:,:,::-1]\n",
        "print(rgb_image)\n",
        "fig, ax = plt.subplots(1, 2)\n",
        "ax[0].imshow(bgr_image)\n",
        "ax[1].imshow(rgb_image)\n",
        "plt.show()"
      ],
      "execution_count": 134,
      "outputs": [
        {
          "output_type": "stream",
          "text": [
            "[[[5 7 8]\n",
            "  [5 7 8]\n",
            "  [5 7 8]\n",
            "  ...\n",
            "  [5 7 8]\n",
            "  [5 7 8]\n",
            "  [5 7 8]]\n",
            "\n",
            " [[5 7 8]\n",
            "  [5 7 8]\n",
            "  [5 7 8]\n",
            "  ...\n",
            "  [5 7 8]\n",
            "  [5 7 8]\n",
            "  [5 7 8]]\n",
            "\n",
            " [[5 7 8]\n",
            "  [5 7 8]\n",
            "  [5 7 8]\n",
            "  ...\n",
            "  [5 7 8]\n",
            "  [5 7 8]\n",
            "  [5 7 8]]\n",
            "\n",
            " ...\n",
            "\n",
            " [[5 7 8]\n",
            "  [5 7 8]\n",
            "  [5 7 8]\n",
            "  ...\n",
            "  [5 7 8]\n",
            "  [5 7 8]\n",
            "  [5 7 8]]\n",
            "\n",
            " [[3 5 6]\n",
            "  [4 6 7]\n",
            "  [4 6 7]\n",
            "  ...\n",
            "  [6 8 9]\n",
            "  [6 8 9]\n",
            "  [6 8 9]]\n",
            "\n",
            " [[3 5 6]\n",
            "  [4 6 7]\n",
            "  [4 6 7]\n",
            "  ...\n",
            "  [6 8 9]\n",
            "  [6 8 9]\n",
            "  [6 8 9]]]\n",
            "[[[8 7 5]\n",
            "  [8 7 5]\n",
            "  [8 7 5]\n",
            "  ...\n",
            "  [8 7 5]\n",
            "  [8 7 5]\n",
            "  [8 7 5]]\n",
            "\n",
            " [[8 7 5]\n",
            "  [8 7 5]\n",
            "  [8 7 5]\n",
            "  ...\n",
            "  [8 7 5]\n",
            "  [8 7 5]\n",
            "  [8 7 5]]\n",
            "\n",
            " [[8 7 5]\n",
            "  [8 7 5]\n",
            "  [8 7 5]\n",
            "  ...\n",
            "  [8 7 5]\n",
            "  [8 7 5]\n",
            "  [8 7 5]]\n",
            "\n",
            " ...\n",
            "\n",
            " [[8 7 5]\n",
            "  [8 7 5]\n",
            "  [8 7 5]\n",
            "  ...\n",
            "  [8 7 5]\n",
            "  [8 7 5]\n",
            "  [8 7 5]]\n",
            "\n",
            " [[6 5 3]\n",
            "  [7 6 4]\n",
            "  [7 6 4]\n",
            "  ...\n",
            "  [9 8 6]\n",
            "  [9 8 6]\n",
            "  [9 8 6]]\n",
            "\n",
            " [[6 5 3]\n",
            "  [7 6 4]\n",
            "  [7 6 4]\n",
            "  ...\n",
            "  [9 8 6]\n",
            "  [9 8 6]\n",
            "  [9 8 6]]]\n"
          ],
          "name": "stdout"
        },
        {
          "output_type": "display_data",
          "data": {
            "image/png": "[encoded data removed]",
            "text/plain": [
              "<Figure size 432x288 with 2 Axes>"
            ]
          },
          "metadata": {
            "tags": []
          }
        }
      ]
    },
    {
      "cell_type": "markdown",
      "metadata": {
        "id": "yoi4TeNBGHle",
        "colab_type": "text"
      },
      "source": [
        "\n",
        "\n",
        "---\n",
        "\n",
        "## Question 10:\n",
        "\n",
        "Looking at the results above it can be said that the pixel values in the blue channels would be very small compared to red channel. True/False?\n",
        "\n",
        "\n",
        "---\n",
        "\n",
        "\n"
      ]
    },
    {
      "cell_type": "markdown",
      "metadata": {
        "id": "w5DaGGktl-S4",
        "colab_type": "text"
      },
      "source": [
        "### Ans: True"
      ]
    },
    {
      "cell_type": "markdown",
      "metadata": {
        "id": "b3ugFd57zNwa",
        "colab_type": "text"
      },
      "source": [
        "# Autograd\n",
        "\n",
        "Pytorch supports automatic differentiation. The module which implements this is called **AutoGrad**. It calculates the gradients and keeps track in forward and backward passes. For primitive tensors, you need to enable or disable it using the `required_grad` flag. But, for advanced tensors, it is enabled by default"
      ]
    },
    {
      "cell_type": "code",
      "metadata": {
        "id": "VMOp4aiou6JR",
        "colab_type": "code",
        "outputId": "9a746731-652b-4bb3-dcdf-f2cc6ba214ad",
        "colab": {
          "base_uri": "https://localhost:8080/",
          "height": 184
        }
      },
      "source": [
        "a = torch.rand((3, 5), requires_grad = True)\n",
        "print(a)\n",
        "result = a * 5\n",
        "print(result)\n",
        "\n",
        "# grad can be implicitly created only for scalar outputs\n",
        "# so let's calculate the sum here so that the output becomes a scalar and we can apply a backward pass\n",
        "mean_result = result.sum()\n",
        "print(mean_result)\n",
        "# calculate gradient\n",
        "mean_result.backward()\n",
        "# print gradient of a\n",
        "print(a.grad)"
      ],
      "execution_count": 135,
      "outputs": [
        {
          "output_type": "stream",
          "text": [
            "tensor([[0.4398, 0.2669, 0.1548, 0.3023, 0.2949],\n",
            "        [0.8256, 0.9323, 0.7791, 0.2025, 0.2745],\n",
            "        [0.8856, 0.3784, 0.2968, 0.8600, 0.7875]], requires_grad=True)\n",
            "tensor([[2.1989, 1.3345, 0.7738, 1.5113, 1.4745],\n",
            "        [4.1279, 4.6617, 3.8957, 1.0127, 1.3725],\n",
            "        [4.4282, 1.8920, 1.4838, 4.2999, 3.9377]], grad_fn=<MulBackward0>)\n",
            "tensor(38.4051, grad_fn=<SumBackward0>)\n",
            "tensor([[5., 5., 5., 5., 5.],\n",
            "        [5., 5., 5., 5., 5.],\n",
            "        [5., 5., 5., 5., 5.]])\n"
          ],
          "name": "stdout"
        }
      ]
    },
    {
      "cell_type": "code",
      "metadata": {
        "id": "g2RWcyEVo1IE",
        "colab_type": "code",
        "colab": {
          "base_uri": "https://localhost:8080/",
          "height": 100
        },
        "outputId": "e7761d2a-5551-479e-e59e-055fc9f60a12"
      },
      "source": [
        "import torch\n",
        "from torch.autograd import Variable\n",
        "\n",
        "# Variables wrap a Tensor\n",
        "x = Variable(torch.ones(2, 2), requires_grad=True)\n",
        "# Variable containing:\n",
        "# 1  1\n",
        "# 1  1\n",
        "# [torch.FloatTensor of size 2x2]\n",
        "print(x)\n",
        "#param.requires_grad = True\n",
        "\n",
        "y = x + 2            # Create y from an operation\n",
        "# Variable containing:\n",
        "# 3  3\n",
        "# 3  3\n",
        "# [torch.FloatTensor of size 2x2]\n",
        "\n",
        "z = torch.add(x, y)  # Same as z = x + y\n",
        "\n",
        "z = y * y * 2\n",
        "\n",
        "out = z.mean()\n",
        "# Variable containing:\n",
        "# 2\n",
        "# [torch.FloatTensor of size 1]\n",
        "print(out)\n",
        "\n",
        "out.backward()\n",
        "\n",
        "print(x.grad)\n",
        "\n",
        "# Autograd is a PyTorch package for the differentiation for all operations on Tensors. It performs the backpropagation starting from a variable. \n",
        "# In deep learning, this variable often holds the value of the cost function. backward executes the backward pass and computes all the backpropagation \n",
        "# gradients automatically. We access indvidual gradient through the attributes grad of a variable. x.grad below returns a 2x2 gradient tensor for ∂out∂x.\n"
      ],
      "execution_count": 141,
      "outputs": [
        {
          "output_type": "stream",
          "text": [
            "tensor([[1., 1.],\n",
            "        [1., 1.]], requires_grad=True)\n",
            "tensor(18., grad_fn=<MeanBackward0>)\n",
            "tensor([[3., 3.],\n",
            "        [3., 3.]])\n"
          ],
          "name": "stdout"
        }
      ]
    },
    {
      "cell_type": "markdown",
      "metadata": {
        "id": "ym0Amk2IGfLx",
        "colab_type": "text"
      },
      "source": [
        "\n",
        "\n",
        "---\n",
        "\n",
        "## Question 11: \n",
        "\n",
        "Why the gradient of a is all 5s above?\n",
        "\n",
        "\n",
        "\n",
        "---\n",
        "\n"
      ]
    },
    {
      "cell_type": "markdown",
      "metadata": {
        "id": "7PDgGq2R0k7I",
        "colab_type": "text"
      },
      "source": [
        "As we see, Pytorch automagically calculated the gradient value for us. It looks to be the correct value - we multiplied an input by 5, so the gradient of this operation equals to 5.\n",
        "\n",
        "# Disabling Autograd for tensors\n",
        "\n",
        "We don't need to compute gradients for all the variables that are involved in the pipeline. The Pytorch API provides 2 ways to disable autograd.\n",
        "\n",
        "`detach` - returns a copy of the tensor with autograd disabled. This \n",
        "\n",
        "1.   copy is built on the same memory as the original tensor, so in-place size / stride / storage changes (such as resize_ / resizeas / set / transpose) modifications are not allowed.\n",
        "2.   torch.no_grad() - It is a context manager that allows you to guard a series of operations from autograd without creating new tensors."
      ]
    },
    {
      "cell_type": "code",
      "metadata": {
        "id": "yqVG9fQb0cLW",
        "colab_type": "code",
        "outputId": "f6e2549a-2ad0-413f-87ea-1dc6501ec48d",
        "colab": {
          "base_uri": "https://localhost:8080/",
          "height": 67
        }
      },
      "source": [
        "a = torch.rand((3, 5), requires_grad=True)\n",
        "detached_a = a.detach()\n",
        "detached_result = detached_a * 5\n",
        "result = a * 10\n",
        "# we cannot do backward pass that is required for autograd using multideminsional output,\n",
        "# so let's calculate the sum here\n",
        "mean_result = result.sum()\n",
        "mean_result.backward()\n",
        "a.grad"
      ],
      "execution_count": 142,
      "outputs": [
        {
          "output_type": "execute_result",
          "data": {
            "text/plain": [
              "tensor([[10., 10., 10., 10., 10.],\n",
              "        [10., 10., 10., 10., 10.],\n",
              "        [10., 10., 10., 10., 10.]])"
            ]
          },
          "metadata": {
            "tags": []
          },
          "execution_count": 142
        }
      ]
    },
    {
      "cell_type": "code",
      "metadata": {
        "id": "uqpch2Be02J7",
        "colab_type": "code",
        "outputId": "d1de7a90-56aa-448c-bae7-5e9298e7b6b3",
        "colab": {
          "base_uri": "https://localhost:8080/",
          "height": 67
        }
      },
      "source": [
        "a = torch.rand((3, 5), requires_grad=True)\n",
        "with torch.no_grad():\n",
        "    detached_result = a * 5\n",
        "result = a * 10\n",
        "# we cannot do backward pass that is required for autograd using multideminsional output,\n",
        "# so let's calculate the sum here\n",
        "mean_result = result.sum()\n",
        "mean_result.backward()\n",
        "a.grad"
      ],
      "execution_count": 143,
      "outputs": [
        {
          "output_type": "execute_result",
          "data": {
            "text/plain": [
              "tensor([[10., 10., 10., 10., 10.],\n",
              "        [10., 10., 10., 10., 10.],\n",
              "        [10., 10., 10., 10., 10.]])"
            ]
          },
          "metadata": {
            "tags": []
          },
          "execution_count": 143
        }
      ]
    },
    {
      "cell_type": "markdown",
      "metadata": {
        "id": "vjh2rYOPJUAZ",
        "colab_type": "text"
      },
      "source": [
        "# Custom Network\n",
        "\n",
        "A fully-connected ReLU network with one hidden layer and no biases, trained to predict y from x by minimizing squared Euclidean distance.\n",
        "\n",
        "This implementation uses PyTorch tensors to manually compute the forward pass, loss, and backward pass.\n",
        "\n",
        "A PyTorch Tensor is basically the same as a numpy array: it does not know anything about deep learning or computational graphs or gradients, and is just a generic n-dimensional array to be used for arbitrary numeric computation.\n",
        "\n",
        "The biggest difference between a numpy array and a PyTorch Tensor is that a PyTorch Tensor can run on either CPU or GPU. To run operations on the GPU, just cast the Tensor to a cuda datatype."
      ]
    },
    {
      "cell_type": "code",
      "metadata": {
        "id": "0nf5RaB104Vp",
        "colab_type": "code",
        "outputId": "96fbbfb8-d930-4bf9-c087-a3eea47e91a0",
        "colab": {
          "base_uri": "https://localhost:8080/",
          "height": 1000
        }
      },
      "source": [
        "dtype = torch.float\n",
        "device = torch.device(\"cpu\")\n",
        "# device = torch.device(\"cuda:0\") # Uncomment this to run on GPU\n",
        "\n",
        "# N is batch size; D_in is input dimension;\n",
        "# H is hidden dimension; D_out is output dimension.\n",
        "N, D_in, H, D_out = 64, 1000, 100, 10\n",
        "\n",
        "# Create random input and output data\n",
        "x = torch.randn(N, D_in, device=device, dtype=dtype)\n",
        "y = torch.randn(N, D_out, device=device, dtype=dtype)\n",
        "\n",
        "# Randomly initialize weights\n",
        "w1 = torch.randn(D_in, H, device=device, dtype=dtype)\n",
        "w2 = torch.randn(H, D_out, device=device, dtype=dtype)\n",
        "\n",
        "learning_rate = 1e-6\n",
        "for t in range(500):\n",
        "    # Forward pass: compute predicted y\n",
        "    h = x.mm(w1)\n",
        "    h_relu = h.clamp(min=0)\n",
        "    y_pred = h_relu.mm(w2)\n",
        "    #print(\"h\",h)\n",
        "    #print('h_relu',h_relu)\n",
        "    #print('y_pred', y_pred)\n",
        "    # Compute and print loss\n",
        "    loss = (y_pred - y).pow(2).sum().item()\n",
        "    print(t, loss)\n",
        "\n",
        "    # Backprop to compute gradients of w1 and w2 with respect to loss\n",
        "    grad_y_pred = 2*(y_pred - y)\n",
        "    grad_w2 = h_relu.t().mm(grad_y_pred)\n",
        "    grad_h_relu = grad_y_pred.mm(w2.t())\n",
        "    grad_h = grad_h_relu.clone()\n",
        "    grad_h[h < 0] = 0\n",
        "    grad_w1 = x.t().mm(grad_h)\n",
        "    \n",
        "    #grad_h_relu[h<0]=0\n",
        "    #grad_w1 = x.t().mm(grad_h_relu)\n",
        "\n",
        "    ''' \n",
        "    print('grad_y_pred', grad_y_pred)\n",
        "    print('grad_w2',grad_w2)\n",
        "    print('grad_h_relu',grad_h_relu)\n",
        "    print('grad_h',grad_h)\n",
        "    print('grad_w1',grad_w1)\n",
        "    '''\n",
        "\n",
        "\n",
        "\n",
        "    # Update weights using gradient descent\n",
        "    w1 -= learning_rate * grad_w1\n",
        "    w2 -= learning_rate * grad_w2"
      ],
      "execution_count": 152,
      "outputs": [
        {
          "output_type": "stream",
          "text": [
            "0 29846362.0\n",
            "1 23408112.0\n",
            "2 22392524.0\n",
            "3 22977902.0\n",
            "4 22809022.0\n",
            "5 20355498.0\n",
            "6 15879204.0\n",
            "7 10856864.0\n",
            "8 6775956.0\n",
            "9 4078718.25\n",
            "10 2491716.5\n",
            "11 1605576.0\n",
            "12 1110091.125\n",
            "13 822193.0\n",
            "14 644461.4375\n",
            "15 526452.3125\n",
            "16 442411.6875\n",
            "17 378907.34375\n",
            "18 328628.8125\n",
            "19 287586.09375\n",
            "20 253315.78125\n",
            "21 224244.109375\n",
            "22 199294.140625\n",
            "23 177715.078125\n",
            "24 158943.9375\n",
            "25 142514.5625\n",
            "26 128078.0\n",
            "27 115353.328125\n",
            "28 104095.046875\n",
            "29 94115.828125\n",
            "30 85242.140625\n",
            "31 77331.46875\n",
            "32 70273.0078125\n",
            "33 63951.71875\n",
            "34 58277.06640625\n",
            "35 53173.9296875\n",
            "36 48578.5078125\n",
            "37 44431.7890625\n",
            "38 40684.11328125\n",
            "39 37294.734375\n",
            "40 34221.45703125\n",
            "41 31432.505859375\n",
            "42 28898.513671875\n",
            "43 26591.578125\n",
            "44 24489.517578125\n",
            "45 22572.75390625\n",
            "46 20825.81640625\n",
            "47 19229.3515625\n",
            "48 17768.7109375\n",
            "49 16431.171875\n",
            "50 15205.126953125\n",
            "51 14080.203125\n",
            "52 13046.5078125\n",
            "53 12096.6806640625\n",
            "54 11223.19140625\n",
            "55 10419.2333984375\n",
            "56 9680.951171875\n",
            "57 8999.1650390625\n",
            "58 8369.546875\n",
            "59 7787.970703125\n",
            "60 7250.43408203125\n",
            "61 6753.00341796875\n",
            "62 6292.74462890625\n",
            "63 5866.42529296875\n",
            "64 5471.47900390625\n",
            "65 5105.087890625\n",
            "66 4765.20947265625\n",
            "67 4449.5673828125\n",
            "68 4156.35986328125\n",
            "69 3883.9267578125\n",
            "70 3630.564453125\n",
            "71 3394.8740234375\n",
            "72 3175.556884765625\n",
            "73 2971.367919921875\n",
            "74 2781.1337890625\n",
            "75 2603.80224609375\n",
            "76 2438.4638671875\n",
            "77 2284.245361328125\n",
            "78 2140.400390625\n",
            "79 2006.18408203125\n",
            "80 1880.8638916015625\n",
            "81 1763.8541259765625\n",
            "82 1654.5001220703125\n",
            "83 1552.328857421875\n",
            "84 1456.794921875\n",
            "85 1367.431884765625\n",
            "86 1283.8057861328125\n",
            "87 1205.5538330078125\n",
            "88 1132.333740234375\n",
            "89 1063.7703857421875\n",
            "90 999.5438842773438\n",
            "91 939.373291015625\n",
            "92 882.9964599609375\n",
            "93 830.1316528320312\n",
            "94 780.602783203125\n",
            "95 734.13720703125\n",
            "96 690.5698852539062\n",
            "97 649.7286987304688\n",
            "98 611.4253540039062\n",
            "99 575.4902954101562\n",
            "100 541.743896484375\n",
            "101 510.0440673828125\n",
            "102 480.2685546875\n",
            "103 452.3187561035156\n",
            "104 426.0693664550781\n",
            "105 401.3751525878906\n",
            "106 378.15753173828125\n",
            "107 356.3388366699219\n",
            "108 335.8261413574219\n",
            "109 316.5347595214844\n",
            "110 298.3862609863281\n",
            "111 281.31500244140625\n",
            "112 265.25543212890625\n",
            "113 250.1405792236328\n",
            "114 235.9123992919922\n",
            "115 222.52049255371094\n",
            "116 209.913330078125\n",
            "117 198.03506469726562\n",
            "118 186.8544464111328\n",
            "119 176.32315063476562\n",
            "120 166.40536499023438\n",
            "121 157.05746459960938\n",
            "122 148.24948120117188\n",
            "123 139.95404052734375\n",
            "124 132.133056640625\n",
            "125 124.7573471069336\n",
            "126 117.80722045898438\n",
            "127 111.25161743164062\n",
            "128 105.07423400878906\n",
            "129 99.2455062866211\n",
            "130 93.74677276611328\n",
            "131 88.56349182128906\n",
            "132 83.67174530029297\n",
            "133 79.0570068359375\n",
            "134 74.70149230957031\n",
            "135 70.5935287475586\n",
            "136 66.71549224853516\n",
            "137 63.056671142578125\n",
            "138 59.601261138916016\n",
            "139 56.33953094482422\n",
            "140 53.25979995727539\n",
            "141 50.35174560546875\n",
            "142 47.608192443847656\n",
            "143 45.0146369934082\n",
            "144 42.56635665893555\n",
            "145 40.253875732421875\n",
            "146 38.06946563720703\n",
            "147 36.00514602661133\n",
            "148 34.05644989013672\n",
            "149 32.21403884887695\n",
            "150 30.472280502319336\n",
            "151 28.828088760375977\n",
            "152 27.273500442504883\n",
            "153 25.805213928222656\n",
            "154 24.4161376953125\n",
            "155 23.103824615478516\n",
            "156 21.863086700439453\n",
            "157 20.6895751953125\n",
            "158 19.580684661865234\n",
            "159 18.53197479248047\n",
            "160 17.54100799560547\n",
            "161 16.60310173034668\n",
            "162 15.716157913208008\n",
            "163 14.876616477966309\n",
            "164 14.084772109985352\n",
            "165 13.334341049194336\n",
            "166 12.624224662780762\n",
            "167 11.95292854309082\n",
            "168 11.3179931640625\n",
            "169 10.717122077941895\n",
            "170 10.148481369018555\n",
            "171 9.610631942749023\n",
            "172 9.101395606994629\n",
            "173 8.619853973388672\n",
            "174 8.163923263549805\n",
            "175 7.7325439453125\n",
            "176 7.3243536949157715\n",
            "177 6.93770694732666\n",
            "178 6.572073459625244\n",
            "179 6.22564697265625\n",
            "180 5.898040294647217\n",
            "181 5.587839126586914\n",
            "182 5.294017791748047\n",
            "183 5.015693664550781\n",
            "184 4.752322673797607\n",
            "185 4.502992630004883\n",
            "186 4.266643047332764\n",
            "187 4.043388366699219\n",
            "188 3.831441640853882\n",
            "189 3.6310901641845703\n",
            "190 3.4410948753356934\n",
            "191 3.2611353397369385\n",
            "192 3.0911550521850586\n",
            "193 2.929630756378174\n",
            "194 2.7769248485565186\n",
            "195 2.63181471824646\n",
            "196 2.4947407245635986\n",
            "197 2.3649039268493652\n",
            "198 2.2417545318603516\n",
            "199 2.1250619888305664\n",
            "200 2.0146751403808594\n",
            "201 1.909913420677185\n",
            "202 1.8106368780136108\n",
            "203 1.7168511152267456\n",
            "204 1.6276593208312988\n",
            "205 1.5432078838348389\n",
            "206 1.4632841348648071\n",
            "207 1.3873591423034668\n",
            "208 1.315665602684021\n",
            "209 1.2474812269210815\n",
            "210 1.1830322742462158\n",
            "211 1.1218788623809814\n",
            "212 1.0639747381210327\n",
            "213 1.008926272392273\n",
            "214 0.9569129943847656\n",
            "215 0.9075150489807129\n",
            "216 0.8606878519058228\n",
            "217 0.8164346814155579\n",
            "218 0.7744293808937073\n",
            "219 0.73464035987854\n",
            "220 0.6969462633132935\n",
            "221 0.6612696647644043\n",
            "222 0.6273422837257385\n",
            "223 0.5953434109687805\n",
            "224 0.5648455619812012\n",
            "225 0.5359590649604797\n",
            "226 0.5085680484771729\n",
            "227 0.48260074853897095\n",
            "228 0.4580027163028717\n",
            "229 0.43459343910217285\n",
            "230 0.41244104504585266\n",
            "231 0.39142563939094543\n",
            "232 0.37147220969200134\n",
            "233 0.35257595777511597\n",
            "234 0.3346083164215088\n",
            "235 0.3175655007362366\n",
            "236 0.3013888895511627\n",
            "237 0.2861692011356354\n",
            "238 0.27161669731140137\n",
            "239 0.25783228874206543\n",
            "240 0.244731605052948\n",
            "241 0.23231464624404907\n",
            "242 0.2204892784357071\n",
            "243 0.2093539535999298\n",
            "244 0.19870814681053162\n",
            "245 0.1886732429265976\n",
            "246 0.17911550402641296\n",
            "247 0.17006483674049377\n",
            "248 0.1614534854888916\n",
            "249 0.1532794088125229\n",
            "250 0.14546743035316467\n",
            "251 0.13813430070877075\n",
            "252 0.1311642825603485\n",
            "253 0.12455236166715622\n",
            "254 0.11825688183307648\n",
            "255 0.11229190975427628\n",
            "256 0.10662266612052917\n",
            "257 0.10125336050987244\n",
            "258 0.09616072475910187\n",
            "259 0.09131769835948944\n",
            "260 0.08670046925544739\n",
            "261 0.08233778178691864\n",
            "262 0.07821996510028839\n",
            "263 0.07426170259714127\n",
            "264 0.07051947712898254\n",
            "265 0.06696821749210358\n",
            "266 0.06360279768705368\n",
            "267 0.06039794534444809\n",
            "268 0.05738624557852745\n",
            "269 0.05451253429055214\n",
            "270 0.05176457017660141\n",
            "271 0.04915190488100052\n",
            "272 0.0467020608484745\n",
            "273 0.04434743896126747\n",
            "274 0.04214504361152649\n",
            "275 0.040021758526563644\n",
            "276 0.038021985441446304\n",
            "277 0.03612852469086647\n",
            "278 0.03431854397058487\n",
            "279 0.03261222690343857\n",
            "280 0.030985675752162933\n",
            "281 0.029436876997351646\n",
            "282 0.027971548959612846\n",
            "283 0.02657059207558632\n",
            "284 0.025253787636756897\n",
            "285 0.023999320343136787\n",
            "286 0.022811759263277054\n",
            "287 0.02168547362089157\n",
            "288 0.020599033683538437\n",
            "289 0.019573284313082695\n",
            "290 0.018611926585435867\n",
            "291 0.017680631950497627\n",
            "292 0.016803797334432602\n",
            "293 0.015974288806319237\n",
            "294 0.015187224373221397\n",
            "295 0.014442162588238716\n",
            "296 0.01372840441763401\n",
            "297 0.01306251809000969\n",
            "298 0.012419966980814934\n",
            "299 0.011811725795269012\n",
            "300 0.011236957274377346\n",
            "301 0.0106856320053339\n",
            "302 0.01017038058489561\n",
            "303 0.009676369838416576\n",
            "304 0.009206072427332401\n",
            "305 0.008757434785366058\n",
            "306 0.008336245082318783\n",
            "307 0.007928155362606049\n",
            "308 0.007550287991762161\n",
            "309 0.007182104513049126\n",
            "310 0.006838676054030657\n",
            "311 0.006515071727335453\n",
            "312 0.0062038772739470005\n",
            "313 0.005903737619519234\n",
            "314 0.0056264763697981834\n",
            "315 0.00536117609590292\n",
            "316 0.005107330624014139\n",
            "317 0.004870939534157515\n",
            "318 0.0046445210464298725\n",
            "319 0.0044248271733522415\n",
            "320 0.004225245676934719\n",
            "321 0.004027337767183781\n",
            "322 0.0038383605424314737\n",
            "323 0.003662948263809085\n",
            "324 0.003497323952615261\n",
            "325 0.0033376652281731367\n",
            "326 0.0031906855292618275\n",
            "327 0.0030432632192969322\n",
            "328 0.002907062880694866\n",
            "329 0.0027796379290521145\n",
            "330 0.0026581778656691313\n",
            "331 0.0025409148074686527\n",
            "332 0.002430128864943981\n",
            "333 0.002323911990970373\n",
            "334 0.002221744041889906\n",
            "335 0.0021279084030538797\n",
            "336 0.0020348443649709225\n",
            "337 0.0019494699081405997\n",
            "338 0.001867908053100109\n",
            "339 0.0017917583463713527\n",
            "340 0.0017137568211182952\n",
            "341 0.0016417648876085877\n",
            "342 0.0015750774182379246\n",
            "343 0.0015124499332159758\n",
            "344 0.0014493106864392757\n",
            "345 0.0013893882278352976\n",
            "346 0.0013321090955287218\n",
            "347 0.0012793545611202717\n",
            "348 0.0012279744260013103\n",
            "349 0.0011806689435616136\n",
            "350 0.0011338283075019717\n",
            "351 0.001091070007532835\n",
            "352 0.0010486585088074207\n",
            "353 0.001009301864542067\n",
            "354 0.0009679404320195317\n",
            "355 0.0009307466098107398\n",
            "356 0.000895010307431221\n",
            "357 0.0008617651183158159\n",
            "358 0.0008312564459629357\n",
            "359 0.0007995308842509985\n",
            "360 0.0007701555732637644\n",
            "361 0.0007425025105476379\n",
            "362 0.0007152423495426774\n",
            "363 0.0006908043287694454\n",
            "364 0.0006663219537585974\n",
            "365 0.0006438522250391543\n",
            "366 0.0006216898909769952\n",
            "367 0.000599927210714668\n",
            "368 0.000580408435780555\n",
            "369 0.000559087551664561\n",
            "370 0.0005406413110904396\n",
            "371 0.0005223495536483824\n",
            "372 0.0005056682857684791\n",
            "373 0.0004901765496470034\n",
            "374 0.00047326329513452947\n",
            "375 0.0004584301495924592\n",
            "376 0.00044403475476428866\n",
            "377 0.0004297670675441623\n",
            "378 0.0004163154517300427\n",
            "379 0.00040266819996759295\n",
            "380 0.00039110981742851436\n",
            "381 0.00037854688707739115\n",
            "382 0.0003671958693303168\n",
            "383 0.00035596603993326426\n",
            "384 0.0003463609318714589\n",
            "385 0.0003354497894179076\n",
            "386 0.00032495649065822363\n",
            "387 0.0003155972226522863\n",
            "388 0.0003064463962800801\n",
            "389 0.00029776565497741103\n",
            "390 0.00028914742870256305\n",
            "391 0.00028077964088879526\n",
            "392 0.0002734712907113135\n",
            "393 0.00026589815388433635\n",
            "394 0.00025794192333705723\n",
            "395 0.0002502021670807153\n",
            "396 0.00024407748423982412\n",
            "397 0.00023761071497574449\n",
            "398 0.00023160183627624065\n",
            "399 0.00022588056162931025\n",
            "400 0.0002201493625761941\n",
            "401 0.00021453920635394752\n",
            "402 0.00020893035980407149\n",
            "403 0.00020341522758826613\n",
            "404 0.00019814907864201814\n",
            "405 0.00019307494221720845\n",
            "406 0.00018821436970029026\n",
            "407 0.0001838791067712009\n",
            "408 0.00017900418606586754\n",
            "409 0.00017464299162384123\n",
            "410 0.00017057504737749696\n",
            "411 0.00016625301213935018\n",
            "412 0.00016305316239595413\n",
            "413 0.0001590746978763491\n",
            "414 0.0001553560432512313\n",
            "415 0.00015156992594711483\n",
            "416 0.00014817510964348912\n",
            "417 0.00014524601283483207\n",
            "418 0.00014169345377013087\n",
            "419 0.0001385110808769241\n",
            "420 0.0001353981060674414\n",
            "421 0.00013270766066852957\n",
            "422 0.00012969379895366728\n",
            "423 0.00012644578237086535\n",
            "424 0.0001241053978446871\n",
            "425 0.00012130147661082447\n",
            "426 0.00011848391295643523\n",
            "427 0.00011607754277065396\n",
            "428 0.00011369421554263681\n",
            "429 0.00011114009248558432\n",
            "430 0.00010894949809880927\n",
            "431 0.00010668332106433809\n",
            "432 0.00010476110765011981\n",
            "433 0.00010199955431744456\n",
            "434 0.00010009204561356455\n",
            "435 9.830201452132314e-05\n",
            "436 9.626426617614925e-05\n",
            "437 9.450371726416051e-05\n",
            "438 9.277585195377469e-05\n",
            "439 9.097306610783562e-05\n",
            "440 8.884767157724127e-05\n",
            "441 8.746403182158247e-05\n",
            "442 8.576278196414933e-05\n",
            "443 8.411314047407359e-05\n",
            "444 8.237612200900912e-05\n",
            "445 8.071251795627177e-05\n",
            "446 7.941166404634714e-05\n",
            "447 7.805192581145093e-05\n",
            "448 7.656453817617148e-05\n",
            "449 7.53846688894555e-05\n",
            "450 7.402962364722043e-05\n",
            "451 7.277572149178013e-05\n",
            "452 7.15984933776781e-05\n",
            "453 7.012386049609631e-05\n",
            "454 6.88571817590855e-05\n",
            "455 6.777177623007447e-05\n",
            "456 6.672125891782343e-05\n",
            "457 6.55493640806526e-05\n",
            "458 6.430960638681427e-05\n",
            "459 6.336330261547118e-05\n",
            "460 6.206771649885923e-05\n",
            "461 6.092885087127797e-05\n",
            "462 6.017904161126353e-05\n",
            "463 5.913177665206604e-05\n",
            "464 5.817696001031436e-05\n",
            "465 5.74215519009158e-05\n",
            "466 5.632924512610771e-05\n",
            "467 5.556134055950679e-05\n",
            "468 5.453758058138192e-05\n",
            "469 5.3734693210572004e-05\n",
            "470 5.297872849041596e-05\n",
            "471 5.2075247367611155e-05\n",
            "472 5.132900696480647e-05\n",
            "473 5.082814459456131e-05\n",
            "474 4.9892536480911076e-05\n",
            "475 4.923179585603066e-05\n",
            "476 4.847433228860609e-05\n",
            "477 4.7772598918527365e-05\n",
            "478 4.7021621867315844e-05\n",
            "479 4.627881935448386e-05\n",
            "480 4.5666030928259715e-05\n",
            "481 4.4947264541406184e-05\n",
            "482 4.409626126289368e-05\n",
            "483 4.347410867922008e-05\n",
            "484 4.289068601792678e-05\n",
            "485 4.226461169309914e-05\n",
            "486 4.176733273197897e-05\n",
            "487 4.124264160054736e-05\n",
            "488 4.045705281896517e-05\n",
            "489 4.006320523330942e-05\n",
            "490 3.9741400541970506e-05\n",
            "491 3.924859265680425e-05\n",
            "492 3.8805177609901875e-05\n",
            "493 3.830556306638755e-05\n",
            "494 3.7587149563478306e-05\n",
            "495 3.70200359611772e-05\n",
            "496 3.661547088995576e-05\n",
            "497 3.5987472074339166e-05\n",
            "498 3.560070035746321e-05\n",
            "499 3.509577800286934e-05\n"
          ],
          "name": "stdout"
        }
      ]
    },
    {
      "cell_type": "markdown",
      "metadata": {
        "id": "ycwxAPHZLNST",
        "colab_type": "text"
      },
      "source": [
        "\n",
        "\n",
        "---\n",
        "## Question 12\n",
        "\n",
        "In the code above, why do we have 2 in '2.0*(y_pred - y)`?\n",
        "# Ans: loss = (y_pred-y)^2, take derivative 2(y_pred-y).\n",
        "\n",
        "## Question 13\n",
        "In the code above, what does `grad_h[h < 0] = 0` signify?\n",
        "\n",
        "## Question 14\n",
        "In the code above, how many \"epochs\" have we trained the model for? \n",
        "# Ans: 500\n",
        "## Question 15\n",
        "In the code above, if we take the trained model, and run it on fresh  inputs, the trained model will be able to predict fresh output with high accuracy. \n",
        "\n",
        "## Question 16\n",
        "In the code above, if we dont use clone in `grad_h = grad_h_relu.clone()` the model will still train without any issues. "
      ]
    },
    {
      "cell_type": "code",
      "metadata": {
        "id": "PnJ49I07JJI6",
        "colab_type": "code",
        "colab": {}
      },
      "source": [
        ""
      ],
      "execution_count": 0,
      "outputs": []
    }
  ]
}