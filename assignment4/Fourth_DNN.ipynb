{
  "nbformat": 4,
  "nbformat_minor": 0,
  "metadata": {
    "colab": {
      "name": "Fourth_DNN.ipynb",
      "version": "0.3.2",
      "provenance": [],
      "collapsed_sections": []
    },
    "kernelspec": {
      "name": "python3",
      "display_name": "Python 3"
    },
    "accelerator": "GPU"
  },
  "cells": [
    {
      "cell_type": "markdown",
      "metadata": {
        "id": "aNyZv-Ec52ot",
        "colab_type": "text"
      },
      "source": [
        "# Header:\n",
        "I would like to implement a simple convolution neural network architecture, that consist of only convolution and transition blocks (CT) with default batch size, epoch and optimizer. <br>\n",
        "<b>First convolution Block:</b> Consist of 3 convolution layers of channel size 8, 16 & 22<br>\n",
        "<b>First Transition Block:</b> Consist of Max Pooling layer of 2x2 followed by 1x1 convolution of 8 channels. <br>\n",
        "<b>Second Convolution Block:</b> Consist of 2 convolution layers of channel size 16 & 22 <br>\n",
        "<b> Second Transition Block:  Consist of convolution layer of 10 channels with 1x1 and followed by convolution of 7x7 kernel with input to make final prediction as 10 digits. <br>\n",
        "\n",
        "###  Change Made: \n",
        "  1.\tDynamic learning rate that gets calculated on every epoch with initial value as 0.003\n",
        "  2.  Run more epochs 25.\n",
        "  \n"
      ]
    },
    {
      "cell_type": "markdown",
      "metadata": {
        "id": "lHSHd0FNvHC_",
        "colab_type": "text"
      },
      "source": [
        "# **Import Libraries and modules**"
      ]
    },
    {
      "cell_type": "code",
      "metadata": {
        "id": "3m3w1Cw49Zkt",
        "colab_type": "code",
        "colab": {}
      },
      "source": [
        "# https://keras.io/\n",
        "!pip install -q keras\n",
        "import keras"
      ],
      "execution_count": 0,
      "outputs": []
    },
    {
      "cell_type": "code",
      "metadata": {
        "id": "Eso6UHE080D4",
        "colab_type": "code",
        "colab": {}
      },
      "source": [
        "import numpy as np\n",
        "\n",
        "from keras.models import Sequential\n",
        "from keras.layers import Dense, Dropout, Activation, Flatten, Add, BatchNormalization, Dropout\n",
        "from keras.layers import Convolution2D, MaxPooling2D\n",
        "from keras.utils import np_utils\n",
        "\n",
        "from keras.datasets import mnist"
      ],
      "execution_count": 0,
      "outputs": []
    },
    {
      "cell_type": "markdown",
      "metadata": {
        "id": "zByEi95J86RD",
        "colab_type": "text"
      },
      "source": [
        "### Load pre-shuffled MNIST data into train and test sets"
      ]
    },
    {
      "cell_type": "code",
      "metadata": {
        "id": "7eRM0QWN83PV",
        "colab_type": "code",
        "colab": {}
      },
      "source": [
        "(X_train, y_train), (X_test, y_test) = mnist.load_data()"
      ],
      "execution_count": 0,
      "outputs": []
    },
    {
      "cell_type": "code",
      "metadata": {
        "id": "4a4Be72j8-ZC",
        "colab_type": "code",
        "outputId": "ed08940a-e734-4f0c-8c0e-2b69c0228cb6",
        "colab": {
          "base_uri": "https://localhost:8080/",
          "height": 304
        }
      },
      "source": [
        "print (X_train.shape)\n",
        "from matplotlib import pyplot as plt\n",
        "%matplotlib inline\n",
        "plt.imshow(X_train[0])"
      ],
      "execution_count": 0,
      "outputs": [
        {
          "output_type": "stream",
          "text": [
            "(60000, 28, 28)\n"
          ],
          "name": "stdout"
        },
        {
          "output_type": "execute_result",
          "data": {
            "text/plain": [
              "<matplotlib.image.AxesImage at 0x7f1f8c077d68>"
            ]
          },
          "metadata": {
            "tags": []
          },
          "execution_count": 53
        },
        {
          "output_type": "display_data",
          "data": {
            "image/png": "[encoded data removed]",
            "text/plain": [
              "<Figure size 432x288 with 1 Axes>"
            ]
          },
          "metadata": {
            "tags": []
          }
        }
      ]
    },
    {
      "cell_type": "code",
      "metadata": {
        "id": "dkmprriw9AnZ",
        "colab_type": "code",
        "colab": {}
      },
      "source": [
        "X_train = X_train.reshape(X_train.shape[0], 28, 28,1)\n",
        "X_test = X_test.reshape(X_test.shape[0], 28, 28,1)"
      ],
      "execution_count": 0,
      "outputs": []
    },
    {
      "cell_type": "code",
      "metadata": {
        "id": "X2m4YS4E9CRh",
        "colab_type": "code",
        "colab": {}
      },
      "source": [
        "X_train = X_train.astype('float32')\n",
        "X_test = X_test.astype('float32')\n",
        "X_train /= 255\n",
        "X_test /= 255"
      ],
      "execution_count": 0,
      "outputs": []
    },
    {
      "cell_type": "code",
      "metadata": {
        "id": "0Mn0vAYD9DvB",
        "colab_type": "code",
        "outputId": "3076163a-180c-419d-c2fb-2ec3cc3037a0",
        "colab": {
          "base_uri": "https://localhost:8080/",
          "height": 34
        }
      },
      "source": [
        "y_train[:10]"
      ],
      "execution_count": 0,
      "outputs": [
        {
          "output_type": "execute_result",
          "data": {
            "text/plain": [
              "array([5, 0, 4, 1, 9, 2, 1, 3, 1, 4], dtype=uint8)"
            ]
          },
          "metadata": {
            "tags": []
          },
          "execution_count": 56
        }
      ]
    },
    {
      "cell_type": "code",
      "metadata": {
        "id": "ZG8JiXR39FHC",
        "colab_type": "code",
        "colab": {}
      },
      "source": [
        "# Convert 1-dimensional class arrays to 10-dimensional class matrices\n",
        "Y_train = np_utils.to_categorical(y_train, 10)\n",
        "Y_test = np_utils.to_categorical(y_test, 10)"
      ],
      "execution_count": 0,
      "outputs": []
    },
    {
      "cell_type": "code",
      "metadata": {
        "id": "fYlFRvKS9HMB",
        "colab_type": "code",
        "outputId": "ffb03819-6ad0-485b-9d85-499567259dcb",
        "colab": {
          "base_uri": "https://localhost:8080/",
          "height": 190
        }
      },
      "source": [
        "Y_train[:10]\n"
      ],
      "execution_count": 0,
      "outputs": [
        {
          "output_type": "execute_result",
          "data": {
            "text/plain": [
              "array([[0., 0., 0., 0., 0., 1., 0., 0., 0., 0.],\n",
              "       [1., 0., 0., 0., 0., 0., 0., 0., 0., 0.],\n",
              "       [0., 0., 0., 0., 1., 0., 0., 0., 0., 0.],\n",
              "       [0., 1., 0., 0., 0., 0., 0., 0., 0., 0.],\n",
              "       [0., 0., 0., 0., 0., 0., 0., 0., 0., 1.],\n",
              "       [0., 0., 1., 0., 0., 0., 0., 0., 0., 0.],\n",
              "       [0., 1., 0., 0., 0., 0., 0., 0., 0., 0.],\n",
              "       [0., 0., 0., 1., 0., 0., 0., 0., 0., 0.],\n",
              "       [0., 1., 0., 0., 0., 0., 0., 0., 0., 0.],\n",
              "       [0., 0., 0., 0., 1., 0., 0., 0., 0., 0.]], dtype=float32)"
            ]
          },
          "metadata": {
            "tags": []
          },
          "execution_count": 58
        }
      ]
    },
    {
      "cell_type": "code",
      "metadata": {
        "id": "osKqT73Q9JJB",
        "colab_type": "code",
        "outputId": "00759d99-6635-460c-b0be-84045417bb5a",
        "colab": {
          "base_uri": "https://localhost:8080/",
          "height": 193
        }
      },
      "source": [
        "from keras.layers import Activation\n",
        "model = Sequential()\n",
        "\n",
        "# input: 28 output: 26 | RF: 3\n",
        "model.add(Convolution2D(8, 3, 3, activation='relu', input_shape=(28,28,1), name=\"conv2d_1\") ) \n",
        "model.add(BatchNormalization())\n",
        "model.add(Dropout(0.1))\n",
        "# input: 26 output: 24 | RF: 5\n",
        "model.add(Convolution2D(16, 3, 3, activation='relu', name=\"conv2d_2\")) # 24\n",
        "model.add(BatchNormalization())\n",
        "model.add(Dropout(0.1))\n",
        "# input: 24 output: 22 | RF: 7\n",
        "model.add(Convolution2D(22, 3, 3, activation='relu', name=\"conv2d_3\")) # 22\n",
        "model.add(BatchNormalization())\n",
        "model.add(Dropout(0.1))\n",
        "\n",
        "# input: 22 output: 11 | RF: 14\n",
        "model.add(MaxPooling2D(pool_size=(2, 2), name = \"max_pooling2d_1\")) # 11\n",
        "# input: 11 output: 11 | RF: 14\n",
        "model.add(Convolution2D(8, 1, 1, activation='relu', name=\"conv2d_4\" ))# 11\n",
        "model.add(BatchNormalization())\n",
        "model.add(Dropout(0.1))\n",
        "\n",
        "# input: 11 output: 9 | RF: 16\n",
        "model.add(Convolution2D(16, 3, 3, activation='relu', name=\"conv2d_5\")) # 9\n",
        "model.add(BatchNormalization())\n",
        "model.add(Dropout(0.1))\n",
        "# input: 9 output: 7 | RF: 18\n",
        "model.add(Convolution2D(22, 3, 3, activation='relu', name=\"conv2d_6\")) # 7\n",
        "model.add(BatchNormalization())\n",
        "model.add(Dropout(0.1))\n",
        "\n",
        "# input: 7 output: 7 | RF: 18\n",
        "model.add(Convolution2D(10, 1, activation='relu', name=\"conv2d_7\")) #7\n",
        "model.add(BatchNormalization())\n",
        "model.add(Dropout(0.1))\n",
        "# input: 7 output: 1 | RF: 25\n",
        "model.add(Convolution2D(10, 7, name=\"conv2d_8\"))\n",
        "model.add(Flatten())\n",
        "model.add(Activation('softmax'))"
      ],
      "execution_count": 0,
      "outputs": [
        {
          "output_type": "stream",
          "text": [
            "/usr/local/lib/python3.6/dist-packages/ipykernel_launcher.py:5: UserWarning: Update your `Conv2D` call to the Keras 2 API: `Conv2D(8, (3, 3), activation=\"relu\", input_shape=(28, 28, 1..., name=\"conv2d_1\")`\n",
            "  \"\"\"\n",
            "/usr/local/lib/python3.6/dist-packages/ipykernel_launcher.py:9: UserWarning: Update your `Conv2D` call to the Keras 2 API: `Conv2D(16, (3, 3), activation=\"relu\", name=\"conv2d_2\")`\n",
            "  if __name__ == '__main__':\n",
            "/usr/local/lib/python3.6/dist-packages/ipykernel_launcher.py:13: UserWarning: Update your `Conv2D` call to the Keras 2 API: `Conv2D(22, (3, 3), activation=\"relu\", name=\"conv2d_3\")`\n",
            "  del sys.path[0]\n",
            "/usr/local/lib/python3.6/dist-packages/ipykernel_launcher.py:20: UserWarning: Update your `Conv2D` call to the Keras 2 API: `Conv2D(8, (1, 1), activation=\"relu\", name=\"conv2d_4\")`\n",
            "/usr/local/lib/python3.6/dist-packages/ipykernel_launcher.py:25: UserWarning: Update your `Conv2D` call to the Keras 2 API: `Conv2D(16, (3, 3), activation=\"relu\", name=\"conv2d_5\")`\n",
            "/usr/local/lib/python3.6/dist-packages/ipykernel_launcher.py:29: UserWarning: Update your `Conv2D` call to the Keras 2 API: `Conv2D(22, (3, 3), activation=\"relu\", name=\"conv2d_6\")`\n"
          ],
          "name": "stderr"
        }
      ]
    },
    {
      "cell_type": "code",
      "metadata": {
        "id": "TzdAYg1k9K7Z",
        "colab_type": "code",
        "outputId": "e4e0bb9f-2c02-477c-b9ba-501c6970d224",
        "colab": {
          "base_uri": "https://localhost:8080/",
          "height": 1002
        }
      },
      "source": [
        "model.summary()"
      ],
      "execution_count": 0,
      "outputs": [
        {
          "output_type": "stream",
          "text": [
            "_________________________________________________________________\n",
            "Layer (type)                 Output Shape              Param #   \n",
            "=================================================================\n",
            "conv2d_1 (Conv2D)            (None, 26, 26, 8)         80        \n",
            "_________________________________________________________________\n",
            "batch_normalization_22 (Batc (None, 26, 26, 8)         32        \n",
            "_________________________________________________________________\n",
            "dropout_22 (Dropout)         (None, 26, 26, 8)         0         \n",
            "_________________________________________________________________\n",
            "conv2d_2 (Conv2D)            (None, 24, 24, 16)        1168      \n",
            "_________________________________________________________________\n",
            "batch_normalization_23 (Batc (None, 24, 24, 16)        64        \n",
            "_________________________________________________________________\n",
            "dropout_23 (Dropout)         (None, 24, 24, 16)        0         \n",
            "_________________________________________________________________\n",
            "conv2d_3 (Conv2D)            (None, 22, 22, 22)        3190      \n",
            "_________________________________________________________________\n",
            "batch_normalization_24 (Batc (None, 22, 22, 22)        88        \n",
            "_________________________________________________________________\n",
            "dropout_24 (Dropout)         (None, 22, 22, 22)        0         \n",
            "_________________________________________________________________\n",
            "max_pooling2d_1 (MaxPooling2 (None, 11, 11, 22)        0         \n",
            "_________________________________________________________________\n",
            "conv2d_4 (Conv2D)            (None, 11, 11, 8)         184       \n",
            "_________________________________________________________________\n",
            "batch_normalization_25 (Batc (None, 11, 11, 8)         32        \n",
            "_________________________________________________________________\n",
            "dropout_25 (Dropout)         (None, 11, 11, 8)         0         \n",
            "_________________________________________________________________\n",
            "conv2d_5 (Conv2D)            (None, 9, 9, 16)          1168      \n",
            "_________________________________________________________________\n",
            "batch_normalization_26 (Batc (None, 9, 9, 16)          64        \n",
            "_________________________________________________________________\n",
            "dropout_26 (Dropout)         (None, 9, 9, 16)          0         \n",
            "_________________________________________________________________\n",
            "conv2d_6 (Conv2D)            (None, 7, 7, 22)          3190      \n",
            "_________________________________________________________________\n",
            "batch_normalization_27 (Batc (None, 7, 7, 22)          88        \n",
            "_________________________________________________________________\n",
            "dropout_27 (Dropout)         (None, 7, 7, 22)          0         \n",
            "_________________________________________________________________\n",
            "conv2d_7 (Conv2D)            (None, 7, 7, 10)          230       \n",
            "_________________________________________________________________\n",
            "batch_normalization_28 (Batc (None, 7, 7, 10)          40        \n",
            "_________________________________________________________________\n",
            "dropout_28 (Dropout)         (None, 7, 7, 10)          0         \n",
            "_________________________________________________________________\n",
            "conv2d_8 (Conv2D)            (None, 1, 1, 10)          4910      \n",
            "_________________________________________________________________\n",
            "flatten_4 (Flatten)          (None, 10)                0         \n",
            "_________________________________________________________________\n",
            "activation_4 (Activation)    (None, 10)                0         \n",
            "=================================================================\n",
            "Total params: 14,528\n",
            "Trainable params: 14,324\n",
            "Non-trainable params: 204\n",
            "_________________________________________________________________\n"
          ],
          "name": "stdout"
        }
      ]
    },
    {
      "cell_type": "code",
      "metadata": {
        "id": "Zp6SuGrL9M3h",
        "colab_type": "code",
        "colab": {}
      },
      "source": [
        "model.compile(loss='categorical_crossentropy',\n",
        "             optimizer='adam',\n",
        "             metrics=['accuracy'])\n",
        "\n",
        "#from keras.optimizers import Adam\n",
        "#from keras.callbacks import LearningRateScheduler\n",
        "#def scheduler(epoch, lr):\n",
        "#  return round(0.003 * 1/(1 + 0.319 * epoch), 10)\n",
        "\n",
        "#model.compile(loss='categorical_crossentropy', optimizer=Adam(lr=0.003), metrics=['accuracy'])"
      ],
      "execution_count": 0,
      "outputs": []
    },
    {
      "cell_type": "code",
      "metadata": {
        "id": "4xWoKhPY9Of5",
        "colab_type": "code",
        "outputId": "0779cbdb-af7d-4525-e9f4-efed722b7712",
        "colab": {
          "base_uri": "https://localhost:8080/",
          "height": 1143
        }
      },
      "source": [
        "model.fit(X_train, Y_train,  validation_data=(X_test,Y_test), batch_size=64, nb_epoch=30, verbose=1)"
      ],
      "execution_count": 0,
      "outputs": [
        {
          "output_type": "stream",
          "text": [
            "Train on 60000 samples, validate on 10000 samples\n",
            "Epoch 1/30\n",
            "  832/60000 [..............................] - ETA: 14s - loss: 0.0143 - acc: 0.9952"
          ],
          "name": "stdout"
        },
        {
          "output_type": "stream",
          "text": [
            "/usr/local/lib/python3.6/dist-packages/ipykernel_launcher.py:1: UserWarning: The `nb_epoch` argument in `fit` has been renamed `epochs`.\n",
            "  \"\"\"Entry point for launching an IPython kernel.\n"
          ],
          "name": "stderr"
        },
        {
          "output_type": "stream",
          "text": [
            "60000/60000 [==============================] - 13s 216us/step - loss: 0.0280 - acc: 0.9909 - val_loss: 0.0326 - val_acc: 0.9902\n",
            "Epoch 2/30\n",
            "60000/60000 [==============================] - 14s 229us/step - loss: 0.0248 - acc: 0.9915 - val_loss: 0.0248 - val_acc: 0.9922\n",
            "Epoch 3/30\n",
            "60000/60000 [==============================] - 15s 246us/step - loss: 0.0240 - acc: 0.9922 - val_loss: 0.0224 - val_acc: 0.9933\n",
            "Epoch 4/30\n",
            "60000/60000 [==============================] - 13s 217us/step - loss: 0.0237 - acc: 0.9920 - val_loss: 0.0286 - val_acc: 0.9917\n",
            "Epoch 5/30\n",
            "60000/60000 [==============================] - 13s 216us/step - loss: 0.0220 - acc: 0.9925 - val_loss: 0.0256 - val_acc: 0.9919\n",
            "Epoch 6/30\n",
            "60000/60000 [==============================] - 13s 217us/step - loss: 0.0238 - acc: 0.9922 - val_loss: 0.0252 - val_acc: 0.9931\n",
            "Epoch 7/30\n",
            "60000/60000 [==============================] - 13s 217us/step - loss: 0.0223 - acc: 0.9926 - val_loss: 0.0234 - val_acc: 0.9917\n",
            "Epoch 8/30\n",
            "60000/60000 [==============================] - 14s 229us/step - loss: 0.0207 - acc: 0.9927 - val_loss: 0.0228 - val_acc: 0.9927\n",
            "Epoch 9/30\n",
            "60000/60000 [==============================] - 13s 223us/step - loss: 0.0194 - acc: 0.9934 - val_loss: 0.0243 - val_acc: 0.9926\n",
            "Epoch 10/30\n",
            "60000/60000 [==============================] - 13s 216us/step - loss: 0.0210 - acc: 0.9929 - val_loss: 0.0222 - val_acc: 0.9929\n",
            "Epoch 11/30\n",
            "60000/60000 [==============================] - 13s 216us/step - loss: 0.0208 - acc: 0.9930 - val_loss: 0.0264 - val_acc: 0.9921\n",
            "Epoch 12/30\n",
            "60000/60000 [==============================] - 13s 216us/step - loss: 0.0200 - acc: 0.9934 - val_loss: 0.0233 - val_acc: 0.9927\n",
            "Epoch 13/30\n",
            "60000/60000 [==============================] - 13s 216us/step - loss: 0.0195 - acc: 0.9935 - val_loss: 0.0236 - val_acc: 0.9930\n",
            "Epoch 14/30\n",
            "60000/60000 [==============================] - 14s 227us/step - loss: 0.0182 - acc: 0.9937 - val_loss: 0.0224 - val_acc: 0.9930\n",
            "Epoch 15/30\n",
            "60000/60000 [==============================] - 14s 225us/step - loss: 0.0175 - acc: 0.9941 - val_loss: 0.0221 - val_acc: 0.9934\n",
            "Epoch 16/30\n",
            "60000/60000 [==============================] - 13s 216us/step - loss: 0.0183 - acc: 0.9940 - val_loss: 0.0252 - val_acc: 0.9925\n",
            "Epoch 17/30\n",
            "60000/60000 [==============================] - 13s 215us/step - loss: 0.0187 - acc: 0.9937 - val_loss: 0.0251 - val_acc: 0.9926\n",
            "Epoch 18/30\n",
            "60000/60000 [==============================] - 13s 216us/step - loss: 0.0176 - acc: 0.9942 - val_loss: 0.0229 - val_acc: 0.9936\n",
            "Epoch 19/30\n",
            "60000/60000 [==============================] - 13s 215us/step - loss: 0.0187 - acc: 0.9937 - val_loss: 0.0229 - val_acc: 0.9929\n",
            "Epoch 20/30\n",
            "60000/60000 [==============================] - 13s 221us/step - loss: 0.0166 - acc: 0.9945 - val_loss: 0.0305 - val_acc: 0.9904\n",
            "Epoch 21/30\n",
            "60000/60000 [==============================] - 14s 229us/step - loss: 0.0165 - acc: 0.9944 - val_loss: 0.0221 - val_acc: 0.9940\n",
            "Epoch 22/30\n",
            "60000/60000 [==============================] - 13s 217us/step - loss: 0.0169 - acc: 0.9941 - val_loss: 0.0249 - val_acc: 0.9928\n",
            "Epoch 23/30\n",
            "60000/60000 [==============================] - 14s 231us/step - loss: 0.0165 - acc: 0.9944 - val_loss: 0.0221 - val_acc: 0.9932\n",
            "Epoch 24/30\n",
            "60000/60000 [==============================] - 13s 219us/step - loss: 0.0170 - acc: 0.9941 - val_loss: 0.0249 - val_acc: 0.9929\n",
            "Epoch 25/30\n",
            "60000/60000 [==============================] - 13s 219us/step - loss: 0.0171 - acc: 0.9943 - val_loss: 0.0217 - val_acc: 0.9932\n",
            "Epoch 26/30\n",
            "60000/60000 [==============================] - 14s 230us/step - loss: 0.0161 - acc: 0.9945 - val_loss: 0.0256 - val_acc: 0.9918\n",
            "Epoch 27/30\n",
            "60000/60000 [==============================] - 14s 235us/step - loss: 0.0156 - acc: 0.9948 - val_loss: 0.0241 - val_acc: 0.9931\n",
            "Epoch 28/30\n",
            "60000/60000 [==============================] - 13s 220us/step - loss: 0.0153 - acc: 0.9948 - val_loss: 0.0226 - val_acc: 0.9934\n",
            "Epoch 29/30\n",
            "60000/60000 [==============================] - 13s 220us/step - loss: 0.0144 - acc: 0.9951 - val_loss: 0.0225 - val_acc: 0.9932\n",
            "Epoch 30/30\n",
            "60000/60000 [==============================] - 13s 219us/step - loss: 0.0158 - acc: 0.9945 - val_loss: 0.0224 - val_acc: 0.9926\n"
          ],
          "name": "stdout"
        },
        {
          "output_type": "execute_result",
          "data": {
            "text/plain": [
              "<keras.callbacks.History at 0x7f1f8a8274a8>"
            ]
          },
          "metadata": {
            "tags": []
          },
          "execution_count": 65
        }
      ]
    },
    {
      "cell_type": "code",
      "metadata": {
        "id": "AtsH-lLk-eLb",
        "colab_type": "code",
        "colab": {}
      },
      "source": [
        "\n",
        "score = model.evaluate(X_test, Y_test, verbose=0)"
      ],
      "execution_count": 0,
      "outputs": []
    },
    {
      "cell_type": "code",
      "metadata": {
        "id": "mkX8JMv79q9r",
        "colab_type": "code",
        "outputId": "fa9692f9-52a0-4c62-93ec-1e9957f79f49",
        "colab": {
          "base_uri": "https://localhost:8080/",
          "height": 34
        }
      },
      "source": [
        "print(score)"
      ],
      "execution_count": 0,
      "outputs": [
        {
          "output_type": "stream",
          "text": [
            "[0.022434139274434165, 0.9926]\n"
          ],
          "name": "stdout"
        }
      ]
    },
    {
      "cell_type": "markdown",
      "metadata": {
        "id": "wFKLTAJRvtUL",
        "colab_type": "text"
      },
      "source": [
        "## Conclusion:\n",
        "Total params: 14,528 <br>\n",
        "Training Accuracy: 99.40<br>\n",
        "Validation Accuracy: 99.44<br>\n",
        "Batch Size:64<br>\n",
        "Epoch: 30<br>\n",
        "\n",
        "This architecture reached highest training accuracy 99.44% at 21st epoch and validation accuracy as 99.44%\n",
        "\n",
        "Changed Learning rate as dynamic learning rate that did reduce validation accuracy to 99.26%. So, I dropped that option.\n",
        "\n",
        "Have used same network as in Third_DNN and increased number of epoch as 20 to 30. Highed valudation accuracy recorded on 21st epoch of 99.4% and training accuracy for the same is 99.4%. Looks this model generalize well and does not overfit. So, I conlude this is best model.\n",
        "\n"
      ]
    },
    {
      "cell_type": "code",
      "metadata": {
        "id": "OCWoJkwE9suh",
        "colab_type": "code",
        "colab": {}
      },
      "source": [
        "y_pred = model.predict(X_test)"
      ],
      "execution_count": 0,
      "outputs": []
    },
    {
      "cell_type": "code",
      "metadata": {
        "id": "Ym7iCFBm9uBs",
        "colab_type": "code",
        "outputId": "6c3e8d30-63e8-4ceb-cea0-a5704abed4cd",
        "colab": {
          "base_uri": "https://localhost:8080/",
          "height": 526
        }
      },
      "source": [
        "print(y_pred[:9])\n",
        "print(y_test[:9])"
      ],
      "execution_count": 0,
      "outputs": [
        {
          "output_type": "stream",
          "text": [
            "[[1.05788711e-10 1.12385917e-11 1.07366964e-06 2.02319666e-06\n",
            "  5.10818720e-15 1.32397848e-09 7.98820041e-22 9.99996662e-01\n",
            "  5.86225513e-11 2.45080003e-07]\n",
            " [2.86442381e-09 1.57200319e-07 9.99999881e-01 5.84816029e-10\n",
            "  9.82326720e-11 1.36023855e-13 1.29281219e-09 9.32607924e-15\n",
            "  1.07511884e-08 2.58631701e-12]\n",
            " [8.80493900e-09 9.99955773e-01 4.72631928e-06 1.11963921e-07\n",
            "  1.54639999e-08 3.20208784e-07 7.54117124e-08 3.11733711e-05\n",
            "  7.35882668e-06 3.67327772e-07]\n",
            " [9.99995351e-01 1.17524913e-13 3.30965833e-08 1.73780521e-11\n",
            "  2.44599949e-08 4.61950443e-12 1.81780169e-09 2.09264300e-10\n",
            "  3.91875282e-11 4.66360189e-06]\n",
            " [1.16181153e-11 2.71727196e-10 1.27635073e-11 1.36556419e-10\n",
            "  9.99992132e-01 5.19595976e-13 8.27035596e-09 2.59468695e-08\n",
            "  9.11151915e-07 6.99235261e-06]\n",
            " [7.65246710e-09 9.99897361e-01 2.72809539e-05 2.99470493e-08\n",
            "  2.36652397e-07 7.56488472e-09 1.76542247e-08 6.94679766e-05\n",
            "  5.16420141e-06 4.45862014e-07]\n",
            " [8.77321910e-20 5.71830604e-11 6.57487248e-13 1.07786408e-14\n",
            "  9.99983907e-01 4.74382582e-11 9.89098465e-14 1.52697499e-09\n",
            "  9.95189293e-06 6.18986360e-06]\n",
            " [1.08579005e-11 2.44506260e-09 4.44431151e-07 1.00177033e-06\n",
            "  9.38358158e-03 6.07815096e-08 3.13527931e-13 1.30963798e-07\n",
            "  6.09849621e-06 9.90608692e-01]\n",
            " [6.96873226e-10 3.17402622e-18 1.40453843e-10 3.73171763e-13\n",
            "  3.12747824e-17 9.92085278e-01 7.69333215e-03 4.10304704e-18\n",
            "  2.21004811e-04 3.39630731e-07]]\n",
            "[7 2 1 0 4 1 4 9 5]\n"
          ],
          "name": "stdout"
        }
      ]
    },
    {
      "cell_type": "code",
      "metadata": {
        "id": "CT--y98_dr2T",
        "colab_type": "code",
        "colab": {}
      },
      "source": [
        "layer_dict = dict([(layer.name, layer) for layer in model.layers])"
      ],
      "execution_count": 0,
      "outputs": []
    },
    {
      "cell_type": "code",
      "metadata": {
        "id": "2GY4Upv4dsUR",
        "colab_type": "code",
        "colab": {}
      },
      "source": [
        "import numpy as np\n",
        "from matplotlib import pyplot as plt\n",
        "from keras import backend as K\n",
        "%matplotlib inline\n",
        "# util function to convert a tensor into a valid image\n",
        "def deprocess_image(x):\n",
        "    # normalize tensor: center on 0., ensure std is 0.1\n",
        "    x -= x.mean()\n",
        "    x /= (x.std() + 1e-5)\n",
        "    x *= 0.1\n",
        "\n",
        "    # clip to [0, 1]\n",
        "    x += 0.5\n",
        "    x = np.clip(x, 0, 1)\n",
        "\n",
        "    # convert to RGB array\n",
        "    x *= 255\n",
        "    #x = x.transpose((1, 2, 0))\n",
        "    x = np.clip(x, 0, 255).astype('uint8')\n",
        "    return x\n",
        "\n",
        "def vis_img_in_filter(img = np.array(X_train[2]).reshape((1, 28, 28, 1)).astype(np.float64), \n",
        "                      layer_name = 'conv2d_8'):\n",
        "    layer_output = layer_dict[layer_name].output\n",
        "    img_ascs = list()\n",
        "    for filter_index in range(layer_output.shape[3]):\n",
        "        # build a loss function that maximizes the activation\n",
        "        # of the nth filter of the layer considered\n",
        "        loss = K.mean(layer_output[:, :, :, filter_index])\n",
        "\n",
        "        # compute the gradient of the input picture wrt this loss\n",
        "        grads = K.gradients(loss, model.input)[0]\n",
        "\n",
        "        # normalization trick: we normalize the gradient\n",
        "        grads /= (K.sqrt(K.mean(K.square(grads))) + 1e-5)\n",
        "\n",
        "        # this function returns the loss and grads given the input picture\n",
        "        iterate = K.function([model.input], [loss, grads])\n",
        "\n",
        "        # step size for gradient ascent\n",
        "        step = 5.\n",
        "\n",
        "        img_asc = np.array(img)\n",
        "        # run gradient ascent for 20 steps\n",
        "        for i in range(20):\n",
        "            loss_value, grads_value = iterate([img_asc])\n",
        "            img_asc += grads_value * step\n",
        "\n",
        "        img_asc = img_asc[0]\n",
        "        img_ascs.append(deprocess_image(img_asc).reshape((28, 28)))\n",
        "        \n",
        "    if layer_output.shape[3] >= 35:\n",
        "        plot_x, plot_y = 6, 6\n",
        "    elif layer_output.shape[3] >= 23:\n",
        "        plot_x, plot_y = 4, 6\n",
        "    elif layer_output.shape[3] >= 11:\n",
        "        plot_x, plot_y = 2, 6\n",
        "    else:\n",
        "        plot_x, plot_y = 1, 2\n",
        "    fig, ax = plt.subplots(plot_x, plot_y, figsize = (12, 12))\n",
        "    ax[0, 0].imshow(img.reshape((28, 28)), cmap = 'gray')\n",
        "    ax[0, 0].set_title('Input image')\n",
        "    fig.suptitle('Input image and %s filters' % (layer_name,))\n",
        "    fig.tight_layout(pad = 0.3, rect = [0, 0, 0.9, 0.9])\n",
        "    for (x, y) in [(i, j) for i in range(plot_x) for j in range(plot_y)]:\n",
        "        if x == 0 and y == 0:\n",
        "            continue\n",
        "        ax[x, y].imshow(img_ascs[x * plot_y + y - 1], cmap = 'gray')\n",
        "        ax[x, y].set_title('filter %d' % (x * plot_y + y - 1))\n",
        "\n",
        "vis_img_in_filter()"
      ],
      "execution_count": 0,
      "outputs": []
    },
    {
      "cell_type": "code",
      "metadata": {
        "id": "9tvptcn8dxvp",
        "colab_type": "code",
        "colab": {}
      },
      "source": [
        ""
      ],
      "execution_count": 0,
      "outputs": []
    }
  ]
}