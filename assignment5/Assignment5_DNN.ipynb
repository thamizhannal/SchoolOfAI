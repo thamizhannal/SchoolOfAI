{
  "nbformat": 4,
  "nbformat_minor": 0,
  "metadata": {
    "colab": {
      "name": "Assignment5_DNN.ipynb",
      "version": "0.3.2",
      "provenance": [],
      "collapsed_sections": []
    },
    "kernelspec": {
      "name": "python3",
      "display_name": "Python 3"
    },
    "accelerator": "GPU"
  },
  "cells": [
    {
      "cell_type": "markdown",
      "metadata": {
        "id": "aNyZv-Ec52ot",
        "colab_type": "text"
      },
      "source": [
        "# Header:\n",
        "I would like to implement a simple convolution neural network architecture, that consist of only convolution and transition blocks (CT) with default batch size, epoch and optimizer. <br>\n",
        "<b>First convolution Block:</b> Consist of 3 convolution layers of channel size 8, 16 & 22<br>\n",
        "<b>First Transition Block:</b> Consist of Max Pooling layer of 2x2 followed by 1x1 convolution of 8 channels. <br>\n",
        "<b>Second Convolution Block:</b> Consist of 2 convolution layers of channel size 16 & 22 <br>\n",
        "<b> Second Transition Block:  Consist of convolution layer of 10 channels with 1x1 and followed by convolution of 7x7 kernel with input to make final prediction as 10 digits. <br>\n",
        "\n",
        "###  Change Made: \n",
        "  1.\tDynamic learning rate that gets calculated on every epoch with initial value as 0.003\n",
        "  2.  Run more epochs 25.\n",
        "  \n"
      ]
    },
    {
      "cell_type": "markdown",
      "metadata": {
        "id": "lHSHd0FNvHC_",
        "colab_type": "text"
      },
      "source": [
        "# **Import Libraries and modules**"
      ]
    },
    {
      "cell_type": "code",
      "metadata": {
        "id": "3m3w1Cw49Zkt",
        "colab_type": "code",
        "colab": {}
      },
      "source": [
        "# https://keras.io/\n",
        "!pip install -q keras\n",
        "import keras"
      ],
      "execution_count": 0,
      "outputs": []
    },
    {
      "cell_type": "code",
      "metadata": {
        "id": "Eso6UHE080D4",
        "colab_type": "code",
        "colab": {}
      },
      "source": [
        "import numpy as np\n",
        "\n",
        "from keras.models import Sequential\n",
        "from keras.layers import Dense, Dropout, Activation, Flatten, Add, BatchNormalization, Dropout\n",
        "from keras.layers import Convolution2D, MaxPooling2D\n",
        "from keras.utils import np_utils\n",
        "\n",
        "from keras.datasets import mnist"
      ],
      "execution_count": 0,
      "outputs": []
    },
    {
      "cell_type": "markdown",
      "metadata": {
        "id": "zByEi95J86RD",
        "colab_type": "text"
      },
      "source": [
        "### Load pre-shuffled MNIST data into train and test sets"
      ]
    },
    {
      "cell_type": "code",
      "metadata": {
        "id": "7eRM0QWN83PV",
        "colab_type": "code",
        "colab": {}
      },
      "source": [
        "(X_train, y_train), (X_test, y_test) = mnist.load_data()"
      ],
      "execution_count": 0,
      "outputs": []
    },
    {
      "cell_type": "code",
      "metadata": {
        "id": "_ID6IRrs08td",
        "colab_type": "code",
        "outputId": "a08c3324-2d49-436f-ece1-77dcf8f85e4e",
        "colab": {
          "base_uri": "https://localhost:8080/",
          "height": 34
        }
      },
      "source": [
        "print(y_test.shape)"
      ],
      "execution_count": 277,
      "outputs": [
        {
          "output_type": "stream",
          "text": [
            "(10000,)\n"
          ],
          "name": "stdout"
        }
      ]
    },
    {
      "cell_type": "code",
      "metadata": {
        "id": "Ya8nzOwfjdV6",
        "colab_type": "code",
        "outputId": "0c280160-c063-4e16-8740-deb3951de08b",
        "colab": {
          "base_uri": "https://localhost:8080/",
          "height": 34
        }
      },
      "source": [
        "print(y_train.shape)"
      ],
      "execution_count": 278,
      "outputs": [
        {
          "output_type": "stream",
          "text": [
            "(60000,)\n"
          ],
          "name": "stdout"
        }
      ]
    },
    {
      "cell_type": "code",
      "metadata": {
        "id": "4a4Be72j8-ZC",
        "colab_type": "code",
        "outputId": "913fc10b-30b9-4752-9525-290c8fb763c9",
        "colab": {
          "base_uri": "https://localhost:8080/",
          "height": 302
        }
      },
      "source": [
        "print (X_train.shape)\n",
        "from matplotlib import pyplot as plt\n",
        "%matplotlib inline\n",
        "plt.imshow(X_train[0])"
      ],
      "execution_count": 279,
      "outputs": [
        {
          "output_type": "stream",
          "text": [
            "(60000, 28, 28)\n"
          ],
          "name": "stdout"
        },
        {
          "output_type": "execute_result",
          "data": {
            "text/plain": [
              "<matplotlib.image.AxesImage at 0x7fde3b679b38>"
            ]
          },
          "metadata": {
            "tags": []
          },
          "execution_count": 279
        },
        {
          "output_type": "display_data",
          "data": {
            "image/png": "[encoded data removed]",
            "text/plain": [
              "<Figure size 432x288 with 1 Axes>"
            ]
          },
          "metadata": {
            "tags": []
          }
        }
      ]
    },
    {
      "cell_type": "code",
      "metadata": {
        "id": "dkmprriw9AnZ",
        "colab_type": "code",
        "colab": {}
      },
      "source": [
        "X_train = X_train.reshape(X_train.shape[0], 28, 28,1)\n",
        "X_test = X_test.reshape(X_test.shape[0], 28, 28,1)"
      ],
      "execution_count": 0,
      "outputs": []
    },
    {
      "cell_type": "code",
      "metadata": {
        "id": "RPEpod6Tlc5J",
        "colab_type": "code",
        "outputId": "76c150e4-b2b4-4dfe-8790-0f05770284d3",
        "colab": {
          "base_uri": "https://localhost:8080/",
          "height": 84
        }
      },
      "source": [
        "print(X_train.shape)\n",
        "print(y_train.shape)\n",
        "print(X_test.shape)\n",
        "print(y_test.shape)"
      ],
      "execution_count": 281,
      "outputs": [
        {
          "output_type": "stream",
          "text": [
            "(60000, 28, 28, 1)\n",
            "(60000,)\n",
            "(10000, 28, 28, 1)\n",
            "(10000,)\n"
          ],
          "name": "stdout"
        }
      ]
    },
    {
      "cell_type": "code",
      "metadata": {
        "id": "qyVqAlDHlqL7",
        "colab_type": "code",
        "outputId": "4957f87a-0742-4376-965d-65f73a34b85f",
        "colab": {
          "base_uri": "https://localhost:8080/",
          "height": 34
        }
      },
      "source": [
        "print(y_train[0])"
      ],
      "execution_count": 282,
      "outputs": [
        {
          "output_type": "stream",
          "text": [
            "5\n"
          ],
          "name": "stdout"
        }
      ]
    },
    {
      "cell_type": "code",
      "metadata": {
        "id": "6gQi5-rWlfV3",
        "colab_type": "code",
        "outputId": "72ea8050-862f-477d-8be1-d61ae8550471",
        "colab": {
          "base_uri": "https://localhost:8080/",
          "height": 34
        }
      },
      "source": [
        "print(X_test.shape)"
      ],
      "execution_count": 283,
      "outputs": [
        {
          "output_type": "stream",
          "text": [
            "(10000, 28, 28, 1)\n"
          ],
          "name": "stdout"
        }
      ]
    },
    {
      "cell_type": "code",
      "metadata": {
        "id": "X2m4YS4E9CRh",
        "colab_type": "code",
        "colab": {}
      },
      "source": [
        "X_train = X_train.astype('float32')\n",
        "X_test = X_test.astype('float32')\n"
      ],
      "execution_count": 0,
      "outputs": []
    },
    {
      "cell_type": "code",
      "metadata": {
        "id": "9bb8IjQop1aR",
        "colab_type": "code",
        "colab": {}
      },
      "source": [
        "# Convert 1-dimensional class arrays to 10-dimensional class matrices\n",
        "Y_train = np_utils.to_categorical(y_train, 10)\n",
        "Y_test = np_utils.to_categorical(y_test, 10)"
      ],
      "execution_count": 0,
      "outputs": []
    },
    {
      "cell_type": "code",
      "metadata": {
        "id": "k74JZeQjqgns",
        "colab_type": "code",
        "outputId": "f964bcd8-75d7-466e-c092-0b52ac29ed06",
        "colab": {
          "base_uri": "https://localhost:8080/",
          "height": 34
        }
      },
      "source": [
        "Y_test[0]"
      ],
      "execution_count": 286,
      "outputs": [
        {
          "output_type": "execute_result",
          "data": {
            "text/plain": [
              "array([0., 0., 0., 0., 0., 0., 0., 1., 0., 0.], dtype=float32)"
            ]
          },
          "metadata": {
            "tags": []
          },
          "execution_count": 286
        }
      ]
    },
    {
      "cell_type": "code",
      "metadata": {
        "id": "dmvUxxNytgPU",
        "colab_type": "code",
        "colab": {}
      },
      "source": [
        "# Define Imports\n",
        "\n",
        "import numpy as np\n",
        "import pandas as pd\n",
        "import tensorflow as tf\n",
        "\n",
        "import matplotlib.pyplot as plt\n",
        "%matplotlib  inline\n",
        "from keras.preprocessing.image import ImageDataGenerator\n",
        "from sklearn import preprocessing"
      ],
      "execution_count": 0,
      "outputs": []
    },
    {
      "cell_type": "code",
      "metadata": {
        "id": "ahHUhny6RoKx",
        "colab_type": "code",
        "colab": {}
      },
      "source": [
        "seed = 1\n",
        "batch = 512"
      ],
      "execution_count": 0,
      "outputs": []
    },
    {
      "cell_type": "code",
      "metadata": {
        "id": "4HRoj89PqOJv",
        "colab_type": "code",
        "colab": {}
      },
      "source": [
        "train_datagen = ImageDataGenerator(\n",
        "    featurewise_center=True,\n",
        "    featurewise_std_normalization=True\n",
        "    )"
      ],
      "execution_count": 0,
      "outputs": []
    },
    {
      "cell_type": "code",
      "metadata": {
        "id": "9mNB6ssAzAhC",
        "colab_type": "code",
        "colab": {}
      },
      "source": [
        "# compute quantities required for featurewise normalization\n",
        "# (std, mean, and principal components if ZCA whitening is applied)\n",
        "train_datagen.fit(X_train, seed=seed)"
      ],
      "execution_count": 0,
      "outputs": []
    },
    {
      "cell_type": "code",
      "metadata": {
        "id": "OO2sTM1crk_n",
        "colab_type": "code",
        "colab": {}
      },
      "source": [
        "# Image normalization on entire train dataset\n",
        "train_generator = train_datagen.flow(X_train, Y_train,  batch_size=batch, shuffle=True, seed=seed)"
      ],
      "execution_count": 0,
      "outputs": []
    },
    {
      "cell_type": "code",
      "metadata": {
        "id": "nrO2adhHqzpm",
        "colab_type": "code",
        "colab": {}
      },
      "source": [
        "valid_datagen = ImageDataGenerator(\n",
        "    featurewise_center=True, \n",
        "    featurewise_std_normalization=True    \n",
        "    )"
      ],
      "execution_count": 0,
      "outputs": []
    },
    {
      "cell_type": "code",
      "metadata": {
        "id": "offNKeAUlJYs",
        "colab_type": "code",
        "outputId": "4d22abe8-5e5e-4358-cf05-380fb6e33aa6",
        "colab": {
          "base_uri": "https://localhost:8080/",
          "height": 34
        }
      },
      "source": [
        "print(X_test.shape)"
      ],
      "execution_count": 293,
      "outputs": [
        {
          "output_type": "stream",
          "text": [
            "(10000, 28, 28, 1)\n"
          ],
          "name": "stdout"
        }
      ]
    },
    {
      "cell_type": "code",
      "metadata": {
        "id": "eQGukHpqlPqu",
        "colab_type": "code",
        "outputId": "ee212164-8e8f-423b-dfdd-592b2adad451",
        "colab": {
          "base_uri": "https://localhost:8080/",
          "height": 34
        }
      },
      "source": [
        "print(Y_test[1])"
      ],
      "execution_count": 294,
      "outputs": [
        {
          "output_type": "stream",
          "text": [
            "[0. 0. 1. 0. 0. 0. 0. 0. 0. 0.]\n"
          ],
          "name": "stdout"
        }
      ]
    },
    {
      "cell_type": "code",
      "metadata": {
        "id": "9TXsz4KRzPUu",
        "colab_type": "code",
        "colab": {}
      },
      "source": [
        "# compute quantities required for featurewise normalization\n",
        "# (std, mean, and principal components if ZCA whitening is applied)\n",
        "valid_datagen.fit(X_test,seed=seed)"
      ],
      "execution_count": 0,
      "outputs": []
    },
    {
      "cell_type": "code",
      "metadata": {
        "id": "Lm6OCPh4rwVZ",
        "colab_type": "code",
        "colab": {}
      },
      "source": [
        "# Image normalization on entire test dataset\n",
        "valid_datagen = valid_datagen.flow(X_test, Y_test, batch_size=batch, shuffle=True, seed=seed)"
      ],
      "execution_count": 0,
      "outputs": []
    },
    {
      "cell_type": "code",
      "metadata": {
        "id": "0Mn0vAYD9DvB",
        "colab_type": "code",
        "outputId": "8880d583-4439-4efe-f10c-15b50e455dc7",
        "colab": {
          "base_uri": "https://localhost:8080/",
          "height": 34
        }
      },
      "source": [
        "Y_train[0]"
      ],
      "execution_count": 297,
      "outputs": [
        {
          "output_type": "execute_result",
          "data": {
            "text/plain": [
              "array([0., 0., 0., 0., 0., 1., 0., 0., 0., 0.], dtype=float32)"
            ]
          },
          "metadata": {
            "tags": []
          },
          "execution_count": 297
        }
      ]
    },
    {
      "cell_type": "code",
      "metadata": {
        "id": "ZG8JiXR39FHC",
        "colab_type": "code",
        "outputId": "0fcb65de-19c8-429f-99c7-15a2cdf1138f",
        "colab": {
          "base_uri": "https://localhost:8080/",
          "height": 34
        }
      },
      "source": [
        "Y_test[0]"
      ],
      "execution_count": 298,
      "outputs": [
        {
          "output_type": "execute_result",
          "data": {
            "text/plain": [
              "array([0., 0., 0., 0., 0., 0., 0., 1., 0., 0.], dtype=float32)"
            ]
          },
          "metadata": {
            "tags": []
          },
          "execution_count": 298
        }
      ]
    },
    {
      "cell_type": "code",
      "metadata": {
        "id": "fYlFRvKS9HMB",
        "colab_type": "code",
        "outputId": "d701fcc9-288c-4af0-9b70-7ef3bd227235",
        "colab": {
          "base_uri": "https://localhost:8080/",
          "height": 185
        }
      },
      "source": [
        "Y_train[:10]\n"
      ],
      "execution_count": 299,
      "outputs": [
        {
          "output_type": "execute_result",
          "data": {
            "text/plain": [
              "array([[0., 0., 0., 0., 0., 1., 0., 0., 0., 0.],\n",
              "       [1., 0., 0., 0., 0., 0., 0., 0., 0., 0.],\n",
              "       [0., 0., 0., 0., 1., 0., 0., 0., 0., 0.],\n",
              "       [0., 1., 0., 0., 0., 0., 0., 0., 0., 0.],\n",
              "       [0., 0., 0., 0., 0., 0., 0., 0., 0., 1.],\n",
              "       [0., 0., 1., 0., 0., 0., 0., 0., 0., 0.],\n",
              "       [0., 1., 0., 0., 0., 0., 0., 0., 0., 0.],\n",
              "       [0., 0., 0., 1., 0., 0., 0., 0., 0., 0.],\n",
              "       [0., 1., 0., 0., 0., 0., 0., 0., 0., 0.],\n",
              "       [0., 0., 0., 0., 1., 0., 0., 0., 0., 0.]], dtype=float32)"
            ]
          },
          "metadata": {
            "tags": []
          },
          "execution_count": 299
        }
      ]
    },
    {
      "cell_type": "code",
      "metadata": {
        "id": "osKqT73Q9JJB",
        "colab_type": "code",
        "outputId": "dc52e500-4e55-4247-9c0e-727cf412d316",
        "colab": {
          "base_uri": "https://localhost:8080/",
          "height": 171
        }
      },
      "source": [
        "from keras.layers import Activation\n",
        "from keras import regularizers\n",
        "model = Sequential()\n",
        "\n",
        "# input: 28 output: 26 | RF: 3\n",
        "model.add(Convolution2D(8, 3, 3, activation='relu', input_shape=(28,28,1), name=\"conv2d_1\", kernel_regularizer=regularizers.l2(0.001) ) ) \n",
        "#model.add(BatchNormalization())\n",
        "model.add(Dropout(0.1))\n",
        "\n",
        "# input: 26 output: 24 | RF: 5\n",
        "model.add(BatchNormalization())\n",
        "model.add(Convolution2D(16, 3, 3, activation='relu', name=\"conv2d_2\", kernel_regularizer=regularizers.l2(0.001))) # 24\n",
        "#model.add(BatchNormalization())\n",
        "model.add(Dropout(0.1))\n",
        "\n",
        "# input: 24 output: 22 | RF: 7\n",
        "model.add(BatchNormalization())\n",
        "model.add(Convolution2D(22, 3, 3, activation='relu', name=\"conv2d_3\", kernel_regularizer=regularizers.l2(0.001))) # 22\n",
        "#model.add(BatchNormalization())\n",
        "model.add(Dropout(0.1))\n",
        "\n",
        "# input: 22 output: 11 | RF: 14\n",
        "model.add(BatchNormalization())\n",
        "model.add(MaxPooling2D(pool_size=(2, 2), name = \"max_pooling2d_1\")) # 11\n",
        "# input: 11 output: 11 | RF: 14\n",
        "model.add(Convolution2D(8, 1, 1, activation='relu', name=\"conv2d_4\", kernel_regularizer=regularizers.l2(0.001) ))# 11\n",
        "#model.add(BatchNormalization())\n",
        "model.add(Dropout(0.1))\n",
        "\n",
        "# input: 11 output: 9 | RF: 16\n",
        "model.add(BatchNormalization())\n",
        "model.add(Convolution2D(16, 3, 3, activation='relu', name=\"conv2d_5\", kernel_regularizer=regularizers.l2(0.001))) # 9\n",
        "#model.add(BatchNormalization())\n",
        "model.add(Dropout(0.1))\n",
        "\n",
        "# input: 9 output: 7 | RF: 18\n",
        "model.add(BatchNormalization())\n",
        "model.add(Convolution2D(22, 3, 3, activation='relu', name=\"conv2d_6\", kernel_regularizer=regularizers.l2(0.001))) # 7\n",
        "#model.add(BatchNormalization())\n",
        "model.add(Dropout(0.1))\n",
        "\n",
        "# input: 7 output: 7 | RF: 18\n",
        "model.add(BatchNormalization())\n",
        "model.add(Convolution2D(10, 1, activation='relu', name=\"conv2d_7\", kernel_regularizer=regularizers.l2(0.001))) #7\n",
        "#model.add(BatchNormalization())\n",
        "model.add(Dropout(0.1))\n",
        "\n",
        "# input: 7 output: 1 | RF: 25\n",
        "model.add(Convolution2D(10, 7, name=\"conv2d_8\", kernel_regularizer=regularizers.l2(0.001)))\n",
        "model.add(Flatten())\n",
        "model.add(Activation('softmax'))"
      ],
      "execution_count": 300,
      "outputs": [
        {
          "output_type": "stream",
          "text": [
            "/usr/local/lib/python3.6/dist-packages/ipykernel_launcher.py:6: UserWarning: Update your `Conv2D` call to the Keras 2 API: `Conv2D(8, (3, 3), activation=\"relu\", input_shape=(28, 28, 1..., name=\"conv2d_1\", kernel_regularizer=<keras.reg...)`\n",
            "  \n",
            "/usr/local/lib/python3.6/dist-packages/ipykernel_launcher.py:12: UserWarning: Update your `Conv2D` call to the Keras 2 API: `Conv2D(16, (3, 3), activation=\"relu\", name=\"conv2d_2\", kernel_regularizer=<keras.reg...)`\n",
            "  if sys.path[0] == '':\n",
            "/usr/local/lib/python3.6/dist-packages/ipykernel_launcher.py:18: UserWarning: Update your `Conv2D` call to the Keras 2 API: `Conv2D(22, (3, 3), activation=\"relu\", name=\"conv2d_3\", kernel_regularizer=<keras.reg...)`\n",
            "/usr/local/lib/python3.6/dist-packages/ipykernel_launcher.py:26: UserWarning: Update your `Conv2D` call to the Keras 2 API: `Conv2D(8, (1, 1), activation=\"relu\", name=\"conv2d_4\", kernel_regularizer=<keras.reg...)`\n",
            "/usr/local/lib/python3.6/dist-packages/ipykernel_launcher.py:32: UserWarning: Update your `Conv2D` call to the Keras 2 API: `Conv2D(16, (3, 3), activation=\"relu\", name=\"conv2d_5\", kernel_regularizer=<keras.reg...)`\n",
            "/usr/local/lib/python3.6/dist-packages/ipykernel_launcher.py:38: UserWarning: Update your `Conv2D` call to the Keras 2 API: `Conv2D(22, (3, 3), activation=\"relu\", name=\"conv2d_6\", kernel_regularizer=<keras.reg...)`\n"
          ],
          "name": "stderr"
        }
      ]
    },
    {
      "cell_type": "code",
      "metadata": {
        "id": "TzdAYg1k9K7Z",
        "colab_type": "code",
        "outputId": "0d555a66-be83-4874-c51f-a70fada2d6f5",
        "colab": {
          "base_uri": "https://localhost:8080/",
          "height": 941
        }
      },
      "source": [
        "model.summary()"
      ],
      "execution_count": 301,
      "outputs": [
        {
          "output_type": "stream",
          "text": [
            "_________________________________________________________________\n",
            "Layer (type)                 Output Shape              Param #   \n",
            "=================================================================\n",
            "conv2d_1 (Conv2D)            (None, 26, 26, 8)         80        \n",
            "_________________________________________________________________\n",
            "dropout_113 (Dropout)        (None, 26, 26, 8)         0         \n",
            "_________________________________________________________________\n",
            "batch_normalization_109 (Bat (None, 26, 26, 8)         32        \n",
            "_________________________________________________________________\n",
            "conv2d_2 (Conv2D)            (None, 24, 24, 16)        1168      \n",
            "_________________________________________________________________\n",
            "dropout_114 (Dropout)        (None, 24, 24, 16)        0         \n",
            "_________________________________________________________________\n",
            "batch_normalization_110 (Bat (None, 24, 24, 16)        64        \n",
            "_________________________________________________________________\n",
            "conv2d_3 (Conv2D)            (None, 22, 22, 22)        3190      \n",
            "_________________________________________________________________\n",
            "dropout_115 (Dropout)        (None, 22, 22, 22)        0         \n",
            "_________________________________________________________________\n",
            "batch_normalization_111 (Bat (None, 22, 22, 22)        88        \n",
            "_________________________________________________________________\n",
            "max_pooling2d_1 (MaxPooling2 (None, 11, 11, 22)        0         \n",
            "_________________________________________________________________\n",
            "conv2d_4 (Conv2D)            (None, 11, 11, 8)         184       \n",
            "_________________________________________________________________\n",
            "dropout_116 (Dropout)        (None, 11, 11, 8)         0         \n",
            "_________________________________________________________________\n",
            "batch_normalization_112 (Bat (None, 11, 11, 8)         32        \n",
            "_________________________________________________________________\n",
            "conv2d_5 (Conv2D)            (None, 9, 9, 16)          1168      \n",
            "_________________________________________________________________\n",
            "dropout_117 (Dropout)        (None, 9, 9, 16)          0         \n",
            "_________________________________________________________________\n",
            "batch_normalization_113 (Bat (None, 9, 9, 16)          64        \n",
            "_________________________________________________________________\n",
            "conv2d_6 (Conv2D)            (None, 7, 7, 22)          3190      \n",
            "_________________________________________________________________\n",
            "dropout_118 (Dropout)        (None, 7, 7, 22)          0         \n",
            "_________________________________________________________________\n",
            "batch_normalization_114 (Bat (None, 7, 7, 22)          88        \n",
            "_________________________________________________________________\n",
            "conv2d_7 (Conv2D)            (None, 7, 7, 10)          230       \n",
            "_________________________________________________________________\n",
            "dropout_119 (Dropout)        (None, 7, 7, 10)          0         \n",
            "_________________________________________________________________\n",
            "conv2d_8 (Conv2D)            (None, 1, 1, 10)          4910      \n",
            "_________________________________________________________________\n",
            "flatten_17 (Flatten)         (None, 10)                0         \n",
            "_________________________________________________________________\n",
            "activation_17 (Activation)   (None, 10)                0         \n",
            "=================================================================\n",
            "Total params: 14,488\n",
            "Trainable params: 14,304\n",
            "Non-trainable params: 184\n",
            "_________________________________________________________________\n"
          ],
          "name": "stdout"
        }
      ]
    },
    {
      "cell_type": "code",
      "metadata": {
        "id": "Zp6SuGrL9M3h",
        "colab_type": "code",
        "colab": {}
      },
      "source": [
        "model.compile(loss='categorical_crossentropy',\n",
        "             optimizer='adam',\n",
        "             metrics=['accuracy'])\n",
        "\n"
      ],
      "execution_count": 0,
      "outputs": []
    },
    {
      "cell_type": "code",
      "metadata": {
        "id": "NCwo1OQd61_S",
        "colab_type": "code",
        "colab": {
          "base_uri": "https://localhost:8080/",
          "height": 34
        },
        "outputId": "12d9742c-6d76-40dd-b52c-8342df521358"
      },
      "source": [
        "# Mount google drive to store check point model results.\n",
        "from google.colab import drive\n",
        "drive.mount('/content/gdrive')\n",
        "\n"
      ],
      "execution_count": 303,
      "outputs": [
        {
          "output_type": "stream",
          "text": [
            "Drive already mounted at /content/gdrive; to attempt to forcibly remount, call drive.mount(\"/content/gdrive\", force_remount=True).\n"
          ],
          "name": "stdout"
        }
      ]
    },
    {
      "cell_type": "code",
      "metadata": {
        "id": "wJcco4gy7Ho5",
        "colab_type": "code",
        "colab": {}
      },
      "source": [
        "# Specify gdrive path to where highest validation accuracy check point results to be stored.\n",
        "import os \n",
        "checkpoint_path = \"/content/gdrive/My Drive/Colab Notebooks/mnist_asign5_cnn-best_l2_img_aug_reluAfterBN.hdf5\"\n",
        "\n"
      ],
      "execution_count": 0,
      "outputs": []
    },
    {
      "cell_type": "code",
      "metadata": {
        "id": "oNhY3daG624g",
        "colab_type": "code",
        "colab": {}
      },
      "source": [
        "# Create checkpoint callback\n",
        "cp_callback = tf.keras.callbacks.ModelCheckpoint(checkpoint_path, \n",
        "                                                 save_best_only=True,\n",
        "                                                 monitor='val_loss', \n",
        "                                                 mode='min',\n",
        "                                                 period=1,\n",
        "                                                 verbose=1)"
      ],
      "execution_count": 0,
      "outputs": []
    },
    {
      "cell_type": "code",
      "metadata": {
        "id": "4xWoKhPY9Of5",
        "colab_type": "code",
        "outputId": "67ec7d3d-77fe-4b1a-c405-8e834e042c70",
        "colab": {
          "base_uri": "https://localhost:8080/",
          "height": 2742
        }
      },
      "source": [
        "\n",
        "#train_datagen.\n",
        "model.fit_generator(train_generator, epochs=40, steps_per_epoch=len(X_train)/batch,\n",
        "                    validation_steps=len(valid_datagen)/batch, validation_data=valid_datagen,\n",
        "                    callbacks = [cp_callback])\n"
      ],
      "execution_count": 306,
      "outputs": [
        {
          "output_type": "stream",
          "text": [
            "Epoch 1/40\n",
            "118/117 [==============================] - 8s 64ms/step - loss: 0.8107 - acc: 0.7704 - val_loss: 0.2799 - val_acc: 0.9375\n",
            "\n",
            "Epoch 00001: val_loss improved from inf to 0.27988, saving model to /content/gdrive/My Drive/Colab Notebooks/mnist_asign5_cnn-best_l2_img_aug_reluAfterBN.hdf5\n",
            "Epoch 2/40\n",
            "118/117 [==============================] - 4s 32ms/step - loss: 0.2732 - acc: 0.9460 - val_loss: 0.2116 - val_acc: 0.9609\n",
            "\n",
            "Epoch 00002: val_loss improved from 0.27988 to 0.21157, saving model to /content/gdrive/My Drive/Colab Notebooks/mnist_asign5_cnn-best_l2_img_aug_reluAfterBN.hdf5\n",
            "Epoch 3/40\n",
            "118/117 [==============================] - 4s 32ms/step - loss: 0.2099 - acc: 0.9633 - val_loss: 0.1505 - val_acc: 0.9844\n",
            "\n",
            "Epoch 00003: val_loss improved from 0.21157 to 0.15052, saving model to /content/gdrive/My Drive/Colab Notebooks/mnist_asign5_cnn-best_l2_img_aug_reluAfterBN.hdf5\n",
            "Epoch 4/40\n",
            "118/117 [==============================] - 4s 32ms/step - loss: 0.1772 - acc: 0.9727 - val_loss: 0.1423 - val_acc: 0.9824\n",
            "\n",
            "Epoch 00004: val_loss improved from 0.15052 to 0.14233, saving model to /content/gdrive/My Drive/Colab Notebooks/mnist_asign5_cnn-best_l2_img_aug_reluAfterBN.hdf5\n",
            "Epoch 5/40\n",
            "118/117 [==============================] - 4s 32ms/step - loss: 0.1571 - acc: 0.9772 - val_loss: 0.1217 - val_acc: 0.9844\n",
            "\n",
            "Epoch 00005: val_loss improved from 0.14233 to 0.12166, saving model to /content/gdrive/My Drive/Colab Notebooks/mnist_asign5_cnn-best_l2_img_aug_reluAfterBN.hdf5\n",
            "Epoch 6/40\n",
            "118/117 [==============================] - 4s 32ms/step - loss: 0.1426 - acc: 0.9798 - val_loss: 0.1346 - val_acc: 0.9785\n",
            "\n",
            "Epoch 00006: val_loss did not improve from 0.12166\n",
            "Epoch 7/40\n",
            "118/117 [==============================] - 4s 32ms/step - loss: 0.1277 - acc: 0.9825 - val_loss: 0.1231 - val_acc: 0.9824\n",
            "\n",
            "Epoch 00007: val_loss did not improve from 0.12166\n",
            "Epoch 8/40\n",
            "118/117 [==============================] - 4s 32ms/step - loss: 0.1201 - acc: 0.9835 - val_loss: 0.1158 - val_acc: 0.9824\n",
            "\n",
            "Epoch 00008: val_loss improved from 0.12166 to 0.11583, saving model to /content/gdrive/My Drive/Colab Notebooks/mnist_asign5_cnn-best_l2_img_aug_reluAfterBN.hdf5\n",
            "Epoch 9/40\n",
            "118/117 [==============================] - 4s 32ms/step - loss: 0.1108 - acc: 0.9847 - val_loss: 0.0911 - val_acc: 0.9902\n",
            "\n",
            "Epoch 00009: val_loss improved from 0.11583 to 0.09110, saving model to /content/gdrive/My Drive/Colab Notebooks/mnist_asign5_cnn-best_l2_img_aug_reluAfterBN.hdf5\n",
            "Epoch 10/40\n",
            "118/117 [==============================] - 4s 32ms/step - loss: 0.1051 - acc: 0.9848 - val_loss: 0.1099 - val_acc: 0.9805\n",
            "\n",
            "Epoch 00010: val_loss did not improve from 0.09110\n",
            "Epoch 11/40\n",
            "118/117 [==============================] - 4s 32ms/step - loss: 0.0984 - acc: 0.9860 - val_loss: 0.0853 - val_acc: 0.9902\n",
            "\n",
            "Epoch 00011: val_loss improved from 0.09110 to 0.08531, saving model to /content/gdrive/My Drive/Colab Notebooks/mnist_asign5_cnn-best_l2_img_aug_reluAfterBN.hdf5\n",
            "Epoch 12/40\n",
            "118/117 [==============================] - 4s 32ms/step - loss: 0.0914 - acc: 0.9873 - val_loss: 0.0842 - val_acc: 0.9863\n",
            "\n",
            "Epoch 00012: val_loss improved from 0.08531 to 0.08423, saving model to /content/gdrive/My Drive/Colab Notebooks/mnist_asign5_cnn-best_l2_img_aug_reluAfterBN.hdf5\n",
            "Epoch 13/40\n",
            "118/117 [==============================] - 4s 33ms/step - loss: 0.0876 - acc: 0.9874 - val_loss: 0.0727 - val_acc: 0.9883\n",
            "\n",
            "Epoch 00013: val_loss improved from 0.08423 to 0.07273, saving model to /content/gdrive/My Drive/Colab Notebooks/mnist_asign5_cnn-best_l2_img_aug_reluAfterBN.hdf5\n",
            "Epoch 14/40\n",
            "118/117 [==============================] - 4s 32ms/step - loss: 0.0832 - acc: 0.9880 - val_loss: 0.0671 - val_acc: 0.9941\n",
            "\n",
            "Epoch 00014: val_loss improved from 0.07273 to 0.06713, saving model to /content/gdrive/My Drive/Colab Notebooks/mnist_asign5_cnn-best_l2_img_aug_reluAfterBN.hdf5\n",
            "Epoch 15/40\n",
            "118/117 [==============================] - 4s 32ms/step - loss: 0.0803 - acc: 0.9881 - val_loss: 0.0780 - val_acc: 0.9883\n",
            "\n",
            "Epoch 00015: val_loss did not improve from 0.06713\n",
            "Epoch 16/40\n",
            "118/117 [==============================] - 4s 32ms/step - loss: 0.0765 - acc: 0.9887 - val_loss: 0.0665 - val_acc: 0.9883\n",
            "\n",
            "Epoch 00016: val_loss improved from 0.06713 to 0.06648, saving model to /content/gdrive/My Drive/Colab Notebooks/mnist_asign5_cnn-best_l2_img_aug_reluAfterBN.hdf5\n",
            "Epoch 17/40\n",
            "118/117 [==============================] - 4s 32ms/step - loss: 0.0738 - acc: 0.9890 - val_loss: 0.0701 - val_acc: 0.9883\n",
            "\n",
            "Epoch 00017: val_loss did not improve from 0.06648\n",
            "Epoch 18/40\n",
            "118/117 [==============================] - 4s 32ms/step - loss: 0.0712 - acc: 0.9890 - val_loss: 0.0582 - val_acc: 0.9961\n",
            "\n",
            "Epoch 00018: val_loss improved from 0.06648 to 0.05819, saving model to /content/gdrive/My Drive/Colab Notebooks/mnist_asign5_cnn-best_l2_img_aug_reluAfterBN.hdf5\n",
            "Epoch 19/40\n",
            "118/117 [==============================] - 4s 32ms/step - loss: 0.0685 - acc: 0.9896 - val_loss: 0.0769 - val_acc: 0.9902\n",
            "\n",
            "Epoch 00019: val_loss did not improve from 0.05819\n",
            "Epoch 20/40\n",
            "118/117 [==============================] - 4s 33ms/step - loss: 0.0650 - acc: 0.9899 - val_loss: 0.0518 - val_acc: 0.9926\n",
            "\n",
            "Epoch 00020: val_loss improved from 0.05819 to 0.05177, saving model to /content/gdrive/My Drive/Colab Notebooks/mnist_asign5_cnn-best_l2_img_aug_reluAfterBN.hdf5\n",
            "Epoch 21/40\n",
            "118/117 [==============================] - 4s 33ms/step - loss: 0.0630 - acc: 0.9904 - val_loss: 0.0456 - val_acc: 0.9961\n",
            "\n",
            "Epoch 00021: val_loss improved from 0.05177 to 0.04558, saving model to /content/gdrive/My Drive/Colab Notebooks/mnist_asign5_cnn-best_l2_img_aug_reluAfterBN.hdf5\n",
            "Epoch 22/40\n",
            "118/117 [==============================] - 4s 33ms/step - loss: 0.0633 - acc: 0.9897 - val_loss: 0.0561 - val_acc: 0.9922\n",
            "\n",
            "Epoch 00022: val_loss did not improve from 0.04558\n",
            "Epoch 23/40\n",
            "118/117 [==============================] - 4s 32ms/step - loss: 0.0618 - acc: 0.9905 - val_loss: 0.0638 - val_acc: 0.9883\n",
            "\n",
            "Epoch 00023: val_loss did not improve from 0.04558\n",
            "Epoch 24/40\n",
            "118/117 [==============================] - 4s 32ms/step - loss: 0.0612 - acc: 0.9902 - val_loss: 0.0636 - val_acc: 0.9902\n",
            "\n",
            "Epoch 00024: val_loss did not improve from 0.04558\n",
            "Epoch 25/40\n",
            "118/117 [==============================] - 4s 33ms/step - loss: 0.0575 - acc: 0.9914 - val_loss: 0.0475 - val_acc: 0.9902\n",
            "\n",
            "Epoch 00025: val_loss did not improve from 0.04558\n",
            "Epoch 26/40\n",
            "118/117 [==============================] - 4s 32ms/step - loss: 0.0578 - acc: 0.9905 - val_loss: 0.0561 - val_acc: 0.9883\n",
            "\n",
            "Epoch 00026: val_loss did not improve from 0.04558\n",
            "Epoch 27/40\n",
            "118/117 [==============================] - 4s 32ms/step - loss: 0.0564 - acc: 0.9908 - val_loss: 0.0818 - val_acc: 0.9844\n",
            "\n",
            "Epoch 00027: val_loss did not improve from 0.04558\n",
            "Epoch 28/40\n",
            "118/117 [==============================] - 4s 32ms/step - loss: 0.0562 - acc: 0.9908 - val_loss: 0.0620 - val_acc: 0.9863\n",
            "\n",
            "Epoch 00028: val_loss did not improve from 0.04558\n",
            "Epoch 29/40\n",
            "118/117 [==============================] - 4s 33ms/step - loss: 0.0554 - acc: 0.9908 - val_loss: 0.0496 - val_acc: 0.9941\n",
            "\n",
            "Epoch 00029: val_loss did not improve from 0.04558\n",
            "Epoch 30/40\n",
            "118/117 [==============================] - 4s 32ms/step - loss: 0.0536 - acc: 0.9914 - val_loss: 0.0360 - val_acc: 1.0000\n",
            "\n",
            "Epoch 00030: val_loss improved from 0.04558 to 0.03596, saving model to /content/gdrive/My Drive/Colab Notebooks/mnist_asign5_cnn-best_l2_img_aug_reluAfterBN.hdf5\n",
            "Epoch 31/40\n",
            "118/117 [==============================] - 4s 32ms/step - loss: 0.0531 - acc: 0.9915 - val_loss: 0.0643 - val_acc: 0.9902\n",
            "\n",
            "Epoch 00031: val_loss did not improve from 0.03596\n",
            "Epoch 32/40\n",
            "118/117 [==============================] - 4s 32ms/step - loss: 0.0551 - acc: 0.9904 - val_loss: 0.0519 - val_acc: 0.9941\n",
            "\n",
            "Epoch 00032: val_loss did not improve from 0.03596\n",
            "Epoch 33/40\n",
            "118/117 [==============================] - 4s 32ms/step - loss: 0.0528 - acc: 0.9915 - val_loss: 0.0430 - val_acc: 0.9961\n",
            "\n",
            "Epoch 00033: val_loss did not improve from 0.03596\n",
            "Epoch 34/40\n",
            "118/117 [==============================] - 4s 32ms/step - loss: 0.0512 - acc: 0.9918 - val_loss: 0.0608 - val_acc: 0.9922\n",
            "\n",
            "Epoch 00034: val_loss did not improve from 0.03596\n",
            "Epoch 35/40\n",
            "118/117 [==============================] - 4s 32ms/step - loss: 0.0519 - acc: 0.9914 - val_loss: 0.0395 - val_acc: 0.9941\n",
            "\n",
            "Epoch 00035: val_loss did not improve from 0.03596\n",
            "Epoch 36/40\n",
            "118/117 [==============================] - 4s 32ms/step - loss: 0.0515 - acc: 0.9914 - val_loss: 0.0794 - val_acc: 0.9844\n",
            "\n",
            "Epoch 00036: val_loss did not improve from 0.03596\n",
            "Epoch 37/40\n",
            "118/117 [==============================] - 4s 33ms/step - loss: 0.0522 - acc: 0.9909 - val_loss: 0.0475 - val_acc: 0.9863\n",
            "\n",
            "Epoch 00037: val_loss did not improve from 0.03596\n",
            "Epoch 38/40\n",
            "118/117 [==============================] - 4s 32ms/step - loss: 0.0514 - acc: 0.9912 - val_loss: 0.0325 - val_acc: 1.0000\n",
            "\n",
            "Epoch 00038: val_loss improved from 0.03596 to 0.03253, saving model to /content/gdrive/My Drive/Colab Notebooks/mnist_asign5_cnn-best_l2_img_aug_reluAfterBN.hdf5\n",
            "Epoch 39/40\n",
            "118/117 [==============================] - 4s 33ms/step - loss: 0.0489 - acc: 0.9923 - val_loss: 0.0477 - val_acc: 0.9922\n",
            "\n",
            "Epoch 00039: val_loss did not improve from 0.03253\n",
            "Epoch 40/40\n",
            "118/117 [==============================] - 4s 32ms/step - loss: 0.0487 - acc: 0.9922 - val_loss: 0.0542 - val_acc: 0.9890\n",
            "\n",
            "Epoch 00040: val_loss did not improve from 0.03253\n"
          ],
          "name": "stdout"
        },
        {
          "output_type": "execute_result",
          "data": {
            "text/plain": [
              "<keras.callbacks.History at 0x7fde3c9349b0>"
            ]
          },
          "metadata": {
            "tags": []
          },
          "execution_count": 306
        }
      ]
    },
    {
      "cell_type": "markdown",
      "metadata": {
        "id": "ZbmPw3zXjH4Q",
        "colab_type": "text"
      },
      "source": [
        "\n",
        "### Conclusion:\n",
        "#### Result: I have taken my own code from Assignement4, it has dropout and BN after ReLU implemented already.\n",
        "\n",
        "### 1. image normaliation: After We incorporated image normalization, highest valildation accuracy achieved was 99.22\n",
        "### 2. image normaliation and l2 regularization: After we  incorporated image normalization and l2 regularization, highest validation accuract achieved was 99.6\n",
        "### 3. image normaliation,l2 regularization and ReLU after BN: After we  incorporated image normalization, l2 regularization and ReLU after BN , highest validation accuract achieved was 99.61\n",
        "\n",
        "Total params: 14,528  <br>\n",
        "Training Accuracy: 99.15br>\n",
        "Validation Accuracy: 99.61<br>\n",
        "Batch Size:512 <br>\n",
        "Epoch: 40 <br>\n"
      ]
    },
    {
      "cell_type": "code",
      "metadata": {
        "id": "X6ACvxBvRlny",
        "colab_type": "code",
        "colab": {}
      },
      "source": [
        "# Load the model that has more validation accuracy from check point path\n",
        "model.load_weights(checkpoint_path)"
      ],
      "execution_count": 0,
      "outputs": []
    },
    {
      "cell_type": "code",
      "metadata": {
        "id": "hvnPQrzWWODw",
        "colab_type": "code",
        "colab": {
          "base_uri": "https://localhost:8080/",
          "height": 34
        },
        "outputId": "f7525e71-3148-4445-9cb5-6a92b610c088"
      },
      "source": [
        "# Run evalidate againt the model that has more evaludation score\n",
        "score = model.evaluate(X_test, Y_test, verbose=0)\n",
        "print(score)"
      ],
      "execution_count": 307,
      "outputs": [
        {
          "output_type": "stream",
          "text": [
            "[3.1805168707847593, 0.7556]\n"
          ],
          "name": "stdout"
        }
      ]
    },
    {
      "cell_type": "markdown",
      "metadata": {
        "id": "lnD--PXRUXMS",
        "colab_type": "text"
      },
      "source": [
        "### To find out 25 misclassified images from the validation dataset and create an image gallery"
      ]
    },
    {
      "cell_type": "code",
      "metadata": {
        "id": "HonFYLYndhkB",
        "colab_type": "code",
        "outputId": "e8e5ea96-456d-41b1-cada-88132d0cbd49",
        "colab": {
          "base_uri": "https://localhost:8080/",
          "height": 67
        }
      },
      "source": [
        "# Extract all unclassified Labels\n",
        "\n",
        "import sys\n",
        "# mis-classification classlabels\n",
        "incorrects_images = list(np.nonzero(model.predict_classes(X_test).reshape((-1,)) != y_test))\n",
        "print(type(incorrects_images))\n",
        "# Get 25 misclassified class label indices\n",
        "incorrect_imgs_25 = incorrects_images[0][0:25]\n",
        "print(incorrect_imgs_25)\n",
        "\n",
        "  "
      ],
      "execution_count": 308,
      "outputs": [
        {
          "output_type": "stream",
          "text": [
            "<class 'list'>\n",
            "[ 3  6 14 15 25 28 29 37 39 40 41 42 43 46 48 53 57 64 67 74 75 82 85 86\n",
            " 89]\n"
          ],
          "name": "stdout"
        }
      ]
    },
    {
      "cell_type": "code",
      "metadata": {
        "id": "O2sbzPeu6QqS",
        "colab_type": "code",
        "outputId": "c86e1907-a5ea-41d9-a810-86dfd72af78f",
        "colab": {
          "base_uri": "https://localhost:8080/",
          "height": 530
        }
      },
      "source": [
        "# Plot missclassified Images\n",
        "\n",
        "left = 0.125  # the left side of the subplots of the figure\n",
        "right = 0.9   # the right side of the subplots of the figure\n",
        "bottom = 0.1  # the bottom of the subplots of the figure\n",
        "top = 0.9     # the top of the subplots of the figure\n",
        "wspace = 0.8  # the amount of width reserved for space between subplots,\n",
        "              # expressed as a fraction of the average axis width\n",
        "hspace = 0.8  # the amount of height reserved for space between subplots,\n",
        "              # expressed as a fraction of the average axis height\n",
        "plt.figure(figsize=(8,8))\n",
        "for index, (image, label) in enumerate(zip(X_test[incorrect_imgs_25], y_test[incorrect_imgs_25])):\n",
        "  plt.subplot(5, 5, (index + 1))\n",
        "  plt.imshow( np.reshape(image, (28,28)) )\n",
        "  plt.subplots_adjust(left, bottom, right, top, wspace, hspace)\n",
        "  plt.title('FP: %i\\n' % label, fontsize = 8)\n",
        "  \n"
      ],
      "execution_count": 309,
      "outputs": [
        {
          "output_type": "display_data",
          "data": {
            "image/png": "[encoded data removed]",
            "text/plain": [
              "<Figure size 576x576 with 25 Axes>"
            ]
          },
          "metadata": {
            "tags": []
          }
        }
      ]
    },
    {
      "cell_type": "code",
      "metadata": {
        "id": "_PdY4x2QuzzM",
        "colab_type": "code",
        "colab": {}
      },
      "source": [
        ""
      ],
      "execution_count": 0,
      "outputs": []
    },
    {
      "cell_type": "code",
      "metadata": {
        "id": "9tvptcn8dxvp",
        "colab_type": "code",
        "colab": {}
      },
      "source": [
        ""
      ],
      "execution_count": 0,
      "outputs": []
    }
  ]
}