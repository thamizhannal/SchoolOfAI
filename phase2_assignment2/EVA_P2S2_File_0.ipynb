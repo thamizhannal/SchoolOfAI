{
  "nbformat": 4,
  "nbformat_minor": 0,
  "metadata": {
    "colab": {
      "name": "EVA P2S2 File 0.ipynb",
      "provenance": [],
      "collapsed_sections": []
    },
    "kernelspec": {
      "name": "python3",
      "display_name": "Python 3"
    },
    "accelerator": "GPU"
  },
  "cells": [
    {
      "cell_type": "code",
      "metadata": {
        "id": "PsRXqXtrZg8j",
        "colab_type": "code",
        "outputId": "4b2a9e74-1e66-4128-c22a-f03ba55eb734",
        "colab": {
          "base_uri": "https://localhost:8080/",
          "height": 82
        }
      },
      "source": [
        "%matplotlib inline\n",
        "import pandas as pd\n",
        "import numpy as np\n",
        "import matplotlib.pyplot as plt\n",
        "from keras.models import Sequential\n",
        "from keras.layers import Dense, SimpleRNN"
      ],
      "execution_count": 0,
      "outputs": [
        {
          "output_type": "stream",
          "text": [
            "Using TensorFlow backend.\n"
          ],
          "name": "stderr"
        },
        {
          "output_type": "display_data",
          "data": {
            "text/html": [
              "<p style=\"color: red;\">\n",
              "The default version of TensorFlow in Colab will soon switch to TensorFlow 2.x.<br>\n",
              "We recommend you <a href=\"https://www.tensorflow.org/guide/migrate\" target=\"_blank\">upgrade</a> now \n",
              "or ensure your notebook will continue to use TensorFlow 1.x via the <code>%tensorflow_version 1.x</code> magic:\n",
              "<a href=\"https://colab.research.google.com/notebooks/tensorflow_version.ipynb\" target=\"_blank\">more info</a>.</p>\n"
            ],
            "text/plain": [
              "<IPython.core.display.HTML object>"
            ]
          },
          "metadata": {
            "tags": []
          }
        }
      ]
    },
    {
      "cell_type": "code",
      "metadata": {
        "id": "xexFmDLOZuZg",
        "colab_type": "code",
        "colab": {}
      },
      "source": [
        "# convert into dataset matrix\n",
        "def convertToMatrix(data, step):\n",
        " X, Y =[], []\n",
        " for i in range(len(data)-step):\n",
        "  d=i+step  \n",
        "  X.append(data[i:d,])\n",
        "  Y.append(data[d,])\n",
        " return np.array(X), np.array(Y)"
      ],
      "execution_count": 0,
      "outputs": []
    },
    {
      "cell_type": "code",
      "metadata": {
        "id": "buL6VQ8QZzeL",
        "colab_type": "code",
        "outputId": "7ce0dee2-3416-4f62-f8f7-94d06446bf57",
        "colab": {
          "base_uri": "https://localhost:8080/",
          "height": 204
        }
      },
      "source": [
        "step = 4\n",
        "N = 1000    \n",
        "Tp = 800    \n",
        "\n",
        "t=np.arange(0,N)\n",
        "x=np.sin(0.02*t)+2*np.random.rand(N)\n",
        "df = pd.DataFrame(x)\n",
        "df.head()"
      ],
      "execution_count": 0,
      "outputs": [
        {
          "output_type": "execute_result",
          "data": {
            "text/html": [
              "<div>\n",
              "<style scoped>\n",
              "    .dataframe tbody tr th:only-of-type {\n",
              "        vertical-align: middle;\n",
              "    }\n",
              "\n",
              "    .dataframe tbody tr th {\n",
              "        vertical-align: top;\n",
              "    }\n",
              "\n",
              "    .dataframe thead th {\n",
              "        text-align: right;\n",
              "    }\n",
              "</style>\n",
              "<table border=\"1\" class=\"dataframe\">\n",
              "  <thead>\n",
              "    <tr style=\"text-align: right;\">\n",
              "      <th></th>\n",
              "      <th>0</th>\n",
              "    </tr>\n",
              "  </thead>\n",
              "  <tbody>\n",
              "    <tr>\n",
              "      <th>0</th>\n",
              "      <td>1.144201</td>\n",
              "    </tr>\n",
              "    <tr>\n",
              "      <th>1</th>\n",
              "      <td>1.284920</td>\n",
              "    </tr>\n",
              "    <tr>\n",
              "      <th>2</th>\n",
              "      <td>0.785797</td>\n",
              "    </tr>\n",
              "    <tr>\n",
              "      <th>3</th>\n",
              "      <td>1.641897</td>\n",
              "    </tr>\n",
              "    <tr>\n",
              "      <th>4</th>\n",
              "      <td>1.801507</td>\n",
              "    </tr>\n",
              "  </tbody>\n",
              "</table>\n",
              "</div>"
            ],
            "text/plain": [
              "          0\n",
              "0  1.144201\n",
              "1  1.284920\n",
              "2  0.785797\n",
              "3  1.641897\n",
              "4  1.801507"
            ]
          },
          "metadata": {
            "tags": []
          },
          "execution_count": 3
        }
      ]
    },
    {
      "cell_type": "code",
      "metadata": {
        "id": "-b8l_c4sZ02I",
        "colab_type": "code",
        "outputId": "b1149c7f-3a78-4e3f-a648-cde224186d5c",
        "colab": {
          "base_uri": "https://localhost:8080/",
          "height": 265
        }
      },
      "source": [
        "plt.plot(df)\n",
        "plt.show()"
      ],
      "execution_count": 0,
      "outputs": [
        {
          "output_type": "display_data",
          "data": {
            "image/png": "[encoded data removed]",
            "text/plain": [
              "<Figure size 432x288 with 1 Axes>"
            ]
          },
          "metadata": {
            "tags": []
          }
        }
      ]
    },
    {
      "cell_type": "code",
      "metadata": {
        "id": "OETjs_L1Z2zx",
        "colab_type": "code",
        "colab": {}
      },
      "source": [
        "values=df.values\n",
        "train,test = values[0:Tp,:], values[Tp:N,:]\n",
        "\n",
        "# add step elements into train and test\n",
        "test = np.append(test,np.repeat(test[-1,],step))\n",
        "train = np.append(train,np.repeat(train[-1,],step))\n",
        " \n",
        "trainX,trainY =convertToMatrix(train,step)\n",
        "testX,testY =convertToMatrix(test,step)\n",
        "trainX = np.reshape(trainX, (trainX.shape[0], 1, trainX.shape[1]))\n",
        "testX = np.reshape(testX, (testX.shape[0], 1, testX.shape[1]))"
      ],
      "execution_count": 0,
      "outputs": []
    },
    {
      "cell_type": "code",
      "metadata": {
        "id": "AcKtwCCHZ4Ww",
        "colab_type": "code",
        "outputId": "6fe1b3af-9e9a-47e6-94b0-629279cd5208",
        "colab": {
          "base_uri": "https://localhost:8080/",
          "height": 433
        }
      },
      "source": [
        "model = Sequential()\n",
        "model.add(SimpleRNN(units=32, input_shape=(1,step), activation=\"relu\"))\n",
        "model.add(Dense(8, activation=\"relu\")) \n",
        "model.add(Dense(1))\n",
        "model.compile(loss='mean_squared_error', optimizer='rmsprop')\n",
        "model.summary()"
      ],
      "execution_count": 0,
      "outputs": [
        {
          "output_type": "stream",
          "text": [
            "WARNING:tensorflow:From /usr/local/lib/python3.6/dist-packages/keras/backend/tensorflow_backend.py:66: The name tf.get_default_graph is deprecated. Please use tf.compat.v1.get_default_graph instead.\n",
            "\n",
            "WARNING:tensorflow:From /usr/local/lib/python3.6/dist-packages/keras/backend/tensorflow_backend.py:541: The name tf.placeholder is deprecated. Please use tf.compat.v1.placeholder instead.\n",
            "\n",
            "WARNING:tensorflow:From /usr/local/lib/python3.6/dist-packages/keras/backend/tensorflow_backend.py:4432: The name tf.random_uniform is deprecated. Please use tf.random.uniform instead.\n",
            "\n",
            "WARNING:tensorflow:From /usr/local/lib/python3.6/dist-packages/keras/optimizers.py:793: The name tf.train.Optimizer is deprecated. Please use tf.compat.v1.train.Optimizer instead.\n",
            "\n",
            "Model: \"sequential_1\"\n",
            "_________________________________________________________________\n",
            "Layer (type)                 Output Shape              Param #   \n",
            "=================================================================\n",
            "simple_rnn_1 (SimpleRNN)     (None, 32)                1184      \n",
            "_________________________________________________________________\n",
            "dense_1 (Dense)              (None, 8)                 264       \n",
            "_________________________________________________________________\n",
            "dense_2 (Dense)              (None, 1)                 9         \n",
            "=================================================================\n",
            "Total params: 1,457\n",
            "Trainable params: 1,457\n",
            "Non-trainable params: 0\n",
            "_________________________________________________________________\n"
          ],
          "name": "stdout"
        }
      ]
    },
    {
      "cell_type": "code",
      "metadata": {
        "id": "tsF5r8eQZ6kr",
        "colab_type": "code",
        "outputId": "b50d6a1c-d5c2-4670-83b7-abd0abf99738",
        "colab": {
          "base_uri": "https://localhost:8080/",
          "height": 1000
        }
      },
      "source": [
        "model.fit(trainX,trainY, epochs=100, batch_size=16, verbose=2)\n",
        "trainPredict = model.predict(trainX)\n",
        "testPredict= model.predict(testX)\n",
        "predicted=np.concatenate((trainPredict,testPredict),axis=0)\n",
        "\n",
        "trainScore = model.evaluate(trainX, trainY, verbose=0)\n",
        "print(trainScore)"
      ],
      "execution_count": 0,
      "outputs": [
        {
          "output_type": "stream",
          "text": [
            "WARNING:tensorflow:From /usr/local/lib/python3.6/dist-packages/keras/backend/tensorflow_backend.py:1033: The name tf.assign_add is deprecated. Please use tf.compat.v1.assign_add instead.\n",
            "\n",
            "WARNING:tensorflow:From /usr/local/lib/python3.6/dist-packages/keras/backend/tensorflow_backend.py:1020: The name tf.assign is deprecated. Please use tf.compat.v1.assign instead.\n",
            "\n",
            "WARNING:tensorflow:From /usr/local/lib/python3.6/dist-packages/keras/backend/tensorflow_backend.py:3005: The name tf.Session is deprecated. Please use tf.compat.v1.Session instead.\n",
            "\n",
            "Epoch 1/100\n",
            "WARNING:tensorflow:From /usr/local/lib/python3.6/dist-packages/keras/backend/tensorflow_backend.py:190: The name tf.get_default_session is deprecated. Please use tf.compat.v1.get_default_session instead.\n",
            "\n",
            "WARNING:tensorflow:From /usr/local/lib/python3.6/dist-packages/keras/backend/tensorflow_backend.py:197: The name tf.ConfigProto is deprecated. Please use tf.compat.v1.ConfigProto instead.\n",
            "\n",
            "WARNING:tensorflow:From /usr/local/lib/python3.6/dist-packages/keras/backend/tensorflow_backend.py:207: The name tf.global_variables is deprecated. Please use tf.compat.v1.global_variables instead.\n",
            "\n",
            "WARNING:tensorflow:From /usr/local/lib/python3.6/dist-packages/keras/backend/tensorflow_backend.py:216: The name tf.is_variable_initialized is deprecated. Please use tf.compat.v1.is_variable_initialized instead.\n",
            "\n",
            "WARNING:tensorflow:From /usr/local/lib/python3.6/dist-packages/keras/backend/tensorflow_backend.py:223: The name tf.variables_initializer is deprecated. Please use tf.compat.v1.variables_initializer instead.\n",
            "\n",
            " - 9s - loss: 0.7642\n",
            "Epoch 2/100\n",
            " - 0s - loss: 0.4121\n",
            "Epoch 3/100\n",
            " - 0s - loss: 0.4021\n",
            "Epoch 4/100\n",
            " - 0s - loss: 0.3975\n",
            "Epoch 5/100\n",
            " - 0s - loss: 0.3963\n",
            "Epoch 6/100\n",
            " - 0s - loss: 0.3940\n",
            "Epoch 7/100\n",
            " - 0s - loss: 0.3913\n",
            "Epoch 8/100\n",
            " - 0s - loss: 0.3920\n",
            "Epoch 9/100\n",
            " - 0s - loss: 0.3904\n",
            "Epoch 10/100\n",
            " - 0s - loss: 0.3912\n",
            "Epoch 11/100\n",
            " - 0s - loss: 0.3895\n",
            "Epoch 12/100\n",
            " - 0s - loss: 0.3899\n",
            "Epoch 13/100\n",
            " - 0s - loss: 0.3891\n",
            "Epoch 14/100\n",
            " - 0s - loss: 0.3863\n",
            "Epoch 15/100\n",
            " - 0s - loss: 0.3861\n",
            "Epoch 16/100\n",
            " - 0s - loss: 0.3863\n",
            "Epoch 17/100\n",
            " - 0s - loss: 0.3846\n",
            "Epoch 18/100\n",
            " - 0s - loss: 0.3855\n",
            "Epoch 19/100\n",
            " - 0s - loss: 0.3839\n",
            "Epoch 20/100\n",
            " - 0s - loss: 0.3829\n",
            "Epoch 21/100\n",
            " - 0s - loss: 0.3821\n",
            "Epoch 22/100\n",
            " - 0s - loss: 0.3820\n",
            "Epoch 23/100\n",
            " - 0s - loss: 0.3824\n",
            "Epoch 24/100\n",
            " - 0s - loss: 0.3778\n",
            "Epoch 25/100\n",
            " - 0s - loss: 0.3809\n",
            "Epoch 26/100\n",
            " - 0s - loss: 0.3798\n",
            "Epoch 27/100\n",
            " - 0s - loss: 0.3784\n",
            "Epoch 28/100\n",
            " - 0s - loss: 0.3794\n",
            "Epoch 29/100\n",
            " - 0s - loss: 0.3773\n",
            "Epoch 30/100\n",
            " - 0s - loss: 0.3768\n",
            "Epoch 31/100\n",
            " - 0s - loss: 0.3775\n",
            "Epoch 32/100\n",
            " - 0s - loss: 0.3757\n",
            "Epoch 33/100\n",
            " - 0s - loss: 0.3772\n",
            "Epoch 34/100\n",
            " - 0s - loss: 0.3755\n",
            "Epoch 35/100\n",
            " - 0s - loss: 0.3763\n",
            "Epoch 36/100\n",
            " - 0s - loss: 0.3749\n",
            "Epoch 37/100\n",
            " - 0s - loss: 0.3755\n",
            "Epoch 38/100\n",
            " - 0s - loss: 0.3741\n",
            "Epoch 39/100\n",
            " - 0s - loss: 0.3730\n",
            "Epoch 40/100\n",
            " - 0s - loss: 0.3733\n",
            "Epoch 41/100\n",
            " - 0s - loss: 0.3716\n",
            "Epoch 42/100\n",
            " - 0s - loss: 0.3730\n",
            "Epoch 43/100\n",
            " - 0s - loss: 0.3717\n",
            "Epoch 44/100\n",
            " - 0s - loss: 0.3721\n",
            "Epoch 45/100\n",
            " - 0s - loss: 0.3705\n",
            "Epoch 46/100\n",
            " - 0s - loss: 0.3692\n",
            "Epoch 47/100\n",
            " - 0s - loss: 0.3707\n",
            "Epoch 48/100\n",
            " - 0s - loss: 0.3679\n",
            "Epoch 49/100\n",
            " - 0s - loss: 0.3696\n",
            "Epoch 50/100\n",
            " - 0s - loss: 0.3677\n",
            "Epoch 51/100\n",
            " - 0s - loss: 0.3664\n",
            "Epoch 52/100\n",
            " - 0s - loss: 0.3664\n",
            "Epoch 53/100\n",
            " - 0s - loss: 0.3656\n",
            "Epoch 54/100\n",
            " - 0s - loss: 0.3642\n",
            "Epoch 55/100\n",
            " - 0s - loss: 0.3654\n",
            "Epoch 56/100\n",
            " - 0s - loss: 0.3670\n",
            "Epoch 57/100\n",
            " - 0s - loss: 0.3662\n",
            "Epoch 58/100\n",
            " - 0s - loss: 0.3644\n",
            "Epoch 59/100\n",
            " - 0s - loss: 0.3633\n",
            "Epoch 60/100\n",
            " - 0s - loss: 0.3639\n",
            "Epoch 61/100\n",
            " - 0s - loss: 0.3641\n",
            "Epoch 62/100\n",
            " - 0s - loss: 0.3644\n",
            "Epoch 63/100\n",
            " - 0s - loss: 0.3624\n",
            "Epoch 64/100\n",
            " - 0s - loss: 0.3612\n",
            "Epoch 65/100\n",
            " - 0s - loss: 0.3612\n",
            "Epoch 66/100\n",
            " - 0s - loss: 0.3598\n",
            "Epoch 67/100\n",
            " - 0s - loss: 0.3609\n",
            "Epoch 68/100\n",
            " - 0s - loss: 0.3608\n",
            "Epoch 69/100\n",
            " - 0s - loss: 0.3593\n",
            "Epoch 70/100\n",
            " - 0s - loss: 0.3579\n",
            "Epoch 71/100\n",
            " - 0s - loss: 0.3565\n",
            "Epoch 72/100\n",
            " - 0s - loss: 0.3589\n",
            "Epoch 73/100\n",
            " - 0s - loss: 0.3558\n",
            "Epoch 74/100\n",
            " - 0s - loss: 0.3576\n",
            "Epoch 75/100\n",
            " - 0s - loss: 0.3550\n",
            "Epoch 76/100\n",
            " - 0s - loss: 0.3560\n",
            "Epoch 77/100\n",
            " - 0s - loss: 0.3569\n",
            "Epoch 78/100\n",
            " - 0s - loss: 0.3552\n",
            "Epoch 79/100\n",
            " - 0s - loss: 0.3531\n",
            "Epoch 80/100\n",
            " - 0s - loss: 0.3519\n",
            "Epoch 81/100\n",
            " - 0s - loss: 0.3533\n",
            "Epoch 82/100\n",
            " - 0s - loss: 0.3527\n",
            "Epoch 83/100\n",
            " - 0s - loss: 0.3529\n",
            "Epoch 84/100\n",
            " - 0s - loss: 0.3529\n",
            "Epoch 85/100\n",
            " - 0s - loss: 0.3528\n",
            "Epoch 86/100\n",
            " - 0s - loss: 0.3536\n",
            "Epoch 87/100\n",
            " - 0s - loss: 0.3519\n",
            "Epoch 88/100\n",
            " - 0s - loss: 0.3526\n",
            "Epoch 89/100\n",
            " - 0s - loss: 0.3500\n",
            "Epoch 90/100\n",
            " - 0s - loss: 0.3508\n",
            "Epoch 91/100\n",
            " - 0s - loss: 0.3507\n",
            "Epoch 92/100\n",
            " - 0s - loss: 0.3509\n",
            "Epoch 93/100\n",
            " - 0s - loss: 0.3495\n",
            "Epoch 94/100\n",
            " - 0s - loss: 0.3506\n",
            "Epoch 95/100\n",
            " - 0s - loss: 0.3493\n",
            "Epoch 96/100\n",
            " - 0s - loss: 0.3491\n",
            "Epoch 97/100\n",
            " - 0s - loss: 0.3478\n",
            "Epoch 98/100\n",
            " - 0s - loss: 0.3484\n",
            "Epoch 99/100\n",
            " - 0s - loss: 0.3489\n",
            "Epoch 100/100\n",
            " - 0s - loss: 0.3486\n",
            "0.3414746487140656\n"
          ],
          "name": "stdout"
        }
      ]
    },
    {
      "cell_type": "code",
      "metadata": {
        "id": "GlxseXMaZ8B0",
        "colab_type": "code",
        "outputId": "147ce03c-35f0-4000-fc30-602cb0b9bc8b",
        "colab": {
          "base_uri": "https://localhost:8080/",
          "height": 265
        }
      },
      "source": [
        "index = df.index.values\n",
        "plt.plot(index,df)\n",
        "plt.plot(index,predicted)\n",
        "plt.axvline(df.index[Tp], c=\"r\")\n",
        "plt.show()"
      ],
      "execution_count": 0,
      "outputs": [
        {
          "output_type": "display_data",
          "data": {
            "image/png": "[encoded data removed]",
            "text/plain": [
              "<Figure size 432x288 with 1 Axes>"
            ]
          },
          "metadata": {
            "tags": []
          }
        }
      ]
    },
    {
      "cell_type": "code",
      "metadata": {
        "id": "dHxiMsG2awa0",
        "colab_type": "code",
        "colab": {}
      },
      "source": [
        ""
      ],
      "execution_count": 0,
      "outputs": []
    }
  ]
}